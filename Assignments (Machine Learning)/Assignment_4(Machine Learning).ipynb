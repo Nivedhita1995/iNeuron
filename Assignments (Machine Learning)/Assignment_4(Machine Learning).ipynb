{
 "cells": [
  {
   "cell_type": "markdown",
   "id": "30601a4e",
   "metadata": {},
   "source": [
    "1. What are the key tasks involved in getting ready to work with machine learning modeling?"
   ]
  },
  {
   "cell_type": "markdown",
   "id": "6bb84024",
   "metadata": {},
   "source": [
    "The Key Tasks involved in getting ready to work with Machine learning Modelling are:\n",
    "\n",
    "Define the Problem:\n",
    "  Clearly define the problem you want to solve using machine learning.\n",
    "  Specify the goal, such as classification, regression, clustering, or anomaly detection.\n",
    "Gather and Preprocess Data:\n",
    "  Collect relevant data that is representative of the problem domain.\n",
    "  Clean the data by removing outliers, handling missing values, and dealing with inconsistencies.\n",
    "  Split the data into training and testing sets to evaluate the model's performance.\n",
    "Perform Exploratory Data Analysis (EDA):\n",
    "  Analyze and visualize the data to gain insights into its characteristics and relationships.\n",
    "  Identify correlations, patterns, and potential challenges in the data.\n",
    "Feature Engineering:\n",
    "  Select or create meaningful features that capture the important aspects of the data.\n",
    "  Transform the data into a suitable format for the learning algorithm.\n",
    "  Perform feature scaling or normalization to ensure fairness in feature contributions.\n",
    "Select a Model:\n",
    "  Choose an appropriate machine learning algorithm based on the problem type and data characteristics.\n",
    "  Evaluate different models using performance metrics and cross-validation techniques.\n",
    "Train the Model:\n",
    "  Feed the training data into the selected model.\n",
    "  The model learns from the input data and adjusts its internal parameters through an optimization process.\n",
    "  The objective is to minimize a loss or error function that measures the model's performance.\n",
    "Validate and Tune the Model:\n",
    "  Evaluate the trained model on the testing data to assess its generalization and performance.\n",
    "  Fine-tune the model by adjusting hyperparameters, such as learning rate, regularization, or number of layers.\n",
    "Assess Model Performance:\n",
    "  Measure the model's performance using appropriate evaluation metrics, such as accuracy, precision, recall or MSE.\n",
    "Deploy and Monitor the Model:\n",
    "  Deploy the trained model into a production environment or integrate it into an application or system.\n",
    "  Continuously monitor the model's performance and update it as new data becomes available.\n",
    "Iterate and Improve:\n",
    "  Learn from the insights gained during the process and refine the approach if necessary.\n",
    "  Iterate and repeat the process to develop more accurate and robust models."
   ]
  },
  {
   "cell_type": "markdown",
   "id": "390faaff",
   "metadata": {},
   "source": [
    "2. What are the different forms of data used in machine learning? Give a specific example for each of\n",
    "them."
   ]
  },
  {
   "cell_type": "markdown",
   "id": "2393c872",
   "metadata": {},
   "source": [
    "Most data can be categorized into 4 basic types from a Machine Learning perspective: Numerical Data, Categorical Data, Time-Series Data, and Text data.\n",
    "\n",
    "Numerical Data:\n",
    "\n",
    "Numerical data consists of numerical values that can be continuous or discrete.\n",
    "Example: Predicting house prices based on features like square footage, number of bedrooms, and location. The input variables (features) in this case are numerical values.\n",
    "\n",
    "Categorical Data:\n",
    "\n",
    "Categorical data represents discrete values that belong to specific categories or groups.\n",
    "Example: Classifying customer feedback as positive, neutral, or negative. The input variable represents the category or label assigned to each feedback.\n",
    "\n",
    "Text Data:\n",
    "\n",
    "Text data consists of unstructured textual information such as sentences, documents, or paragraphs.\n",
    "Example: Sentiment analysis of customer reviews. The input is the text of the reviews, and the task is to determine the sentiment (positive, negative, or neutral) expressed in the text.\n",
    "\n",
    "Time Series Data:\n",
    "\n",
    "Time series data represents observations recorded over time, typically at regular intervals.\n",
    "Example: Stock market forecasting. The input data is a sequence of historical stock prices, and the task is to predict future price movements based on past trends."
   ]
  },
  {
   "cell_type": "markdown",
   "id": "e38291db",
   "metadata": {},
   "source": [
    "3. Distinguish:\n",
    "\n",
    "1. Numeric vs. categorical attributes\n",
    "\n",
    "2. Feature selection vs. dimensionality reduction"
   ]
  },
  {
   "cell_type": "markdown",
   "id": "434f9661",
   "metadata": {},
   "source": [
    "1. Numeric vs. categorical attributes\n",
    "Numeric attributes, also known as continuous or quantitative attributes, represent numerical values that can be measured or expressed on a continuous scale.\n",
    "Categorical attributes, also known as qualitative or discrete attributes, represent variables that have a limited set of distinct categories or values.\n",
    "\n",
    "Numeric attributes can be subjected to mathematical operations such as addition, subtraction, multiplication, and division. Categorical attributes, on the other hand, cannot be mathematically operated on.\n",
    "\n",
    "Numerical data are analysed using statistical methods in descriptive statistics, regression, time series and many more.For categorical data usually descriptive methods and graphical methods are employed. \n",
    "\n",
    "2. Feature selection vs. dimensionality reduction\n",
    "Feature selection is to select a subset of the original feature set, without any manipulation of the data on the other hand.\n",
    "Dimensionality reduction is typically choosing a new representation within which you can describe most but not all of the variance within your data, thereby retaining the relevant information, while reducing the amount of information necessary to represent it."
   ]
  },
  {
   "cell_type": "markdown",
   "id": "606e9cf1",
   "metadata": {},
   "source": [
    "4. Make quick notes on any two of the following:\n",
    "\n",
    "1. The histogram\n",
    "\n",
    "2. Use a scatter plot\n",
    "\n",
    "3.PCA (Personal Computer Aid)"
   ]
  },
  {
   "cell_type": "markdown",
   "id": "6ccd47db",
   "metadata": {},
   "source": [
    "1. The histogram\n",
    "A Histogram is a graphical representation that organizes a group of data points into user-specified ranges. Similar in appearance to a bar graph, the histogram condenses a data series into an easily interpreted visual by taking many data points and grouping them into logical ranges or bins.\n",
    "\n",
    "2. Use a scatter plot: A scatter plot (aka scatter chart, scatter graph) uses dots to represent values for two different numeric variables. The position of each dot on the horizontal and vertical axis indicates values for an individual data point. Scatter plots are used to observe relationships between variables.\n",
    "\n",
    "3. PCA (Personal Computer Aid): \n",
    "Principal Component Analysis or PCA is a widely used technique for dimensionality reduction of the large data set. Reducing the number of components or features costs some accuracy and on the other hand, it makes the large data set simpler, easy to explore and visualize."
   ]
  },
  {
   "cell_type": "markdown",
   "id": "31f96edd",
   "metadata": {},
   "source": [
    "5. Why is it necessary to investigate data? Is there a discrepancy in how qualitative and quantitative\n",
    "data are explored?"
   ]
  },
  {
   "cell_type": "markdown",
   "id": "6552d11c",
   "metadata": {},
   "source": [
    "Investigating data is crucial because it helps us gain insights, understand patterns, identify trends, and make informed decisions.\n",
    "\n",
    "Whether it's qualitative or quantitative data, the process of exploration allows us to extract meaningful information and draw conclusions."
   ]
  },
  {
   "cell_type": "markdown",
   "id": "97f312e8",
   "metadata": {},
   "source": [
    "6. What are the various histogram shapes? What exactly are 'bins'?"
   ]
  },
  {
   "cell_type": "markdown",
   "id": "9e18cf11",
   "metadata": {},
   "source": [
    "The different types of a Histogram are:\n",
    "\n",
    "Symmetric/Bell-shaped:\n",
    "   A symmetric histogram forms a smooth, bell-shaped curve. It typically indicates a normal distribution, where the data is evenly distributed around the mean. \n",
    "   \n",
    "Skewed right/Positive skew:\n",
    "   A histogram with a longer tail on the right side is said to be positively skewed. This indicates that the majority of the data is concentrated on the left side, while a few extreme values extend the distribution towards the right.In a positively skewed distribution, the mean is typically greater than the median.\n",
    "  \n",
    "Skewed left/Negative skew:\n",
    "   A histogram with a longer tail on the left side is said to be negatively skewed. This indicates that the majority of the data is concentrated on the right side, while a few extreme values extend the distribution towards the left. In a negatively skewed distribution, the mean is typically less than the median.\n",
    "   \n",
    "Bimodal: \n",
    "   A bimodal histogram has two distinct peaks, indicating that the data has two different modes or clusters. It suggests that there are two separate groups or categories within the data, each with its own distribution.\n",
    "   \n",
    "Uniform: \n",
    "   A uniform histogram shows a relatively flat distribution, with no particular peaks or valleys. It suggests that the data is evenly distributed across the range of values, with no significant clustering or patterns.\n",
    "   \n",
    "Multimodal: \n",
    "   A multimodal histogram has more than two distinct peaks, indicating multiple modes or clusters within the data. Each peak represents a different group or category.\n",
    "\n",
    "Irregular/Asymmetric: An irregular or asymmetric histogram lacks a well-defined shape or pattern. It may indicate a complex or heterogeneous dataset with no clear underlying distribution.\n",
    "\n",
    "\n",
    "The bin in a histogram is the choice of unit and spacing on the X-axis. All the data in a probability distribution represented visually by a histogram is filled into the corresponding bins. The height of each bin is a measurement of the frequency with which data appears inside the range of that bin in the distribution."
   ]
  },
  {
   "cell_type": "markdown",
   "id": "f36482a8",
   "metadata": {},
   "source": [
    "7. How do we deal with data outliers?"
   ]
  },
  {
   "cell_type": "markdown",
   "id": "d7ba2ab5",
   "metadata": {},
   "source": [
    "Identify outliers: \n",
    "By using statistical techniques like the z-score or interquartile range (IQR) to detect observations that are significantly different from the rest of the data. Data points falling outside a certain range based on these methods are often considered outliers.\n",
    "\n",
    "Investigate the source:\n",
    "Investigate their source and understand whether they are legitimate data points or the result of measurement errors, data entry mistakes, or other anomalies. \n",
    "\n",
    "Decide on treatment: \n",
    "The appropriate treatment for outliers depends on the specific context and the nature of the data. \n",
    "     Removal: In some cases, outliers can be removed from the dataset if they are identified as data errors or if they significantly affect the analysis. \n",
    "     Winsorization/Trimming:  Winsorizing can be done by replacing outliers with the nearest non-outlier values, whereas trimming involves capping or truncating extreme values at a certain percentile.\n",
    "     Transformation: In certain situations, transforming the data using mathematical functions (e.g., logarithmic, square root) can help mitigate the influence of outliers. \n",
    "     Treat separately: Depending on the research question and context, outliers can be treated as a separate group or category, and separate analysis can be performed for that subgroup.\n",
    "\n",
    "Document and justify: \n",
    "his helps ensure transparency and allows others to understand and reproduce the analysis.\n",
    "\n",
    "Consider robust statistics: \n",
    "In situations where outliers have a strong impact on statistical measures like the mean and standard deviation, using robust statistical measures that are less sensitive to outliers, such as the median and interquartile range, can provide more reliable results."
   ]
  },
  {
   "cell_type": "markdown",
   "id": "7068baf7",
   "metadata": {},
   "source": [
    "8. What are the various central inclination measures? Why does mean vary too much from median in\n",
    "certain data sets?"
   ]
  },
  {
   "cell_type": "markdown",
   "id": "1ab17c73",
   "metadata": {},
   "source": [
    "Mean, Median and Mode are Central Inclination Measures. \n",
    "Mean varies more than Median due to presence of outliers,or skewed distributions. \n",
    "The mean is more sensitive to outliers and extreme values, which can cause it to vary significantly from the median in datasets with skewed distributions, outliers, or heterogeneous data. The median is more robust to extreme values and outliers, making it a better choice when the data distribution is skewed or contains outliers."
   ]
  },
  {
   "cell_type": "markdown",
   "id": "0e36d7db",
   "metadata": {},
   "source": [
    "9. Describe how a scatter plot can be used to investigate bivariate relationships. Is it possible to find\n",
    "outliers using a scatter plot?"
   ]
  },
  {
   "cell_type": "markdown",
   "id": "accb72b1",
   "metadata": {},
   "source": [
    "A scatter plot is a graphical representation of bivariate data, where each data point is plotted as a point on a Cartesian coordinate system. It is commonly used to explore the relationship between two variables and to identify patterns, trends, or correlations between them. By visually examining the scatter plot, we can gain insights into the nature and strength of the relationship between the variables."
   ]
  },
  {
   "cell_type": "markdown",
   "id": "29e535dc",
   "metadata": {},
   "source": [
    "10. Describe how cross-tabs can be used to figure out how two variables are related."
   ]
  },
  {
   "cell_type": "markdown",
   "id": "07a7cece",
   "metadata": {},
   "source": [
    "Cross-tabulation, or crosstab, is a method used to analyze the relationship between two categorical variables. It involves creating a contingency table, also known as a cross-tabulation table, which displays the frequency distribution of the variables' categories in a tabular format.\n",
    "It allows us to examine patterns, dependencies, and associations, providing insights into how the variables are related.\n"
   ]
  },
  {
   "cell_type": "markdown",
   "id": "71d89e47",
   "metadata": {},
   "source": []
  }
 ],
 "metadata": {
  "kernelspec": {
   "display_name": "Python 3 (ipykernel)",
   "language": "python",
   "name": "python3"
  },
  "language_info": {
   "codemirror_mode": {
    "name": "ipython",
    "version": 3
   },
   "file_extension": ".py",
   "mimetype": "text/x-python",
   "name": "python",
   "nbconvert_exporter": "python",
   "pygments_lexer": "ipython3",
   "version": "3.9.12"
  }
 },
 "nbformat": 4,
 "nbformat_minor": 5
}
