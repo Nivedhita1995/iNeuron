{
 "cells": [
  {
   "cell_type": "markdown",
   "id": "8672e2dd",
   "metadata": {},
   "source": [
    "#1. What does one mean by the term \"machine learning\"?"
   ]
  },
  {
   "cell_type": "markdown",
   "id": "28f80b25",
   "metadata": {},
   "source": [
    "Machine Learning is the subset of AI techniques which use statistial methods to enable machines to improve with experience.\n",
    "By combining algorithms with historical data to train a model, this trained model can then make predications on new data or decision-making processes without being explicitly programmed to do so."
   ]
  },
  {
   "cell_type": "markdown",
   "id": "fcae6cec",
   "metadata": {},
   "source": [
    "#2.Can you think of 4 distinct types of issues where it shines?"
   ]
  },
  {
   "cell_type": "markdown",
   "id": "8dd91ffd",
   "metadata": {},
   "source": [
    "-> Predict Traffic Patterns\n",
    "Example: Google maps. When we enter our location on the map, the application collects massive amounts of data about the present traffic to generate predictions regarding the upcoming traffic and identify the fastest route to our destination.   \n",
    "\n",
    "-> E-commerce Product Recommendations\n",
    "One of the prominent elements of typically any e-commerce website is product recommendation, which involves the sophisticated use of machine learning algorithms. Websites track customer behavior based on past purchases, browsing habits, and cart history and then recommend products using machine learning and AI.\n",
    "\n",
    "-> Self-Driving Cars\n",
    "Self-driving cars use an unsupervised learning algorithm that heavily relies on machine learning techniques. This algorithm enables the vehicle to collect information from cameras and sensors about its surroundings, understand it, and choose what actions to perform.\n",
    "\n",
    "-> Speech Recognition\n",
    "ML software can make measurements of words spoken using a collection of numbers that represent the speech signal. Popular applications that employ speech recognition include Amazon’s Alexa, Apple’s Siri, and Google Maps.\n"
   ]
  },
  {
   "cell_type": "markdown",
   "id": "53d3d8f5",
   "metadata": {},
   "source": [
    "#3.What is a labeled training set, and how doesLabeled training sets enable the learning algorithms to understand the underlying patterns in the data and make predictions or classifications on new, unseen instances. it work?"
   ]
  },
  {
   "cell_type": "markdown",
   "id": "317423f6",
   "metadata": {},
   "source": [
    "-> A labeled training set, also known as labeled data or labeled examples, is a dataset used in machine learning and supervised learning algorithms. It consists of input data (features) along with corresponding output labels (classifications or target values) for each example.\n",
    "-> In a labeled training set, each data instance or example is associated with a specific label or class that represents the desired output or the ground truth. The labels can be categorical (e.g., class labels) or numerical (e.g., target values).\n",
    "-> Labeled training sets enable the learning algorithms to understand the underlying patterns in the data and make predictions or classifications on new, unseen instances.\n",
    "-> Labeled training sets are essential for training and building predictive models in supervised learning.    \n"
   ]
  },
  {
   "cell_type": "markdown",
   "id": "689d3ea4",
   "metadata": {},
   "source": [
    "#4.What are the two most important tasks that are supervised?"
   ]
  },
  {
   "cell_type": "markdown",
   "id": "d9c0d64e",
   "metadata": {},
   "source": [
    "-> The two most common supervised learning tasks are Regression and Classification."
   ]
  },
  {
   "cell_type": "markdown",
   "id": "e505ba0d",
   "metadata": {},
   "source": [
    "#5.Can you think of four examples of unsupervised tasks?"
   ]
  },
  {
   "cell_type": "markdown",
   "id": "610ac2a0",
   "metadata": {},
   "source": [
    "-> Clustering: \n",
    "    Clustering is a common unsupervised learning task where the goal is to group similar data points together based on their inherent patterns or similarities. The algorithm automatically discovers clusters or groups within the data without any prior knowledge of the class labels. It is widely used in customer segmentation, image recognition, anomaly detection, and recommendation systems.\n",
    "\n",
    "-> Dimensionality Reduction: \n",
    "    Dimensionality reduction techniques aim to reduce the number of features or variables in a dataset while preserving the important information. By reducing the dimensionality, the algorithms simplify the data representation and remove noise or redundant features. Principal Component Analysis (PCA) and t-SNE (t-Distributed Stochastic Neighbor Embedding) are popular dimensionality reduction methods used for visualization, feature extraction, and data compression.\n",
    "\n",
    "-> Anomaly Detection: \n",
    "    Anomaly detection involves identifying rare or abnormal patterns in the data that deviate significantly from the norm or expected behavior. Unsupervised anomaly detection algorithms learn the normal patterns from unlabeled data and detect instances that differ significantly from those patterns. Anomaly detection is used in fraud detection, network intrusion detection, system health monitoring, and detecting manufacturing defects.\n",
    "\n",
    "-> Association Rule Mining: \n",
    "    Association rule mining is the process of discovering interesting relationships or associations among items in large datasets. It aims to find frequent patterns, co-occurrences, or correlations between items without any specific target variable. One common application of association rule mining is market basket analysis, where the goal is to identify associations between products that are frequently purchased together. It helps in understanding customer buying behavior, cross-selling, and product recommendation."
   ]
  },
  {
   "cell_type": "markdown",
   "id": "11e6678b",
   "metadata": {},
   "source": [
    "#6.State the machine learning model that would be best to make a robot walk through various unfamiliar terrains?"
   ]
  },
  {
   "cell_type": "markdown",
   "id": "3763fcbc",
   "metadata": {},
   "source": [
    "-> The Machine Learning algorithm to allow a Robot to walk in unfamiliar terrains is Reinforced Learning, where the robot can learn from response of the terrain to optimize itself."
   ]
  },
  {
   "cell_type": "markdown",
   "id": "ba70ce39",
   "metadata": {},
   "source": [
    "#7.Which algorithm will you use to divide your customers into different groups?"
   ]
  },
  {
   "cell_type": "markdown",
   "id": "60539048",
   "metadata": {},
   "source": [
    "-> Algorithm which can be used to divide your customers into different groups is either Supervised Learning (if the groups have known labels) or Unsupervised Learning (if there are no group labels)."
   ]
  },
  {
   "cell_type": "markdown",
   "id": "0cf9a0f8",
   "metadata": {},
   "source": [
    "#8.Will you consider the problem of spam detection to be a supervised or unsupervised learning problem?"
   ]
  },
  {
   "cell_type": "markdown",
   "id": "9751f4a7",
   "metadata": {},
   "source": [
    "-> Spam detection is a Supervised Machine Learning problem because the labels are known (spam or no spam)."
   ]
  },
  {
   "cell_type": "markdown",
   "id": "3b8590de",
   "metadata": {},
   "source": [
    "#9.What is the concept of an online learning system?"
   ]
  },
  {
   "cell_type": "markdown",
   "id": "a6ad817f",
   "metadata": {},
   "source": [
    "-> An online learning system, also known as online machine learning or incremental learning, is a learning paradigm where a machine learning model is continuously updated and adapted to new data in an online fashion.\n",
    "-> Online learning allows for real-time updates and incremental training.\n",
    "-> In an online learning system, the model learns from individual data instances or small batches of data at a time, sequentially processing and updating its parameters as new observations arrive. The model is trained on the new data while retaining knowledge from previous training data. This iterative process allows the model to adapt to changing data distributions, handle evolving patterns, and make predictions or decisions on-the-fly.\n",
    "-> Online learning systems have applications in various domains, including online advertising, recommender systems, fraud detection, real-time monitoring, and predictive maintenance. \n"
   ]
  },
  {
   "cell_type": "markdown",
   "id": "6f9e8ab1",
   "metadata": {},
   "source": [
    "#10.What is out-of-core learning, and how does it differ from core learning?"
   ]
  },
  {
   "cell_type": "markdown",
   "id": "27370d85",
   "metadata": {},
   "source": [
    "-> Out-of-core learning, also known as \"out-of-memory learning\" or \"external memory learning,\" is a technique used in machine learning when the dataset is too large to fit into the memory (RAM) of a single machine. It involves processing and training machine learning models directly from data stored on disk or in an external storage system, without loading the entire dataset into memory.\n",
    "-> In contrast, core learning refers to the traditional approach where the entire dataset is loaded into memory before training the machine learning model. This assumes that the available memory can accommodate the entire dataset."
   ]
  },
  {
   "cell_type": "markdown",
   "id": "66784d11",
   "metadata": {},
   "source": [
    "#11.What kind of learning algorithm makes predictions using a similarity measure?"
   ]
  },
  {
   "cell_type": "markdown",
   "id": "a3c610af",
   "metadata": {},
   "source": [
    "-> The type of learning algorithm that makes predictions using a similarity measure is instance-based learning algorithm or a lazy learning algorithm.\n",
    "-> Instance-based learning algorithms do not explicitly build a general model during the training phase but instead store the training instances in memory.\n",
    "-> Instance-based learning algorithms have the advantage of being able to handle complex decision boundaries and adapt well to changes in the data distribution. "
   ]
  },
  {
   "cell_type": "markdown",
   "id": "1f2e2906",
   "metadata": {},
   "source": [
    "#12.What's the difference between a model parameter and a hyperparameter in a learning algorithm?"
   ]
  },
  {
   "cell_type": "markdown",
   "id": "9571c1fb",
   "metadata": {},
   "source": [
    "-> The main difference between model parameters and hyperparameters is that model parameters are learned from the data during the training process, while hyperparameters are predefined and set before the learning process begins. \n",
    "-> Model parameters capture the learned knowledge and patterns from the data, whereas hyperparameters govern the behavior and settings of the learning algorithm itself."
   ]
  },
  {
   "cell_type": "markdown",
   "id": "8e127e5a",
   "metadata": {},
   "source": [
    "#13.What are the criteria that model-based learning algorithms look for? What is the most popular method they use to achieve success? What method do they use to make predictions?"
   ]
  },
  {
   "cell_type": "markdown",
   "id": "263cbff1",
   "metadata": {},
   "source": [
    "-> Model based learning algorithm search for the optimal value of parameters in a model that will give the best results for the new instances. \n",
    "-> Cost function or similar is used to determine what the parameter value has to be in order to minimize the function. The model makes prediction by using the value of the new instance and the parameters in its function."
   ]
  },
  {
   "cell_type": "markdown",
   "id": "3f4a9999",
   "metadata": {},
   "source": [
    "#14.Can you name four of the most important Machine Learning challenges?"
   ]
  },
  {
   "cell_type": "markdown",
   "id": "0dcdb032",
   "metadata": {},
   "source": [
    "-> Data Quality and Availability\n",
    "-> Overfitting and Underfitting\n",
    "-> Feature Engineering\n",
    "-> Privacy and Security"
   ]
  },
  {
   "cell_type": "markdown",
   "id": "8e336d1f",
   "metadata": {},
   "source": [
    "#15.What happens if the model performs well on the training data but fails to generalize the results to new situations? Can you think of three different options?"
   ]
  },
  {
   "cell_type": "markdown",
   "id": "7cd832d1",
   "metadata": {},
   "source": [
    "-> Overfitting occurs when a model performs well on the training data but fails to generalize the results to new situations.\n",
    "-> Balancing model complexity to avoid overfitting and techniques such as regularization and cross-validation are used to address these issues."
   ]
  },
  {
   "cell_type": "markdown",
   "id": "28f0217b",
   "metadata": {},
   "source": [
    "#16.What exactly is a test set, and why would you need one?"
   ]
  },
  {
   "cell_type": "markdown",
   "id": "078e4248",
   "metadata": {},
   "source": [
    "-> A test set is a separate portion of a dataset that is withheld and not used during the model training process. \n",
    "-> It serves as an independent evaluation set to assess the performance and generalization ability of a trained model."
   ]
  },
  {
   "cell_type": "markdown",
   "id": "0cb2035a",
   "metadata": {},
   "source": [
    "#17.What is a validation set's purpose?"
   ]
  },
  {
   "cell_type": "markdown",
   "id": "dbd5f73c",
   "metadata": {},
   "source": [
    "-> The purpose of a validation set, also known as a development set or hold-out set, in machine learning is to assess and fine-tune the performance of a trained model during the model development process. \n",
    "-> It serves as an intermediate evaluation set between the training set and the final test set."
   ]
  },
  {
   "cell_type": "markdown",
   "id": "c9a0491a",
   "metadata": {},
   "source": [
    "#18.What precisely is the train-dev kit, when will you need it, how do you put it to use?"
   ]
  },
  {
   "cell_type": "markdown",
   "id": "f8e2e0c5",
   "metadata": {},
   "source": [
    "-> The train-dev kit, also known as the train-dev split or training-dev set, is a subset of the original training data that is created by further splitting the training set. \n",
    "-> It is used to evaluate and diagnose the performance of a trained model during the development and fine-tuning phase. \n",
    "-> The train-dev kit is distinct from the validation set and is particularly helpful in scenarios where the validation set is not sufficient for model evaluation.In situations where more detailed performance analysis and diagnosis are required, the train-dev kit can be a valuable tool in the machine learning development process."
   ]
  },
  {
   "cell_type": "markdown",
   "id": "a092e8d6",
   "metadata": {},
   "source": [
    "#19.What could go wrong if you use the test set to tune hyperparameters?"
   ]
  },
  {
   "cell_type": "markdown",
   "id": "7cccd702",
   "metadata": {},
   "source": [
    "-> Overfitting to the Test Set\n",
    "-> Optimistic Performance Estimates\n",
    "-> Lack of Generalization\n",
    "-> Leakage of Information"
   ]
  },
  {
   "cell_type": "markdown",
   "id": "239a3a2a",
   "metadata": {},
   "source": []
  }
 ],
 "metadata": {
  "kernelspec": {
   "display_name": "Python 3 (ipykernel)",
   "language": "python",
   "name": "python3"
  },
  "language_info": {
   "codemirror_mode": {
    "name": "ipython",
    "version": 3
   },
   "file_extension": ".py",
   "mimetype": "text/x-python",
   "name": "python",
   "nbconvert_exporter": "python",
   "pygments_lexer": "ipython3",
   "version": "3.9.12"
  }
 },
 "nbformat": 4,
 "nbformat_minor": 5
}
