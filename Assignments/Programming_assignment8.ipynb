{
 "cells": [
  {
   "cell_type": "raw",
   "id": "a8485f02",
   "metadata": {},
   "source": [
    "1. Write a Python Program to Add Two Matrices?\n",
    "2. Write a Python Program to Multiply Two Matrices?\n",
    "3. Write a Python Program to Transpose a Matrix?\n",
    "4. Write a Python Program to Sort Words in Alphabetic Order?\n",
    "5. Write a Python Program to Remove Punctuation From a String?"
   ]
  },
  {
   "cell_type": "raw",
   "id": "091df3b0",
   "metadata": {},
   "source": [
    "#1. Write a Python Program to Add Two Matrices?"
   ]
  },
  {
   "cell_type": "raw",
   "id": "43155971",
   "metadata": {},
   "source": [
    "def addMatrices(a,b):\n",
    "    print(f'Inputs: {a},{b}')\n",
    "    if len(a) == len(b):\n",
    "        result = []\n",
    "        for i in range(len(a)):\n",
    "            if len(a[i]) == len(b[i]):\n",
    "                result.append([])\n",
    "                for j in range(len(a[i])):\n",
    "                    result[i].append(a[i][j]+b[i][j])\n",
    "            else:\n",
    "                print('Matrices should contain same number of rows and columns') \n",
    "    else:\n",
    "        print('Matrices should contain same number of rows and columns')\n",
    "    print(f'Output: {result}')\n",
    "    \n",
    "addMatrices([[1,2,3],[4,5,6],[7,8,9]],[[10,11,12],[13,14,15],[16,17,18]])"
   ]
  },
  {
   "cell_type": "raw",
   "id": "52dc94a3",
   "metadata": {},
   "source": [
    "#2. Write a Python Program to Multiply Two Matrices?"
   ]
  },
  {
   "cell_type": "raw",
   "id": "8e4db4de",
   "metadata": {},
   "source": [
    "\n",
    "a = [[1, 2, 3],\n",
    "     [4, 5, 6],\n",
    "     [7, 8, 9]]\n",
    "\n",
    "b = [[10, 11],\n",
    "     [12, 13],\n",
    "     [14, 15]]\n",
    "\n",
    "# create an empty matrix to store the result\n",
    "result = [[0, 0],\n",
    "          [0, 0],\n",
    "          [0, 0]]\n",
    "\n",
    "# iterate through rows of matrix1\n",
    "for i in range(len(a)):\n",
    "    # iterate through columns of matrix2\n",
    "    for j in range(len(b[0])):\n",
    "        # iterate through rows of matrix2\n",
    "        for k in range(len(b)):\n",
    "            result[i][j] += a[i][k] * b[k][j]\n",
    "\n",
    "# print the result\n",
    "for output in result:\n",
    "    print(output)\n"
   ]
  },
  {
   "cell_type": "raw",
   "id": "a9203011",
   "metadata": {},
   "source": [
    "#3. Write a Python Program to Transpose a Matrix?"
   ]
  },
  {
   "cell_type": "raw",
   "id": "931ff1be",
   "metadata": {},
   "source": [
    "def gen_transpose(in_matrix):\n",
    "    transpose = []\n",
    "    for items in range(len(in_matrix[0])):\n",
    "        transpose.append([0 for i in range(len(in_matrix))])\n",
    "    for i in range(len(in_matrix)):\n",
    "        for j in range(len(in_matrix[i])):\n",
    "            transpose[j][i] = in_matrix[i][j]\n",
    "    print(f'{in_matrix} -> {transpose}')\n",
    "\n",
    "    \n",
    "a = ([[1,2,3],[4,5,6],[7,8,9]])\n",
    "gen_transpose(a)"
   ]
  },
  {
   "cell_type": "raw",
   "id": "4fe9e3d6",
   "metadata": {},
   "source": [
    "#4. Write a Python Program to Sort Words in Alphabetic Order?"
   ]
  },
  {
   "cell_type": "raw",
   "id": "b27b9b35",
   "metadata": {},
   "source": [
    "words = input(\"Hello world, My lucky number is 7\").split()\n",
    "sorted_words = sorted(words)\n",
    "print(\"The sorted words are:\")\n",
    "for word in sorted_words:\n",
    "    print(word)\n"
   ]
  },
  {
   "cell_type": "raw",
   "id": "e43c5dbc",
   "metadata": {},
   "source": [
    "#5. Write a Python Program to Remove Punctuation From a String?"
   ]
  },
  {
   "cell_type": "raw",
   "id": "882ee1c0",
   "metadata": {},
   "source": [
    "import string\n",
    " \n",
    "test_str = 'Hello world! My lucky number -> 7;'\n",
    " \n",
    "test_str = test_str.translate(str.maketrans('', '', string.punctuation))\n",
    "print(test_str)"
   ]
  },
  {
   "cell_type": "raw",
   "id": "317d638f",
   "metadata": {},
   "source": []
  }
 ],
 "metadata": {
  "kernelspec": {
   "display_name": "Python 3 (ipykernel)",
   "language": "python",
   "name": "python3"
  },
  "language_info": {
   "codemirror_mode": {
    "name": "ipython",
    "version": 3
   },
   "file_extension": ".py",
   "mimetype": "text/x-python",
   "name": "python",
   "nbconvert_exporter": "python",
   "pygments_lexer": "ipython3",
   "version": "3.9.12"
  }
 },
 "nbformat": 4,
 "nbformat_minor": 5
}
