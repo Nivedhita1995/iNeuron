{
 "cells": [
  {
   "cell_type": "raw",
   "id": "d17fccc3",
   "metadata": {},
   "source": [
    "#1 Write a Python program to print \"Hello Python\"?"
   ]
  },
  {
   "cell_type": "raw",
   "id": "c8e667da",
   "metadata": {},
   "source": [
    "print(\"Hello Python\")"
   ]
  },
  {
   "cell_type": "raw",
   "id": "c4fbf374",
   "metadata": {},
   "source": [
    "#2 Write a Python program to do arithmetical operations addition and division.?"
   ]
  },
  {
   "cell_type": "raw",
   "id": "0e5db577",
   "metadata": {},
   "source": [
    "a=14\n",
    "b=16"
   ]
  },
  {
   "cell_type": "raw",
   "id": "4790d28d",
   "metadata": {},
   "source": [
    "a+b"
   ]
  },
  {
   "cell_type": "raw",
   "id": "4fc84db7",
   "metadata": {},
   "source": [
    "a/b"
   ]
  },
  {
   "cell_type": "raw",
   "id": "19a92394",
   "metadata": {},
   "source": [
    "#3 Write a Python program to find the area of a triangle?\n"
   ]
  },
  {
   "cell_type": "raw",
   "id": "b9c75c39",
   "metadata": {},
   "source": [
    "t1=int(input('Enter base of triangle  '))\n",
    "t2=int(input('Enter height of triangle  '))\n",
    "t=(t1*t2)/2\n",
    "print (\"Area of triangle with base\",(t1),\"and\",'height',(t2),'is', (t) )"
   ]
  },
  {
   "cell_type": "raw",
   "id": "4724e032",
   "metadata": {},
   "source": [
    "#4 Write a Python program to swap two variables?\n"
   ]
  },
  {
   "cell_type": "raw",
   "id": "9cdcaebc",
   "metadata": {},
   "source": [
    "a= 1\n",
    "b= 2"
   ]
  },
  {
   "cell_type": "raw",
   "id": "775ea2dd",
   "metadata": {},
   "source": [
    "c=a\n",
    "a=b\n",
    "b=c"
   ]
  },
  {
   "cell_type": "raw",
   "id": "b5df9fc3",
   "metadata": {},
   "source": [
    "print(a,b)"
   ]
  },
  {
   "cell_type": "raw",
   "id": "7394ac05",
   "metadata": {},
   "source": [
    "#5 Write a Python program to generate a random number?"
   ]
  },
  {
   "cell_type": "raw",
   "id": "db84a45f",
   "metadata": {},
   "source": [
    "import numpy as np\n",
    "np.random.randint(0,5)"
   ]
  },
  {
   "cell_type": "raw",
   "id": "815453c4",
   "metadata": {},
   "source": []
  }
 ],
 "metadata": {
  "kernelspec": {
   "display_name": "Python 3 (ipykernel)",
   "language": "python",
   "name": "python3"
  },
  "language_info": {
   "codemirror_mode": {
    "name": "ipython",
    "version": 3
   },
   "file_extension": ".py",
   "mimetype": "text/x-python",
   "name": "python",
   "nbconvert_exporter": "python",
   "pygments_lexer": "ipython3",
   "version": "3.9.12"
  }
 },
 "nbformat": 4,
 "nbformat_minor": 5
}
