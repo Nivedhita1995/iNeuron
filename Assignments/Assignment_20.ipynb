{
 "cells": [
  {
   "cell_type": "raw",
   "id": "6a9f9431",
   "metadata": {},
   "source": [
    "1. Set the variable test1 to the string 'This is a test of the emergency text system,' and save test1 to a file named test.txt.\n",
    "2. Read the contents of the file test.txt into the variable test2. Is there a difference between test 1 and test 2?\n",
    "3. Create a CSV file called books.csv by using these lines:\n",
    "title,author,year\n",
    "The Weirdstone of Brisingamen,Alan Garner,1960\n",
    "Perdido Street Station,China Miéville,2000\n",
    "Thud!,Terry Pratchett,2005\n",
    "The Spellman Files,Lisa Lutz,2007\n",
    "Small Gods,Terry Pratchett,1992\n",
    "4. Use the sqlite3 module to create a SQLite database called books.db, and a table called books with these fields: title (text), author (text), and year (integer).\n",
    "5. Read books.csv and insert its data into the book table.\n",
    "6. Select and print the title column from the book table in alphabetical order.\n",
    "7. From the book table, select and print all columns in the order of publication.\n",
    "8. Use the sqlalchemy module to connect to the sqlite3 database books.db that you just made in exercise 6.\n",
    "9. Install the Redis server and the Python redis library (pip install redis) on your computer. Create a Redis hash called test with the fields count (1) and name ('Fester Bestertester'). Print all the fields for test.\n",
    "10. Increment the count field of test and print it.\n"
   ]
  },
  {
   "cell_type": "raw",
   "id": "076677ee",
   "metadata": {},
   "source": [
    "#1. Set the variable test1 to the string 'This is a test of the emergency text system,' and save test1 to a file named test.txt."
   ]
  },
  {
   "cell_type": "raw",
   "id": "f1568690",
   "metadata": {},
   "source": [
    "test1 = 'This is a test of the emergency text system'\n",
    "print(test1)"
   ]
  },
  {
   "cell_type": "raw",
   "id": "52a9f10d",
   "metadata": {},
   "source": [
    "f=open(\"test.txt\",\"w\")\n",
    "f.write(test1)\n",
    "f.close"
   ]
  },
  {
   "cell_type": "raw",
   "id": "487dcaa6",
   "metadata": {},
   "source": [
    "#2. Read the contents of the file test.txt into the variable test2. Is there a difference between test 1 and test 2?"
   ]
  },
  {
   "cell_type": "raw",
   "id": "93b8fb92",
   "metadata": {},
   "source": [
    "test2 = open('test.txt','r')\n",
    "test2.read()"
   ]
  },
  {
   "cell_type": "raw",
   "id": "48052a75",
   "metadata": {},
   "source": [
    "print(test1)\n",
    "print(test2)\n",
    "if test1 == test2:\n",
    "    print('There is no difference between test 1 and test 2')\n",
    "else:\n",
    "    print(\"Test1 and Test2 is different\")"
   ]
  },
  {
   "cell_type": "raw",
   "id": "fec533d9",
   "metadata": {},
   "source": [
    "#3. Create a CSV file called books.csv by using these lines:\n",
    "title,author,year\n",
    "The Weirdstone of Brisingamen,Alan Garner,1960\n",
    "Perdido Street Station,China Miéville,2000\n",
    "Thud!,Terry Pratchett,2005\n",
    "The Spellman Files,Lisa Lutz,2007\n",
    "Small Gods,Terry Pratchett,1992"
   ]
  },
  {
   "cell_type": "raw",
   "id": "640a49d5",
   "metadata": {},
   "source": [
    "Data = '''title,author,year\n",
    "The Weirdstone of Brisingamen,Alan Garner,1960\n",
    "Perdido Street Station,China Miéville,2000\n",
    "Thud!,Terry Pratchett,2005\n",
    "The Spellman Files,Lisa Lutz,2007\n",
    "Small Gods,Terry Pratchett,1992'''\n",
    "with open('books.csv','w', encoding = 'UTF8') as file:\n",
    "    file.write(Data)\n"
   ]
  },
  {
   "cell_type": "raw",
   "id": "34710925",
   "metadata": {},
   "source": [
    "f=open(\"books.csv\",\"r\")\n",
    "f.read()\n",
    "f.close"
   ]
  },
  {
   "cell_type": "raw",
   "id": "ec37a622",
   "metadata": {},
   "source": [
    "#4. Use the sqlite3 module to create a SQLite database called books.db, and a table called books with these fields: title (text), author (text), and year (integer)."
   ]
  },
  {
   "cell_type": "raw",
   "id": "0ef5b699",
   "metadata": {},
   "source": [
    "import sqlite3 as conn\n",
    "db = conn.connect('books.db')\n",
    "cursor = db.cursor()\n",
    "cursor.execute(\"create table if not exists books(title text, author text, year int)\")\n",
    "db.commit()\n",
    "db.close()"
   ]
  },
  {
   "cell_type": "raw",
   "id": "f6cbcfd0",
   "metadata": {},
   "source": [
    "#5. Read books.csv and insert its data into the book table."
   ]
  },
  {
   "cell_type": "raw",
   "id": "d5868416",
   "metadata": {},
   "source": [
    "import sqlite3\n",
    "import csv\n",
    "conn = sqlite3.connect(\"books.db\")\n",
    "cursor = conn.cursor()\n",
    "with open(\"books.csv\",\"r\",encoding = 'UTF8') as file:\n",
    "    books = csv.DictReader(file)\n",
    "    for book in books:\n",
    "        cursor.execute(\"INSERT INTO books VALUES (?,?,?)\",(book['title'],book['author'],book['year']))\n",
    "conn.commit()\n",
    "conn.close()"
   ]
  },
  {
   "cell_type": "raw",
   "id": "333c952a",
   "metadata": {},
   "source": [
    "#6. Select and print the title column from the book table in alphabetical order."
   ]
  },
  {
   "cell_type": "raw",
   "id": "0a1c62d8",
   "metadata": {},
   "source": [
    "import sqlite3\n",
    "conn = sqlite3.connect('books.db')\n",
    "cursor = conn.cursor()\n",
    "info = cursor.execute(\"SELECT title FROM books ORDER BY title ASC\")\n",
    "for i in info:\n",
    "    print(i[0])\n",
    "conn.commit()\n",
    "conn.close()"
   ]
  },
  {
   "cell_type": "raw",
   "id": "05046d55",
   "metadata": {},
   "source": [
    "#7. From the book table, select and print all columns in the order of publication."
   ]
  },
  {
   "cell_type": "raw",
   "id": "8efeeb34",
   "metadata": {},
   "source": [
    "import sqlite3\n",
    "conn = sqlite3.connect('books.db')\n",
    "cursor = conn.cursor()\n",
    "info = cursor.execute(\"SELECT * FROM books ORDER BY year\")\n",
    "for columns in info:\n",
    "    print(columns)"
   ]
  },
  {
   "cell_type": "raw",
   "id": "5134cfd8",
   "metadata": {},
   "source": [
    "#8. Use the sqlalchemy module to connect to the sqlite3 database books.db that you just made in exercise 6."
   ]
  },
  {
   "cell_type": "raw",
   "id": "1582036b",
   "metadata": {},
   "source": [
    "import sqlalchemy\n",
    "conn = sqlalchemy.create_engine('sqlite:///books.db')\n",
    "conn"
   ]
  },
  {
   "cell_type": "raw",
   "id": "5550b778",
   "metadata": {},
   "source": [
    "#9. Install the Redis server and the Python redis library (pip install redis) on your computer. Create a Redis hash called test with the fields count (1) and name ('Fester Bestertester'). Print all the fields for test."
   ]
  },
  {
   "cell_type": "raw",
   "id": "21ffb64f",
   "metadata": {},
   "source": [
    "! python -m pip install redis"
   ]
  },
  {
   "cell_type": "raw",
   "id": "0718bf1d",
   "metadata": {},
   "source": [
    "import redis\n",
    "conn = redis.Redis()\n",
    "conn.hset('test',{\n",
    "    'count':1,\n",
    "    'name':'Fester Bestertester'\n",
    "})\n",
    "conn.hgetall('test')"
   ]
  },
  {
   "cell_type": "raw",
   "id": "748aafca",
   "metadata": {},
   "source": [
    "#10. Increment the count field of test and print it."
   ]
  },
  {
   "cell_type": "raw",
   "id": "0d0eaeef",
   "metadata": {},
   "source": [
    "conn.hincrby('test', 'count', 1)\n",
    "conn.hget('test', 'count')"
   ]
  },
  {
   "cell_type": "raw",
   "id": "a05a7923",
   "metadata": {},
   "source": []
  }
 ],
 "metadata": {
  "kernelspec": {
   "display_name": "Python 3 (ipykernel)",
   "language": "python",
   "name": "python3"
  },
  "language_info": {
   "codemirror_mode": {
    "name": "ipython",
    "version": 3
   },
   "file_extension": ".py",
   "mimetype": "text/x-python",
   "name": "python",
   "nbconvert_exporter": "python",
   "pygments_lexer": "ipython3",
   "version": "3.9.12"
  }
 },
 "nbformat": 4,
 "nbformat_minor": 5
}
