{
 "cells": [
  {
   "cell_type": "raw",
   "id": "5bdc175a",
   "metadata": {},
   "source": [
    "1. Write a Python program to find words which are greater than given length k?\n",
    "2. Write a Python program for removing i-th character from a string?\n",
    "3. Write a Python program to split and join a string?\n",
    "4. Write a Python to check if a given string is binary string or not?\n",
    "5. Write a Python program to find uncommon words from two Strings?\n",
    "6. Write a Python to find all duplicate characters in string?\n",
    "7. Write a Python Program to check if a string contains any special character?"
   ]
  },
  {
   "cell_type": "raw",
   "id": "31d4bb75",
   "metadata": {},
   "source": [
    "#1. Write a Python program to find words which are greater than given length k?"
   ]
  },
  {
   "cell_type": "raw",
   "id": "f5bfe3d0",
   "metadata": {},
   "source": [
    "def find_words_greater_than_k(string, k):\n",
    "    info = string.split()\n",
    "    result = []\n",
    "    for i in info:\n",
    "        if len(i) > k:\n",
    "            result.append(i)\n",
    "    return result\n",
    "\n",
    "string = \"This is a program to find words which are greater than given length k\"\n",
    "k = 3\n",
    "result = find_words_greater_than_k(string, k)\n",
    "print(result)\n"
   ]
  },
  {
   "cell_type": "raw",
   "id": "b16348e7",
   "metadata": {},
   "source": [
    "#2. Write a Python program for removing i-th character from a string?"
   ]
  },
  {
   "cell_type": "raw",
   "id": "5b8b3dc1",
   "metadata": {},
   "source": [
    "def remove_ith_character(string, i):\n",
    "    initial = string[:i]\n",
    "    final = string[i+1:]\n",
    "    result_string = initial + final\n",
    "    return result_string\n",
    "string = \"Computer Science\"\n",
    "i=3\n",
    "result_string = remove_ith_character(string, i)\n",
    "print(result_string)"
   ]
  },
  {
   "cell_type": "raw",
   "id": "c9755587",
   "metadata": {},
   "source": [
    "#3. Write a Python program to split and join a string?"
   ]
  },
  {
   "cell_type": "raw",
   "id": "e3cc373d",
   "metadata": {},
   "source": [
    "def split_and_join(string):\n",
    "    print(s.split(\" \"))\n",
    "    print(\"-\".join(s.split()))\n",
    "\n",
    "string = \"Python program to split and join a string\"\n",
    "split_and_join(string)\n",
    "    "
   ]
  },
  {
   "cell_type": "raw",
   "id": "b8552c93",
   "metadata": {},
   "source": [
    "#4. Write a Python to check if a given string is binary string or not?"
   ]
  },
  {
   "cell_type": "raw",
   "id": "b287f0bf",
   "metadata": {},
   "source": [
    "def string_is_binary_or_not(string):\n",
    "    binary = {'0', '1'}\n",
    "    for i in string:\n",
    "        if i not in binary:\n",
    "            return False\n",
    "    return True\n",
    "\n",
    "\n",
    "string1 = \"101010\"\n",
    "string2 = \"101020\"\n",
    "\n",
    "print(string_is_binary_or_not(string1))\n",
    "print(string_is_binary_or_not(string2))\n",
    " \n"
   ]
  },
  {
   "cell_type": "raw",
   "id": "7166a146",
   "metadata": {},
   "source": [
    "#5. Write a Python program to find uncommon words from two Strings?"
   ]
  },
  {
   "cell_type": "raw",
   "id": "e60c6352",
   "metadata": {},
   "source": [
    "def find_uncommon_words(string1, string2):\n",
    "    in_string1 = string1.split()\n",
    "    in_string2 = string2.split()\n",
    "    set1 = set(in_string1)\n",
    "    set2 = set(in_string2)\n",
    "    uncommon = (set1.union(set2)).difference(set1.intersection(set2))\n",
    "    return list(uncommon)\n",
    "string1 = \"Python program \"\n",
    "string2 = \"Python program to find uncommon words from two Strings\"\n",
    "uncommon = find_uncommon_words(string1, string2)\n",
    "print(uncommon)\n",
    "    "
   ]
  },
  {
   "cell_type": "raw",
   "id": "6204d2a8",
   "metadata": {},
   "source": [
    "#6. Write a Python to find all duplicate characters in string?"
   ]
  },
  {
   "cell_type": "raw",
   "id": "70acda71",
   "metadata": {},
   "source": [
    "def duplicate_characters(string):\n",
    "    chars = {}\n",
    "    for i in string:\n",
    "        if i not in chars:\n",
    "            chars[i] = 1\n",
    "        else:\n",
    "            chars[i] +=1\n",
    "            \n",
    "\n",
    "    duplicates = []\n",
    "\n",
    "\n",
    "    for i, count in chars.items():\n",
    "        if count > 1: \n",
    "            duplicates.append(i)\n",
    "\n",
    "    return duplicates\n",
    "\n",
    "\n",
    "print(duplicate_characters(\"Data Science\"))\n"
   ]
  },
  {
   "cell_type": "raw",
   "id": "0cfaab1b",
   "metadata": {},
   "source": [
    "#7. Write a Python Program to check if a string contains any special character?"
   ]
  },
  {
   "cell_type": "raw",
   "id": "b7802a07",
   "metadata": {},
   "source": [
    "import re\n",
    "\n",
    "def check_special_char(string):\n",
    "    pattern = re.compile(r'[!@#$%^&*(),.?\":{}|<>]')\n",
    "    \n",
    "    if pattern.search(string):\n",
    "        return True\n",
    "    else:\n",
    "        return False\n",
    "    \n",
    "string = \"Hello world!\"\n",
    "check_special_char(string)\n"
   ]
  },
  {
   "cell_type": "raw",
   "id": "a42087df",
   "metadata": {},
   "source": []
  }
 ],
 "metadata": {
  "kernelspec": {
   "display_name": "Python 3 (ipykernel)",
   "language": "python",
   "name": "python3"
  },
  "language_info": {
   "codemirror_mode": {
    "name": "ipython",
    "version": 3
   },
   "file_extension": ".py",
   "mimetype": "text/x-python",
   "name": "python",
   "nbconvert_exporter": "python",
   "pygments_lexer": "ipython3",
   "version": "3.9.12"
  }
 },
 "nbformat": 4,
 "nbformat_minor": 5
}
