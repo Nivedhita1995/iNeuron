{
 "cells": [
  {
   "cell_type": "raw",
   "id": "72c18e52",
   "metadata": {},
   "source": [
    "#1 1. In the below elements which of them are values or an expression? eg:- values can be\n",
    "integer or string and expressions will be mathematical operators."
   ]
  },
  {
   "cell_type": "raw",
   "id": "d9c78d10",
   "metadata": {},
   "source": [
    "Values: 'hello', -87.8, 6\n",
    "Expression: * , - , / , + "
   ]
  },
  {
   "cell_type": "raw",
   "id": "7c1f3102",
   "metadata": {},
   "source": [
    "#2 What is the difference between string and variable?"
   ]
  },
  {
   "cell_type": "raw",
   "id": "3ec06e1b",
   "metadata": {},
   "source": [
    "String is a data type that consists of group of characters together that is stored or assigned to a variable.\n",
    "Variable is a  symbol(local variable) used to store data [i.e., string] or find its location in RAM or main memory according to index after assignment.\n",
    "example:\n",
    "a=16\n",
    "b=(\"this is my first python programme\")\n",
    "where a and b are variables.\n",
    "(\"this is my first python programme\") is string."
   ]
  },
  {
   "cell_type": "raw",
   "id": "71606caa",
   "metadata": {},
   "source": [
    "#3 Describe three different data types."
   ]
  },
  {
   "cell_type": "raw",
   "id": "de75b0ec",
   "metadata": {},
   "source": [
    "Data types:\n",
    "1] Numbers: Inculdes integers, float, complex numbers.\n",
    "\n",
    "2] Dictionary:{} It is a ordered collection which is mutable, with no duplicate elements.\n",
    "Dictionary is a collection of items, each of which can be identified by \"key\":\"value\" pair. (where the key is unique).\n",
    "\n",
    "3] Boolean: Based on Boolean logic, it returns TRUE or FALSE where the values are 1 and 0 respectively.\n",
    "\n",
    "4] Set:{any value} Set is a collection which unordered,  mutable and with no duplicate values(keeps unique entities).\n",
    "\n",
    "5] Sequence type: Based on sequence there are 3 data types.\n",
    "A) String: Immutable.\n",
    "example:- s=\"this is my first programming class\"\n",
    "B) List: List is a ordered collection which is mutable. Allows dulpicate elements.\n",
    "example:- l=[1,2,3,4,5,\"xyz\",28.39,True]\n",
    "C) Tuple:Tuple is an ordered collection of data, immutable (item assignment not allowed)\n",
    "example:- t=(1,2,3,4,5,6,7,\"xyz\",65.45,True)\n"
   ]
  },
  {
   "cell_type": "raw",
   "id": "e4311d3e",
   "metadata": {},
   "source": [
    "#4 What is an expression made up of? What do all expressions do?"
   ]
  },
  {
   "cell_type": "code",
   "execution_count": null,
   "id": "8fe9dfa9",
   "metadata": {},
   "outputs": [],
   "source": [
    "Expression is made up of variables,operators,values (single value).\n",
    "Expression is an instrucion that combines values and expressions and evaluates down to a single value.\n",
    "    "
   ]
  },
  {
   "cell_type": "code",
   "execution_count": null,
   "id": "88c8a7c7",
   "metadata": {},
   "outputs": [],
   "source": [
    "example: 5+3, 5 and 3 are integer values, '+' is a mathematical operation, (operators: mathematical, boolean,functional call(int(' ')),subscription operator), \n",
    "    8 is the single integer value."
   ]
  },
  {
   "cell_type": "code",
   "execution_count": 1,
   "id": "d1657be0",
   "metadata": {},
   "outputs": [
    {
     "data": {
      "text/plain": [
       "8"
      ]
     },
     "execution_count": 1,
     "metadata": {},
     "output_type": "execute_result"
    }
   ],
   "source": [
    "5+3"
   ]
  },
  {
   "cell_type": "code",
   "execution_count": null,
   "id": "3dd70033",
   "metadata": {},
   "outputs": [],
   "source": [
    "# What do all expressions do?\n",
    "Expressions compute and assign values to a variables.\n"
   ]
  },
  {
   "cell_type": "raw",
   "id": "b0066daa",
   "metadata": {},
   "source": [
    "#5 This assignment statements, like spam = 10. What is the difference between an expression and a statement?\n"
   ]
  },
  {
   "cell_type": "code",
   "execution_count": 4,
   "id": "9759567c",
   "metadata": {},
   "outputs": [],
   "source": [
    "spam=100 is a statement, because values is already assigned to a variable and no need to perform any kind of operation, also does not return a value.\n"
   ]
  },
  {
   "cell_type": "raw",
   "id": "2d1fb1bc",
   "metadata": {},
   "source": [
    "#6 After running the following code, what does the variable bacon contain?\n",
    "bacon = 22\n",
    "bacon + 1"
   ]
  },
  {
   "cell_type": "code",
   "execution_count": 8,
   "id": "27dd19c8",
   "metadata": {},
   "outputs": [
    {
     "data": {
      "text/plain": [
       "23"
      ]
     },
     "execution_count": 8,
     "metadata": {},
     "output_type": "execute_result"
    }
   ],
   "source": [
    "bacon = 22\n",
    "bacon + 1"
   ]
  },
  {
   "cell_type": "raw",
   "id": "d652b6be",
   "metadata": {},
   "source": [
    "#7 What should the values of the following two terms be?\n",
    "'spam' + 'spamspam'\n",
    "'spam' * 3\n"
   ]
  },
  {
   "cell_type": "code",
   "execution_count": 9,
   "id": "04f81378",
   "metadata": {},
   "outputs": [
    {
     "data": {
      "text/plain": [
       "'spamspamspam'"
      ]
     },
     "execution_count": 9,
     "metadata": {},
     "output_type": "execute_result"
    }
   ],
   "source": [
    "'spam' + 'spamspam'"
   ]
  },
  {
   "cell_type": "code",
   "execution_count": 10,
   "id": "a516049e",
   "metadata": {},
   "outputs": [
    {
     "data": {
      "text/plain": [
       "'spamspamspam'"
      ]
     },
     "execution_count": 10,
     "metadata": {},
     "output_type": "execute_result"
    }
   ],
   "source": [
    "'spam' * 3"
   ]
  },
  {
   "cell_type": "raw",
   "id": "ae1cd908",
   "metadata": {},
   "source": [
    "#8 Why is eggs a valid variable name while 100 is invalid?"
   ]
  },
  {
   "cell_type": "code",
   "execution_count": null,
   "id": "d6b3f25d",
   "metadata": {},
   "outputs": [],
   "source": [
    "The variable eggs is valid because it starts with a letter.\n",
    "Since a variable name cannot start with a number 100 is ivalid.\n"
   ]
  },
  {
   "cell_type": "raw",
   "id": "4cb6378b",
   "metadata": {},
   "source": [
    "#9 What three functions can be used to get the integer, floating-point number, or string version of a value?\n"
   ]
  },
  {
   "cell_type": "code",
   "execution_count": null,
   "id": "c4cf3cca",
   "metadata": {},
   "outputs": [],
   "source": [
    "int function for integer\n",
    "float fucntion for floating-point number\n",
    "str function for string version"
   ]
  },
  {
   "cell_type": "raw",
   "id": "c7754d3b",
   "metadata": {},
   "source": [
    "#10 Why does this expression cause an error? How can you fix it?\n",
    "'I have eaten ' + 99 + ' burritos.'\n"
   ]
  },
  {
   "cell_type": "code",
   "execution_count": 11,
   "id": "31289319",
   "metadata": {},
   "outputs": [
    {
     "ename": "TypeError",
     "evalue": "can only concatenate str (not \"int\") to str",
     "output_type": "error",
     "traceback": [
      "\u001b[1;31m---------------------------------------------------------------------------\u001b[0m",
      "\u001b[1;31mTypeError\u001b[0m                                 Traceback (most recent call last)",
      "\u001b[1;32m~\\AppData\\Local\\Temp/ipykernel_5152/1774935878.py\u001b[0m in \u001b[0;36m<module>\u001b[1;34m\u001b[0m\n\u001b[1;32m----> 1\u001b[1;33m \u001b[1;34m'I have eaten '\u001b[0m \u001b[1;33m+\u001b[0m \u001b[1;36m99\u001b[0m \u001b[1;33m+\u001b[0m \u001b[1;34m' burritos.'\u001b[0m\u001b[1;33m\u001b[0m\u001b[1;33m\u001b[0m\u001b[0m\n\u001b[0m",
      "\u001b[1;31mTypeError\u001b[0m: can only concatenate str (not \"int\") to str"
     ]
    }
   ],
   "source": [
    "'I have eaten ' + 99 + ' burritos.'"
   ]
  },
  {
   "cell_type": "code",
   "execution_count": null,
   "id": "1bdef80a",
   "metadata": {},
   "outputs": [],
   "source": [
    "'I have eaten ' + str(99) + ' burritos.'"
   ]
  },
  {
   "cell_type": "raw",
   "id": "de55ccdb",
   "metadata": {},
   "source": [
    "# Because 99 is integer, cannot concatenate it to string. "
   ]
  },
  {
   "cell_type": "code",
   "execution_count": null,
   "id": "0fcf343a",
   "metadata": {},
   "outputs": [],
   "source": []
  },
  {
   "cell_type": "code",
   "execution_count": null,
   "id": "009762f1",
   "metadata": {},
   "outputs": [],
   "source": []
  },
  {
   "cell_type": "code",
   "execution_count": null,
   "id": "c1966d4f",
   "metadata": {},
   "outputs": [],
   "source": []
  },
  {
   "cell_type": "code",
   "execution_count": null,
   "id": "61ed5afd",
   "metadata": {},
   "outputs": [],
   "source": []
  },
  {
   "cell_type": "code",
   "execution_count": null,
   "id": "c04df4c3",
   "metadata": {},
   "outputs": [],
   "source": []
  },
  {
   "cell_type": "code",
   "execution_count": null,
   "id": "83479c9b",
   "metadata": {},
   "outputs": [],
   "source": []
  },
  {
   "cell_type": "code",
   "execution_count": null,
   "id": "2737ac37",
   "metadata": {},
   "outputs": [],
   "source": []
  },
  {
   "cell_type": "code",
   "execution_count": null,
   "id": "54b2a05a",
   "metadata": {},
   "outputs": [],
   "source": []
  },
  {
   "cell_type": "code",
   "execution_count": null,
   "id": "88d1b97e",
   "metadata": {},
   "outputs": [],
   "source": []
  },
  {
   "cell_type": "code",
   "execution_count": null,
   "id": "df258b30",
   "metadata": {},
   "outputs": [],
   "source": []
  },
  {
   "cell_type": "code",
   "execution_count": null,
   "id": "f6539bad",
   "metadata": {},
   "outputs": [],
   "source": []
  },
  {
   "cell_type": "code",
   "execution_count": null,
   "id": "b71be29d",
   "metadata": {},
   "outputs": [],
   "source": []
  },
  {
   "cell_type": "code",
   "execution_count": null,
   "id": "1b33434a",
   "metadata": {},
   "outputs": [],
   "source": []
  },
  {
   "cell_type": "code",
   "execution_count": null,
   "id": "f7846ed4",
   "metadata": {},
   "outputs": [],
   "source": []
  },
  {
   "cell_type": "code",
   "execution_count": null,
   "id": "29c59496",
   "metadata": {},
   "outputs": [],
   "source": []
  }
 ],
 "metadata": {
  "kernelspec": {
   "display_name": "Python 3 (ipykernel)",
   "language": "python",
   "name": "python3"
  },
  "language_info": {
   "codemirror_mode": {
    "name": "ipython",
    "version": 3
   },
   "file_extension": ".py",
   "mimetype": "text/x-python",
   "name": "python",
   "nbconvert_exporter": "python",
   "pygments_lexer": "ipython3",
   "version": "3.9.12"
  }
 },
 "nbformat": 4,
 "nbformat_minor": 5
}
