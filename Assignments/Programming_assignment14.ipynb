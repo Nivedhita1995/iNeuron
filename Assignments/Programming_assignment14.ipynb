{
 "cells": [
  {
   "cell_type": "markdown",
   "id": "2c186389",
   "metadata": {},
   "source": [
    "Question 1:\n",
    "\n",
    "Define a class with a generator which can iterate the numbers, which are divisible by 7, between a given range 0 and n."
   ]
  },
  {
   "cell_type": "code",
   "execution_count": null,
   "id": "49f02e7a",
   "metadata": {},
   "outputs": [],
   "source": [
    "class DivisibleBySeven:\n",
    "    def __init__(self, n):\n",
    "        self.n = n\n",
    "\n",
    "    def divisible_by_seven(self):\n",
    "        for i in range(self.n+1):\n",
    "            if i % 7 == 0:\n",
    "                yield i\n",
    "\n",
    "\n",
    "\n",
    "n = int(input(\"Enter a number: \"))\n",
    "numbers = DivisibleBySeven(n).divisible_by_seven()\n",
    "\n",
    "print(\"Numbers divisible by 7:\")\n",
    "for num in numbers:\n",
    "    print(num)\n"
   ]
  },
  {
   "cell_type": "markdown",
   "id": "1aa47b8b",
   "metadata": {},
   "source": [
    "Question 2:\n",
    "Write a program to compute the frequency of the words from the input. The output should output after sorting the key alphanumerically. \n",
    "\n",
    "Suppose the following input is supplied to the program:\n",
    "\n",
    "New to Python or choosing between Python 2 and Python 3? Read Python 2 or Python 3.\n",
    "\n",
    "Then, the output should be:\n",
    "\n",
    "2:2\n",
    "\n",
    "3.:1\n",
    "\n",
    "3?:1\n",
    "\n",
    "New:1\n",
    "\n",
    "Python:5\n",
    "\n",
    "Read:1\n",
    "\n",
    "and:1\n",
    "\n",
    "between:1\n",
    "\n",
    "choosing:1\n",
    "\n",
    "or:2\n",
    "\n",
    "to:1"
   ]
  },
  {
   "cell_type": "code",
   "execution_count": null,
   "id": "144c0054",
   "metadata": {},
   "outputs": [],
   "source": [
    "import operator as op\n",
    "\n",
    "def freq(str):\n",
    "\n",
    "\n",
    "    str = str.split()\n",
    "    str2 = []\n",
    "    \n",
    "    for i in str:\n",
    "        if i not in str2:\n",
    "            str2.append(i)\n",
    "            str2.sort()\n",
    "\n",
    "\n",
    "    for i in range(len(str2)):\n",
    "        print(str2[i], op.countOf(str,str2[i]))\n",
    "\n",
    "def main():\n",
    "    str ='New to Python or choosing between Python 2 and Python 3? Read Python 2 or Python 3.'\n",
    "    freq(str)\n",
    "\n",
    "\n",
    "main()\n"
   ]
  },
  {
   "cell_type": "markdown",
   "id": "45ff4f9e",
   "metadata": {},
   "source": [
    "Question 3:\n",
    "Define a class Person and its two child classes: Male and Female. All classes have a method \"getGender\" which can print \"Male\" for Male class and \"Female\" for Female class.\n",
    "    "
   ]
  },
  {
   "cell_type": "code",
   "execution_count": null,
   "id": "ecff08de",
   "metadata": {},
   "outputs": [],
   "source": [
    "class Person():\n",
    "    def getGender():\n",
    "        pass\n",
    "    \n",
    "class Male(Person):\n",
    "    def getGender():\n",
    "        print(\"Male\")\n",
    "        \n",
    "class Female(Person):\n",
    "    def getGender():\n",
    "        print(\"Female\")\n",
    "\n",
    "Male.getGender()\n",
    "Female.getGender()"
   ]
  },
  {
   "cell_type": "markdown",
   "id": "956da0df",
   "metadata": {},
   "source": [
    "Question 4:\n",
    "Please write a program to generate all sentences where subject is in [\"I\", \"You\"] and verb is in [\"Play\", \"Love\"] and the object is in [\"Hockey\",\"Football\"].\n"
   ]
  },
  {
   "cell_type": "code",
   "execution_count": null,
   "id": "acda61bc",
   "metadata": {},
   "outputs": [],
   "source": [
    "def generateSentences():\n",
    "    subject = ['I','You']\n",
    "    verb = ['Play','Love']\n",
    "    Object = ['Hockey','Football']\n",
    "    for i in subject:\n",
    "        for j in verb:\n",
    "            for k in Object:\n",
    "                print(f'{i} {j} {k}')\n",
    "                \n",
    "generateSentences()"
   ]
  },
  {
   "cell_type": "markdown",
   "id": "c53a769c",
   "metadata": {},
   "source": [
    "Question 5:\n",
    "Please write a program to compress and decompress the string \"hello world!helloworld!helloworld!hello world!\".\n"
   ]
  },
  {
   "cell_type": "code",
   "execution_count": null,
   "id": "777a41e6",
   "metadata": {},
   "outputs": [],
   "source": [
    "import zlib\n",
    "\n",
    "def compress_string(text):\n",
    "    compressed_data = zlib.compress(text.encode())\n",
    "    return compressed_data\n",
    "\n",
    "def decompress_string(compressed_data):\n",
    "    decompressed_data = zlib.decompress(compressed_data)\n",
    "    return decompressed_data.decode()\n",
    "\n",
    "# Example usage\n",
    "input_string = \"hello world!helloworld!helloworld!hello world!\"\n",
    "compressed = compress_string(input_string)\n",
    "print(\"Compressed data:\", compressed)\n",
    "\n",
    "decompressed = decompress_string(compressed)\n",
    "print(\"Decompressed data:\", decompressed)\n"
   ]
  },
  {
   "cell_type": "markdown",
   "id": "cf513739",
   "metadata": {},
   "source": [
    "Question 6:\n",
    "Please write a binary search function which searches an item in a sorted list. The function should return the index of element to be searched in the list."
   ]
  },
  {
   "cell_type": "code",
   "execution_count": null,
   "id": "d1f090aa",
   "metadata": {},
   "outputs": [],
   "source": [
    "def binary_search(arr, target):\n",
    "    low = 0\n",
    "    high = len(arr) - 1\n",
    "\n",
    "    while low <= high:\n",
    "        mid = (low + high) // 2\n",
    "\n",
    "        if arr[mid] == target:\n",
    "            return mid\n",
    "        elif arr[mid] < target:\n",
    "            low = mid + 1\n",
    "        else:\n",
    "            high = mid - 1\n",
    "\n",
    "    return -1  # Item not found\n",
    "\n",
    "# Example usage\n",
    "sorted_list = [2, 4, 6, 8, 10, 12, 14, 16, 18, 20]\n",
    "item = int(input(\"Enter a number: \"))\n",
    "\n",
    "index = binary_search(sorted_list, item)\n",
    "\n",
    "if index != -1:\n",
    "    print(f\"Item {item} found at index {index}.\")\n",
    "else:\n",
    "    print(f\"Item {item} not found in the list.\")\n"
   ]
  },
  {
   "cell_type": "code",
   "execution_count": null,
   "id": "bb703949",
   "metadata": {},
   "outputs": [],
   "source": []
  }
 ],
 "metadata": {
  "kernelspec": {
   "display_name": "Python 3 (ipykernel)",
   "language": "python",
   "name": "python3"
  },
  "language_info": {
   "codemirror_mode": {
    "name": "ipython",
    "version": 3
   },
   "file_extension": ".py",
   "mimetype": "text/x-python",
   "name": "python",
   "nbconvert_exporter": "python",
   "pygments_lexer": "ipython3",
   "version": "3.9.12"
  }
 },
 "nbformat": 4,
 "nbformat_minor": 5
}
