{
 "cells": [
  {
   "cell_type": "raw",
   "id": "e677b1e4",
   "metadata": {},
   "source": [
    "1. Create an assert statement that throws an AssertionError if the variable spam is a negative\n",
    "integer.\n",
    "2. Write an assert statement that triggers an AssertionError if the variables eggs and bacon contain\n",
    "strings that are the same as each other, even if their cases are different (that is,'hello' and 'hello' are\n",
    "considered the same, and 'goodbye'; and 'GOODbye' are also considered the same).\n",
    "3. Create an assert statement that throws an AssertionError every time.\n",
    "4. What are the two lines that must be present in your software in order to call logging.debug()?\n",
    "5. What are the two lines that your program must have in order to have logging.debug() send a\n",
    "logging message to a file named programLog.txt?\n",
    "6. What are the five levels of logging?\n",
    "7. What line of code would you add to your software to disable all logging messages?\n",
    "8.Why is using logging messages better than using print() to display the same message?\n",
    "9. What are the differences between the Step Over, Step In, and Step Out buttons in the debugger?\n",
    "10.After you click Continue, when will the debugger stop ?\n",
    "11. What is the concept of a breakpoint?"
   ]
  },
  {
   "cell_type": "raw",
   "id": "7a44b8aa",
   "metadata": {},
   "source": [
    "#1. Create an assert statement that throws an AssertionError if the variable spam is a negative integer.\n",
    "def askforint(x):\n",
    "            assert x>=0, 'Enter positive numbers'\n",
    "            return x\n",
    "n = askforint(-4) \n"
   ]
  },
  {
   "cell_type": "raw",
   "id": "36d44c86",
   "metadata": {},
   "source": [
    "#2. Write an assert statement that triggers an AssertionError if the variables eggs and bacon contain strings that are the same as each other, even if their cases are different (that is,'hello' and 'hello' are considered the same, and 'goodbye'; and 'GOODbye' are also considered the same)\n",
    "eggs=('hello')\n",
    "bacon=('hello')\n",
    "Eggs=(\"goodbye\")\n",
    "Bacon=(\"GOODbye\")\n",
    "assert eggs.lower() != bacon.lower(), 'Assertion error'  # (for eggs=('hello') and bacon=('hello'))\n",
    "assert Eggs.lower() != Bacon.lower(), 'Assertion error'  # (for Eggs=(\"goodbye\") and Bacon=(\"GOODbye\"))\n"
   ]
  },
  {
   "cell_type": "raw",
   "id": "3042cf7a",
   "metadata": {},
   "source": [
    "#3. Create an assert statement that throws an AssertionError every time.\n",
    "assert False, 'AssertionError'"
   ]
  },
  {
   "cell_type": "raw",
   "id": "28d86bf5",
   "metadata": {},
   "source": [
    "#4. What are the two lines that must be present in your software in order to call logging.debug()?\n",
    "import logging\n",
    "logging.basicConfig(level=logging.DEBUG, format=' %(asctime)s - %(levelname)s - %(message)s')\n"
   ]
  },
  {
   "cell_type": "raw",
   "id": "735ff38e",
   "metadata": {},
   "source": [
    "#5. What are the two lines that your program must have in order to have logging.debug() send a logging message to a file named programLog.txt?\n",
    "import logging\n",
    "logging.basicConfig(filename='programLog.txt', level=logging.DEBUG, format=' %(asctime)s - %(levelname)s - %(message)s')"
   ]
  },
  {
   "cell_type": "raw",
   "id": "2cd645d4",
   "metadata": {},
   "source": [
    "#6. What are the five levels of logging?\n",
    "Five levels of logging: DEBUG, INFO, WARNING, ERROR, CRITICAL\n",
    "DEBUG\n",
    "Detailed information, typically of interest only when diagnosing problems.\n",
    "INFO\n",
    "Confirmation that things are working as expected.\n",
    "WARNING\n",
    "An indication that something unexpected happened, or indicative of some problem in the near future (e.g. ‘disk space low’). The software is still working as expected.\n",
    "ERROR\n",
    "Due to a more serious problem, the software has not been able to perform some function.\n",
    "CRITICAL\n",
    "A serious error, indicating that the program itself may be unable to continue running."
   ]
  },
  {
   "cell_type": "raw",
   "id": "f64320d0",
   "metadata": {},
   "source": [
    "#7. What line of code would you add to your software to disable all logging messages?\n",
    "logging.disable(logging.CRITICAL)\n",
    "#This disable all logging calls of critical level and below critical level (that is DEBUG, INFO, WARNING, ERROR )"
   ]
  },
  {
   "cell_type": "raw",
   "id": "0810da3e",
   "metadata": {},
   "source": [
    "#8.Why is using logging messages better than using print() to display the same message?\n",
    "logging.basicConfig(level=logging.DEBUG, format=' %(asctime)s - %(levelname)s - %(message)s')\n",
    "#Logging levels can be selected to disable lower-level logging messages.\n",
    "in format -  %(asctime)s  helps to capture timestamp and using %(message)s we can create logging mesages."
   ]
  },
  {
   "cell_type": "raw",
   "id": "83e15b66",
   "metadata": {},
   "source": [
    "#9. What are the differences between the Step Over, Step In, and Step Out buttons in the debugger?\n",
    "Step Into\n",
    "A method is about to be invoked, and to debug into the code of that method, the next step is to go into that method and continue debugging step-by-step. (The cursor gets inside the procdure and debug line-by-line)\n",
    "\n",
    "Step Over\n",
    "A method is about to be invoked, but when debugging this particular invocation is not required, the debugger execute that method completely as one entire step. (Step over is enables after debugging is started and the cursor never gets inside the procedure).\n",
    "\n",
    "Step Return\n",
    "Debugging method step-by-step is done, and  the debugger run the entire method until it returns as one entire step."
   ]
  },
  {
   "cell_type": "raw",
   "id": "031b2f07",
   "metadata": {},
   "source": [
    "#10.After you click Continue, when will the debugger stop ?\n",
    "The debugger stop at the next breakpoint. (Continue will execute up until the next breakpoint)"
   ]
  },
  {
   "cell_type": "raw",
   "id": "da8d488e",
   "metadata": {},
   "source": [
    "#11. What is the concept of a breakpoint?\n",
    "Breakpoint\n",
    "When execution reaches a particular line of code, debugger to temporarily pause  execution use breakpoint.\n",
    "At this breakpoint in the program the code will stop executing."
   ]
  },
  {
   "cell_type": "raw",
   "id": "2541d65d",
   "metadata": {},
   "source": []
  }
 ],
 "metadata": {
  "kernelspec": {
   "display_name": "Python 3 (ipykernel)",
   "language": "python",
   "name": "python3"
  },
  "language_info": {
   "codemirror_mode": {
    "name": "ipython",
    "version": 3
   },
   "file_extension": ".py",
   "mimetype": "text/x-python",
   "name": "python",
   "nbconvert_exporter": "python",
   "pygments_lexer": "ipython3",
   "version": "3.9.12"
  }
 },
 "nbformat": 4,
 "nbformat_minor": 5
}
