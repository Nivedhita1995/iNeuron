{
 "cells": [
  {
   "cell_type": "raw",
   "id": "59dd6383",
   "metadata": {},
   "source": [
    "1. Write a Python program to convert kilometers to miles?\n",
    "2. Write a Python program to convert Celsius to Fahrenheit?\n",
    "3. Write a Python program to display calendar?\n",
    "4. Write a Python program to solve quadratic equation?\n",
    "5. Write a Python program to swap two variables without temp variable?"
   ]
  },
  {
   "cell_type": "raw",
   "id": "2d1159c8",
   "metadata": {},
   "source": [
    "# 1. Write a Python program to convert kilometers to miles?"
   ]
  },
  {
   "cell_type": "raw",
   "id": "74ce4e05",
   "metadata": {},
   "source": [
    "km=int(input('Please enter value to be converted : '))\n",
    "r=0.621371\n",
    "m= km * r\n",
    "if km ==0:\n",
    "    print(\"Please enter correct value\")\n",
    "else:\n",
    "    print(\"Value in miles\",m)   \n"
   ]
  },
  {
   "cell_type": "raw",
   "id": "eab7310d",
   "metadata": {},
   "source": [
    "# 2. Write a Python program to convert Celsius to Fahrenheit"
   ]
  },
  {
   "cell_type": "raw",
   "id": "e17cbf98",
   "metadata": {
    "scrolled": true
   },
   "source": [
    "Celsius=float(input(\"Enter the temperature in celsius:\"))\n",
    "Fahrenheit=(9/5 * Celsius) + 32\n",
    "print('Temperature of', Celsius,'Celsius', 'in Fahrenheit is', Fahrenheit)"
   ]
  },
  {
   "cell_type": "raw",
   "id": "486771ea",
   "metadata": {},
   "source": [
    "# 3. Write a Python program to display calendar? "
   ]
  },
  {
   "cell_type": "raw",
   "id": "7c9577ca",
   "metadata": {},
   "source": [
    "import calendar\n",
    "year=int(input(\"Enter year : \"))\n",
    "month=int(input(\"Enter month : \"))\n",
    "print(calendar.month(year,month))\n"
   ]
  },
  {
   "cell_type": "raw",
   "id": "f7010fe0",
   "metadata": {},
   "source": [
    "# 4. Write a Python program to solve quadratic equation?"
   ]
  },
  {
   "cell_type": "raw",
   "id": "afdadcfb",
   "metadata": {},
   "source": [
    "import math\n",
    "\n",
    "print(\"Quadratic function : (a * x^2) + b*x + c\")\n",
    "a = float(input(\"a: \"))\n",
    "b = float(input(\"b: \"))\n",
    "c = float(input(\"c: \"))\n",
    "\n",
    "r = b**2 - 4*a*c\n",
    "\n",
    "if r > 0:\n",
    "    num_roots = 2\n",
    "    x1 = (((-b) + math.sqrt(r))/(2*a))     \n",
    "    x2 = (((-b) - math.sqrt(r))/(2*a))\n",
    "    print(\"There are 2 roots: %f and %f\" % (x1, x2))\n",
    "elif r == 0:\n",
    "    num_roots = 1\n",
    "    x = (-b) / 2*a\n",
    "    print(\"There is one root: \", x)\n",
    "else:\n",
    "    num_roots = 0\n",
    "    print(\"No roots, discriminant < 0.\")\n",
    "    exit()\n"
   ]
  },
  {
   "cell_type": "raw",
   "id": "c1def66c",
   "metadata": {},
   "source": [
    "# 5. Write a Python program to swap two variables without temp variable?"
   ]
  },
  {
   "cell_type": "raw",
   "id": "9b18d2b1",
   "metadata": {},
   "source": [
    "int1 = int(input(\"Enter first number: \"))\n",
    "int2 = int(input(\"Enter second number: \"))\n",
    "print('Old value of int1 is {0} and int2 is {1}'.format(int1, int2))\n",
    "int1 = int1 + int2\n",
    "int2 = int1 - int2\n",
    "int1 = int1 - int2\n",
    "print('New value of int1 is {0} and int2 is {1}'.format(int1, int2))"
   ]
  },
  {
   "cell_type": "raw",
   "id": "563b4ea1",
   "metadata": {},
   "source": []
  }
 ],
 "metadata": {
  "kernelspec": {
   "display_name": "Python 3 (ipykernel)",
   "language": "python",
   "name": "python3"
  },
  "language_info": {
   "codemirror_mode": {
    "name": "ipython",
    "version": 3
   },
   "file_extension": ".py",
   "mimetype": "text/x-python",
   "name": "python",
   "nbconvert_exporter": "python",
   "pygments_lexer": "ipython3",
   "version": "3.9.12"
  }
 },
 "nbformat": 4,
 "nbformat_minor": 5
}
