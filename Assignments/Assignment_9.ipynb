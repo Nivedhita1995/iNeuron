{
 "cells": [
  {
   "cell_type": "raw",
   "id": "aee6bf9c",
   "metadata": {},
   "source": [
    "1. To what does a relative path refer?\n",
    "2. What does an absolute path start with your operating system?\n",
    "3. What do the functions os.getcwd() and os.chdir() do?\n",
    "4. What are the . and .. folders?\n",
    "5. In C:\\bacon\\eggs\\spam.txt, which part is the dir name, and which part is the base name?\n",
    "6. What are the three “mode” arguments that can be passed to the open() function?\n",
    "7. What happens if an existing file is opened in write mode?\n",
    "8. How do you tell the difference between read() and readlines()?\n",
    "9. What data structure does a shelf value resemble?"
   ]
  },
  {
   "cell_type": "raw",
   "id": "03abc815",
   "metadata": {},
   "source": [
    "#1. To what does a relative path refer?\n",
    "Relative path refers to current working directory"
   ]
  },
  {
   "cell_type": "raw",
   "id": "258e954b",
   "metadata": {},
   "source": [
    "#2. What does an absolute path start with your operating system?\n",
    "Absolute paths start with the root folder, such as / or C:\\"
   ]
  },
  {
   "cell_type": "raw",
   "id": "cb3d08de",
   "metadata": {},
   "source": [
    "#3. What do the functions os.getcwd() and os.chdir() do?\n",
    "os.getcwd() returns the current working directory. \n",
    "os.chdir() changes the current working directory."
   ]
  },
  {
   "cell_type": "raw",
   "id": "de68abeb",
   "metadata": {},
   "source": [
    "#4. What are the . and .. folders?\n",
    "The . folder is the current folder, and .. is the parent folder."
   ]
  },
  {
   "cell_type": "raw",
   "id": "e813704a",
   "metadata": {},
   "source": [
    "#5. In C:\\bacon\\eggs\\spam.txt, which part is the dir name, and which part is the base name?\n",
    " C:\\bacon\\eggs is the dir name and spam.txt is the base name."
   ]
  },
  {
   "cell_type": "raw",
   "id": "d2982525",
   "metadata": {},
   "source": [
    "#6. What are the three “mode” arguments that can be passed to the open() function?\n",
    "The string 'r' for read mode, 'w' for write mode, and 'a' for append mode"
   ]
  },
  {
   "cell_type": "raw",
   "id": "e3b4a7d0",
   "metadata": {},
   "source": [
    "#7. What happens if an existing file is opened in write mode?\n",
    "If an existing file is opened in write mode it is erased and completely overwritten."
   ]
  },
  {
   "cell_type": "raw",
   "id": "73d20a61",
   "metadata": {},
   "source": [
    "#8. How do you tell the difference between read() and readlines()?\n",
    "The read() method returns the file’s entire contents as a single string value. The readlines() method returns a list of strings, where each string is a line from the file’s contents."
   ]
  },
  {
   "cell_type": "raw",
   "id": "af67cca2",
   "metadata": {},
   "source": [
    "#9. What data structure does a shelf value resemble?\n",
    "A shelf value resembles a dictionary value; it has keys and values, along with keys() and values() methods that work similarly to the dictionary methods of the same names"
   ]
  },
  {
   "cell_type": "raw",
   "id": "617cb970",
   "metadata": {},
   "source": []
  }
 ],
 "metadata": {
  "kernelspec": {
   "display_name": "Python 3 (ipykernel)",
   "language": "python",
   "name": "python3"
  },
  "language_info": {
   "codemirror_mode": {
    "name": "ipython",
    "version": 3
   },
   "file_extension": ".py",
   "mimetype": "text/x-python",
   "name": "python",
   "nbconvert_exporter": "python",
   "pygments_lexer": "ipython3",
   "version": "3.9.12"
  }
 },
 "nbformat": 4,
 "nbformat_minor": 5
}
