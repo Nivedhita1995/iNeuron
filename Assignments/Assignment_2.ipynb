{
 "cells": [
  {
   "cell_type": "code",
   "execution_count": null,
   "id": "40b38cbc",
   "metadata": {},
   "outputs": [],
   "source": [
    "#1. What are the two values of the Boolean data type? How do you write them?\n"
   ]
  },
  {
   "cell_type": "raw",
   "id": "b2d3c967",
   "metadata": {},
   "source": [
    "The two values of the Boolean data type is True and False.\n",
    "boolA = True = 1 , On , Is\n",
    "boolb = False= 0 , Off, Is not"
   ]
  },
  {
   "cell_type": "code",
   "execution_count": 7,
   "id": "ce39fe0c",
   "metadata": {},
   "outputs": [
    {
     "data": {
      "text/plain": [
       "(True, True, False, False, False, False, False)"
      ]
     },
     "execution_count": 7,
     "metadata": {},
     "output_type": "execute_result"
    }
   ],
   "source": [
    "bool(\"abc\"),bool(123),bool(0),bool(()),bool(None),bool([]),bool({})"
   ]
  },
  {
   "cell_type": "code",
   "execution_count": 4,
   "id": "04c77460",
   "metadata": {},
   "outputs": [
    {
     "data": {
      "text/plain": [
       "bool"
      ]
     },
     "execution_count": 4,
     "metadata": {},
     "output_type": "execute_result"
    }
   ],
   "source": [
    "x=True\n",
    "type(x)\n",
    "y=False\n",
    "type(y)"
   ]
  },
  {
   "cell_type": "code",
   "execution_count": null,
   "id": "34608edb",
   "metadata": {},
   "outputs": [],
   "source": [
    "#2. What are the three different types of Boolean operators?"
   ]
  },
  {
   "cell_type": "code",
   "execution_count": null,
   "id": "23e15b96",
   "metadata": {},
   "outputs": [],
   "source": [
    "The three different types of Boolean operators:\n",
    "and\n",
    "or\n",
    "not"
   ]
  },
  {
   "cell_type": "code",
   "execution_count": null,
   "id": "90a5d9a7",
   "metadata": {},
   "outputs": [],
   "source": [
    "#3. Make a list of each Boolean operator's truth tables (i.e. every possible combination of Boolean values for the operator and what it evaluate )."
   ]
  },
  {
   "cell_type": "raw",
   "id": "3e8bfd64",
   "metadata": {},
   "source": [
    "Boolean operator's truth table:\n",
    "True and True = True\n",
    "True and False = False\n",
    "False and True = False\n",
    "False and False = False\n",
    "True or True = True\n",
    "True or False = True\n",
    "False or True = True\n",
    "False or False= False\n"
   ]
  },
  {
   "cell_type": "code",
   "execution_count": 13,
   "id": "bec1757e",
   "metadata": {},
   "outputs": [
    {
     "data": {
      "text/plain": [
       "True"
      ]
     },
     "execution_count": 13,
     "metadata": {},
     "output_type": "execute_result"
    }
   ],
   "source": [
    "True and True"
   ]
  },
  {
   "cell_type": "code",
   "execution_count": 14,
   "id": "fb4e1933",
   "metadata": {},
   "outputs": [
    {
     "data": {
      "text/plain": [
       "False"
      ]
     },
     "execution_count": 14,
     "metadata": {},
     "output_type": "execute_result"
    }
   ],
   "source": [
    "True and False"
   ]
  },
  {
   "cell_type": "code",
   "execution_count": 15,
   "id": "c3eae6d0",
   "metadata": {},
   "outputs": [
    {
     "data": {
      "text/plain": [
       "False"
      ]
     },
     "execution_count": 15,
     "metadata": {},
     "output_type": "execute_result"
    }
   ],
   "source": [
    "False and True"
   ]
  },
  {
   "cell_type": "code",
   "execution_count": 16,
   "id": "b33bd915",
   "metadata": {},
   "outputs": [
    {
     "data": {
      "text/plain": [
       "False"
      ]
     },
     "execution_count": 16,
     "metadata": {},
     "output_type": "execute_result"
    }
   ],
   "source": [
    "False and False"
   ]
  },
  {
   "cell_type": "code",
   "execution_count": 20,
   "id": "adac2b69",
   "metadata": {},
   "outputs": [
    {
     "data": {
      "text/plain": [
       "True"
      ]
     },
     "execution_count": 20,
     "metadata": {},
     "output_type": "execute_result"
    }
   ],
   "source": [
    "True or True"
   ]
  },
  {
   "cell_type": "code",
   "execution_count": 19,
   "id": "62e4e01b",
   "metadata": {},
   "outputs": [
    {
     "data": {
      "text/plain": [
       "True"
      ]
     },
     "execution_count": 19,
     "metadata": {},
     "output_type": "execute_result"
    }
   ],
   "source": [
    "True or False"
   ]
  },
  {
   "cell_type": "code",
   "execution_count": 18,
   "id": "8ee5c648",
   "metadata": {},
   "outputs": [
    {
     "data": {
      "text/plain": [
       "True"
      ]
     },
     "execution_count": 18,
     "metadata": {},
     "output_type": "execute_result"
    }
   ],
   "source": [
    "False or True"
   ]
  },
  {
   "cell_type": "code",
   "execution_count": 17,
   "id": "e53e90c6",
   "metadata": {},
   "outputs": [
    {
     "data": {
      "text/plain": [
       "False"
      ]
     },
     "execution_count": 17,
     "metadata": {},
     "output_type": "execute_result"
    }
   ],
   "source": [
    "False or False"
   ]
  },
  {
   "cell_type": "code",
   "execution_count": null,
   "id": "bf123e45",
   "metadata": {},
   "outputs": [],
   "source": [
    "#4. What are the values of the following expressions?\n",
    "The values of the following expressions is:\n",
    "(5 > 4) and (3 == 5) = False\n",
    "not (5 > 4) = False\n",
    "(5 > 4) or (3 == 5) = True\n",
    "not ((5 > 4) or (3 == 5)) = False\n",
    "(True and True) and (True == False) = False\n",
    "(not False) or (not True) = True\n"
   ]
  },
  {
   "cell_type": "code",
   "execution_count": null,
   "id": "5c862399",
   "metadata": {},
   "outputs": [],
   "source": [
    "#5. What are the six comparison operators?\n",
    "== values are equal (a==b)\n",
    "!= values are not equal (a!=b)\n",
    "> greater than (a>b)\n",
    "< less than (a<b)\n",
    ">= greater than or equal to ; (a>=b)\n",
    "<= lesser than or equal to ; (a<=b)\n"
   ]
  },
  {
   "cell_type": "code",
   "execution_count": null,
   "id": "64fd2fba",
   "metadata": {},
   "outputs": [],
   "source": [
    "#6. How do you tell the difference between the equal to and assignment operators?Describe a condition and when you would use one.\n",
    "a=10 is an example of assignment operators. Here a is variable name and 10 is value of expression and this values of expression is assigned to the variable.\n",
    "Expression and name of variable are not interchangeable.\n",
    "The symbol used for assignment operator is = \n",
    "a=1\n",
    "b=10\n",
    "while a<10:\n",
    "    print(a)\n",
    "    if a==5:\n",
    "        break\n",
    "    a=a+1\n",
    "else:\n",
    "    print(\"print this else block\")\n",
    "In this example a==5 is a comparison operator and called equal to operator. It returns true if operands on either side are equal. \n",
    "The symbol used for equal to operator is ==\n"
   ]
  },
  {
   "cell_type": "code",
   "execution_count": null,
   "id": "baff2e09",
   "metadata": {},
   "outputs": [],
   "source": [
    "#7. Identify the three blocks in this code:\n",
    "spam = 0\n",
    "if spam == 10:\n",
    "print('eggs')\n",
    "if spam > 5:\n",
    "print('bacon')\n",
    "else:\n",
    "print('ham')\n",
    "print('spam')\n",
    "print('spam')\n"
   ]
  },
  {
   "cell_type": "code",
   "execution_count": 28,
   "id": "51c5621b",
   "metadata": {},
   "outputs": [
    {
     "name": "stdout",
     "output_type": "stream",
     "text": [
      "ham\n",
      "spam\n",
      "spam\n"
     ]
    }
   ],
   "source": [
    "spam=0\n",
    "if spam==10:\n",
    "    print(\"eggs\")\n",
    "if spam > 5 :\n",
    "    print(\"bacon\")\n",
    "else:\n",
    "    print(\"ham\")\n",
    "    print(\"spam\")\n",
    "    print(\"spam\")"
   ]
  },
  {
   "cell_type": "code",
   "execution_count": null,
   "id": "801f36fa",
   "metadata": {},
   "outputs": [],
   "source": [
    "#8. Write code that prints Hello if 1 is stored in spam, prints Howdy if 2 is stored in spam, and prints Greetings! if anything else is stored in spam.\n"
   ]
  },
  {
   "cell_type": "code",
   "execution_count": 33,
   "id": "0a671be3",
   "metadata": {},
   "outputs": [
    {
     "name": "stdout",
     "output_type": "stream",
     "text": [
      "Hello\n",
      "Howdy\n",
      "Greetings!\n"
     ]
    }
   ],
   "source": [
    "spam=[1,2,3,4,'name',45.56]\n",
    "for i in spam:\n",
    "    if i == 1:\n",
    "        print('Hello')\n",
    "    if i == 2:\n",
    "        print('Howdy')\n",
    "else:\n",
    "        print('Greetings!')\n"
   ]
  },
  {
   "cell_type": "code",
   "execution_count": null,
   "id": "5e4f8703",
   "metadata": {},
   "outputs": [],
   "source": [
    "#9. If your programme is stuck in an endless loop, what keys you’ll press?\n",
    "Kernal interupt\n",
    "Restart Kernal"
   ]
  },
  {
   "cell_type": "code",
   "execution_count": null,
   "id": "a0cd9077",
   "metadata": {},
   "outputs": [],
   "source": [
    "#10. How can you tell the difference between break and continue\n",
    "# 1\n",
    "s=\"samsung\"\n",
    "for i in s:\n",
    "    if i=='n':\n",
    "        continue\n",
    "    print(i)\n",
    "else:\n",
    "    print(\"print string\",s)\n",
    "In this case, continue is a keyword used to continue the loop or iteration. When the condition i=='n' is True, continue will execute and it continues to the next iteration in loop.\n",
    "Used in loop only, not in switch case.\n",
    "\n",
    "# 2\n",
    "s=\"samsung\"\n",
    "for i in s:\n",
    "    if i=='m':\n",
    "        break\n",
    "    print(i)\n",
    "else:\n",
    "    print(\"print string\",s)\n",
    "In this case, break is a keywod used to break the loop or iteration. Once the condition i == 'm' is True, break will execute and terminate the execution of the loop (exit loop).\n",
    "Used in switch case.\n",
    "    "
   ]
  },
  {
   "cell_type": "raw",
   "id": "9ea96b2a",
   "metadata": {},
   "source": [
    "#11. In a for loop, what is the difference between range(10), range(0, 10), and range(0, 10, 1)?\n",
    "\n",
    "# for i in range(10):\n",
    "    print(i)\n",
    "In range(10) only the end point (10) is mentioned. Since the start and end point is not mentioned by default 0 is start point and default step size or jump is 1.\n",
    "\n",
    "#for i in range(0, 10):\n",
    "    print(i)\n",
    "In range(0,10) 0 is start and 10 is end point.\n",
    "\n",
    "#for i in range(0, 10, 1):\n",
    "    print(i)\n",
    "In range(0,10,1) 0 represents start , 10 is end point and 1 is step size or jump.\n",
    "\n",
    "In all the above range functions output is same.\n",
    "0\n",
    "1\n",
    "2\n",
    "3\n",
    "4\n",
    "5\n",
    "6\n",
    "7\n",
    "8\n",
    "9 "
   ]
  },
  {
   "cell_type": "code",
   "execution_count": null,
   "id": "f9ef7855",
   "metadata": {},
   "outputs": [],
   "source": [
    "#12. Write a short program that prints the numbers 1 to 10 using a for loop. Then write an equivalent program that prints the numbers 1 to 10 using a while loop."
   ]
  },
  {
   "cell_type": "code",
   "execution_count": 34,
   "id": "d2920d10",
   "metadata": {},
   "outputs": [
    {
     "name": "stdout",
     "output_type": "stream",
     "text": [
      "1\n",
      "2\n",
      "3\n",
      "4\n",
      "5\n",
      "6\n",
      "7\n",
      "8\n",
      "9\n",
      "10\n"
     ]
    }
   ],
   "source": [
    "for i in range(1,11):\n",
    "    print(i)"
   ]
  },
  {
   "cell_type": "code",
   "execution_count": 35,
   "id": "296c4046",
   "metadata": {},
   "outputs": [
    {
     "name": "stdout",
     "output_type": "stream",
     "text": [
      "1\n",
      "2\n",
      "3\n",
      "4\n",
      "5\n",
      "6\n",
      "7\n",
      "8\n",
      "9\n",
      "10\n"
     ]
    }
   ],
   "source": [
    "l=[1,2,3,4,5,6,7,8,9,10]\n",
    "a=0\n",
    "while a < len(l):\n",
    "    print(l[a])\n",
    "    a=a+1"
   ]
  },
  {
   "cell_type": "code",
   "execution_count": null,
   "id": "4b67c8ee",
   "metadata": {},
   "outputs": [],
   "source": [
    "#13. If you had a function named bacon() inside a module named spam, how would you call it after importing spam?"
   ]
  },
  {
   "cell_type": "raw",
   "id": "af5ef742",
   "metadata": {},
   "source": [
    "import spam \n",
    "a = spam.bacon()"
   ]
  },
  {
   "cell_type": "code",
   "execution_count": null,
   "id": "78621f8d",
   "metadata": {},
   "outputs": [],
   "source": []
  },
  {
   "cell_type": "code",
   "execution_count": null,
   "id": "9d2aef07",
   "metadata": {},
   "outputs": [],
   "source": []
  },
  {
   "cell_type": "code",
   "execution_count": null,
   "id": "6a91187f",
   "metadata": {},
   "outputs": [],
   "source": []
  },
  {
   "cell_type": "code",
   "execution_count": null,
   "id": "4be74937",
   "metadata": {},
   "outputs": [],
   "source": []
  },
  {
   "cell_type": "code",
   "execution_count": null,
   "id": "d5c0b87e",
   "metadata": {},
   "outputs": [],
   "source": []
  },
  {
   "cell_type": "code",
   "execution_count": null,
   "id": "c34996f8",
   "metadata": {},
   "outputs": [],
   "source": []
  },
  {
   "cell_type": "code",
   "execution_count": null,
   "id": "fd8d20b6",
   "metadata": {},
   "outputs": [],
   "source": []
  },
  {
   "cell_type": "code",
   "execution_count": null,
   "id": "c1c203c8",
   "metadata": {},
   "outputs": [],
   "source": []
  },
  {
   "cell_type": "code",
   "execution_count": null,
   "id": "25c38093",
   "metadata": {},
   "outputs": [],
   "source": []
  },
  {
   "cell_type": "code",
   "execution_count": null,
   "id": "30c951b1",
   "metadata": {},
   "outputs": [],
   "source": []
  },
  {
   "cell_type": "code",
   "execution_count": null,
   "id": "4c72b414",
   "metadata": {},
   "outputs": [],
   "source": []
  },
  {
   "cell_type": "code",
   "execution_count": null,
   "id": "fd5f0316",
   "metadata": {},
   "outputs": [],
   "source": []
  }
 ],
 "metadata": {
  "kernelspec": {
   "display_name": "Python 3 (ipykernel)",
   "language": "python",
   "name": "python3"
  },
  "language_info": {
   "codemirror_mode": {
    "name": "ipython",
    "version": 3
   },
   "file_extension": ".py",
   "mimetype": "text/x-python",
   "name": "python",
   "nbconvert_exporter": "python",
   "pygments_lexer": "ipython3",
   "version": "3.9.12"
  }
 },
 "nbformat": 4,
 "nbformat_minor": 5
}
