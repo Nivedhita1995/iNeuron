{
 "cells": [
  {
   "cell_type": "raw",
   "id": "c673f725",
   "metadata": {},
   "source": [
    "1. Assign the value 7 to the variable guess_me. Then, write the conditional tests (if, else, and elif) to print the string 'too low' if guess_me is less than 7, 'too high' if greater than 7, and 'just right' if equal to 7.\n",
    "2. Assign the value 7 to the variable guess_me and the value 1 to the variable start. Write a while loop that compares start with guess_me. Print too low if start is less than guess me. If start equals guess_me, print 'found it!' and exit the loop. If start is greater than guess_me, print 'oops' and exit the loop. Increment start at the end of the loop.\n",
    "3. Print the following values of the list [3, 2, 1, 0] using a for loop.\n",
    "4. Use a list comprehension to make a list of the even numbers in range(10)\n",
    "5. Use a dictionary comprehension to create the dictionary squares. Use range(10) to return the keys, and use the square of each key as its value.\n",
    "6. Construct the set odd from the odd numbers in the range using a set comprehension (10).\n",
    "7. Use a generator comprehension to return the string 'Got ' and a number for the numbers in range(10). Iterate through this by using a for loop.\n",
    "8. Define a function called good that returns the list ['Harry', 'Ron', 'Hermione'].\n",
    "9. Define a generator function called get_odds that returns the odd numbers from range(10). Use a for loop to find and print the third value returned.\n",
    "10. Define an exception called OopsException. Raise this exception to see what happens. Then write the code to catch this exception and print 'Caught an oops'.\n",
    "11. Use zip() to make a dictionary called movies that pairs these lists: titles = ['Creature of Habit', 'Crewel Fate'] and plots = ['A nun turns into a monster', 'A haunted yarn shop'].\n"
   ]
  },
  {
   "cell_type": "raw",
   "id": "8884d3c7",
   "metadata": {},
   "source": [
    "#1. Assign the value 7 to the variable guess_me. Then, write the conditional tests (if, else, and elif) to print the string 'too low' if guess_me is less than 7, 'too high' if greater than 7, and 'just right' if equal to 7.\n",
    "def guess_me(guess_me):\n",
    "    if guess_me < 7:\n",
    "        print('too Low')\n",
    "    elif guess_me > 7:\n",
    "        print('too High')\n",
    "    else:\n",
    "        print('just Right')\n",
    "guess_me(1)\n",
    "guess_me(8)\n",
    "guess_me(7)"
   ]
  },
  {
   "cell_type": "raw",
   "id": "6c01dc85",
   "metadata": {},
   "source": [
    "#2. Assign the value 7 to the variable guess_me and the value 1 to the variable start. Write a while loop that compares start with guess_me. Print too low if start is less than guess me. If start equals guess_me, print 'found it!' and exit the loop. If start is greater than guess_me, print 'oops' and exit the loop. Increment start at the end of the loop.\n",
    "guess_me = 7\n",
    "start = 1\n",
    "while True:\n",
    "    if start < guess_me:\n",
    "        print('too low')\n",
    "    elif start == guess_me:\n",
    "        print('found it')\n",
    "        break\n",
    "    else:\n",
    "        print('oops')\n",
    "        break\n",
    "    start += 1"
   ]
  },
  {
   "cell_type": "raw",
   "id": "47315368",
   "metadata": {},
   "source": [
    "#3. Print the following values of the list [3, 2, 1, 0] using a for loop.\n",
    "l=[3,2,1,0]\n",
    "for i in l:\n",
    "    print(i)"
   ]
  },
  {
   "cell_type": "raw",
   "id": "0f536089",
   "metadata": {},
   "source": [
    "#4. Use a list comprehension to make a list of the even numbers in range(10)\n",
    "for i in range(10+1):\n",
    "    if i%2==0:\n",
    "        print(i)"
   ]
  },
  {
   "cell_type": "raw",
   "id": "29ed83f9",
   "metadata": {},
   "source": [
    "#5. Use a dictionary comprehension to create the dictionary squares. Use range(10) to return the keys, and use the square of each key as its value.\n",
    "for i in range(10):\n",
    "    print({i:i**2})"
   ]
  },
  {
   "cell_type": "raw",
   "id": "ee295e11",
   "metadata": {},
   "source": [
    "#6. Construct the set odd from the odd numbers in the range using a set comprehension (10).\n",
    "print({i for i in range(10) if i%2 !=0})"
   ]
  },
  {
   "cell_type": "raw",
   "id": "3dddbdcd",
   "metadata": {},
   "source": [
    "#7. Use a generator comprehension to return the string 'Got ' and a number for the numbers in range(10). Iterate through this by using a for loop."
   ]
  },
  {
   "cell_type": "raw",
   "id": "64978977",
   "metadata": {},
   "source": [
    "for i in range(10):\n",
    "    print(\"Got_\"+str(i))"
   ]
  },
  {
   "cell_type": "raw",
   "id": "4b699621",
   "metadata": {},
   "source": [
    "generator= ('Got_'+str(i) for i in range(10))\n",
    "for j in generator:\n",
    "    print(j, end=' ')"
   ]
  },
  {
   "cell_type": "raw",
   "id": "8b41eebb",
   "metadata": {},
   "source": [
    "#8. Define a function called good that returns the list ['Harry', 'Ron', 'Hermione'].\n",
    "def good(l):\n",
    "    l=['Harry', 'Ron', 'Hermione']\n",
    "    return l\n",
    "print(good(l))"
   ]
  },
  {
   "cell_type": "raw",
   "id": "7faca4f8",
   "metadata": {},
   "source": [
    "#9. Define a generator function called get_odds that returns the odd numbers from range(10). Use a for loop to find and print the third value returned.\n",
    "def get_odds():\n",
    "    list = []\n",
    "    for j in range(10):\n",
    "        if j%2 != 0:\n",
    "            list.append(j)\n",
    "    yield list\n",
    "\n",
    "next(get_odds())[2]"
   ]
  },
  {
   "cell_type": "raw",
   "id": "2af41aaf",
   "metadata": {},
   "source": [
    "#10. Define an exception called OopsException. Raise this exception to see what happens. Then write the code to catch this exception and print 'Caught an oops'.\n",
    "class OopsException(Exception):\n",
    "    pass\n",
    "\n",
    "def test(a,b):\n",
    "    if b == 0:\n",
    "        raise OopsException(e)\n",
    "try:\n",
    "    a=5/0\n",
    "except ArithmeticError as e:\n",
    "    print('Caught in Oops ->',e)"
   ]
  },
  {
   "cell_type": "raw",
   "id": "579fb25a",
   "metadata": {},
   "source": [
    "#11. Use zip() to make a dictionary called movies that pairs these lists: titles = ['Creature of Habit', 'Crewel Fate'] and plots = ['A nun turns into a monster', 'A haunted yarn shop'].\n",
    "\n",
    "titles = ['Creature of Habit', 'Crewel Fate']\n",
    "plots = ['A nun turns into a monster', 'A haunted yarn shop']\n",
    "movies = dict(zip(titles,plots))\n",
    "print(movies)"
   ]
  },
  {
   "cell_type": "raw",
   "id": "f3d3f92a",
   "metadata": {},
   "source": []
  }
 ],
 "metadata": {
  "kernelspec": {
   "display_name": "Python 3 (ipykernel)",
   "language": "python",
   "name": "python3"
  },
  "language_info": {
   "codemirror_mode": {
    "name": "ipython",
    "version": 3
   },
   "file_extension": ".py",
   "mimetype": "text/x-python",
   "name": "python",
   "nbconvert_exporter": "python",
   "pygments_lexer": "ipython3",
   "version": "3.9.12"
  }
 },
 "nbformat": 4,
 "nbformat_minor": 5
}
