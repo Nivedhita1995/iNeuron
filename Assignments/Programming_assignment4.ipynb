{
 "cells": [
  {
   "cell_type": "raw",
   "id": "bf76b10b",
   "metadata": {},
   "source": [
    "1. Write a Python Program to Find the Factorial of a Number?\n",
    "2. Write a Python Program to Display the multiplication Table?\n",
    "3. Write a Python Program to Print the Fibonacci sequence?\n",
    "4. Write a Python Program to Check Armstrong Number?\n",
    "5. Write a Python Program to Find Armstrong Number in an Interval?\n",
    "6. Write a Python Program to Find the Sum of Natural Numbers?"
   ]
  },
  {
   "cell_type": "raw",
   "id": "8330b499",
   "metadata": {},
   "source": [
    "#1. Write a Python Program to Find the Factorial of a Number?"
   ]
  },
  {
   "cell_type": "raw",
   "id": "4be8d4ff",
   "metadata": {},
   "source": [
    "number = int(input(\"Enter a number: \"))\n",
    "factorial = 1\n",
    "\n",
    "if number < 0:\n",
    "   print(\"Sorry, factorial does not exist for negative numbers\")\n",
    "elif number == 0:\n",
    "   print(\"The factorial of 0 is 1\")\n",
    "else:\n",
    "   for i in range(1, number + 1):\n",
    "       factorial = factorial * i\n",
    "   print(\"The factorial of\", number, \"is\", factorial)\n"
   ]
  },
  {
   "cell_type": "raw",
   "id": "a1f32847",
   "metadata": {},
   "source": [
    "#2. Write a Python Program to Display the multiplication Table? "
   ]
  },
  {
   "cell_type": "raw",
   "id": "dc78c09e",
   "metadata": {},
   "source": [
    "number = int(input(\"Enter a number: \"))\n",
    "\n",
    "for i in range(1, 11):\n",
    "   print(number, \"x\", i, \"=\", number * i)\n"
   ]
  },
  {
   "cell_type": "raw",
   "id": "44e767c2",
   "metadata": {},
   "source": [
    "#3. Write a Python Program to Print the Fibonacci sequence?"
   ]
  },
  {
   "cell_type": "raw",
   "id": "264bf264",
   "metadata": {},
   "source": [
    "number = int(input(\"Enter the number of terms: \"))\n",
    "\n",
    "fib1, fib2 = 0, 1\n",
    "\n",
    "for i in range(number):\n",
    "    print(fib1)\n",
    "    fib1, fib2 = fib2, fib1 + fib2\n"
   ]
  },
  {
   "cell_type": "raw",
   "id": "4fd9152d",
   "metadata": {},
   "source": [
    "#4. Write a Python Program to Check Armstrong Number?"
   ]
  },
  {
   "cell_type": "raw",
   "id": "dfd19d7f",
   "metadata": {},
   "source": [
    "number = int(input(\"Enter a number: \"))\n",
    "\n",
    "sum = 0\n",
    "temp = number\n",
    "\n",
    "while temp > 0:\n",
    "    digit = temp % 10\n",
    "    sum += digit ** 3\n",
    "    temp //= 10\n",
    "\n",
    "if number == sum:\n",
    "    print(number, \"is an Armstrong number\")\n",
    "else:\n",
    "    print(number, \"is not an Armstrong number\")\n"
   ]
  },
  {
   "cell_type": "raw",
   "id": "7ed19b8c",
   "metadata": {},
   "source": [
    "#5. Write a Python Program to Find Armstrong Number in an Interval?"
   ]
  },
  {
   "cell_type": "raw",
   "id": "dd7f78a4",
   "metadata": {},
   "source": [
    "start = int(input(\"Enter start of the interval: \"))\n",
    "end = int(input(\"Enter end of the interval: \"))\n",
    "\n",
    "for number in range(start, end + 1):\n",
    "    sum = 0\n",
    "    temp = number\n",
    "\n",
    "    while temp > 0:\n",
    "        digit = temp % 10\n",
    "        sum += digit ** 3\n",
    "        temp //= 10\n",
    "\n",
    "    if number == sum:\n",
    "        print(number)\n"
   ]
  },
  {
   "cell_type": "raw",
   "id": "123a1fa2",
   "metadata": {},
   "source": [
    "#6. Write a Python Program to Find the Sum of Natural Numbers?"
   ]
  },
  {
   "cell_type": "raw",
   "id": "b330a44a",
   "metadata": {},
   "source": [
    "number = int(input(\"Enter a number: \"))\n",
    "\n",
    "sum = 0\n",
    "\n",
    "for i in range(1, number + 1):\n",
    "    sum += i\n",
    "\n",
    "print(\"The sum of natural numbers up to\", number, \"is\", sum)\n"
   ]
  },
  {
   "cell_type": "raw",
   "id": "dd6215bc",
   "metadata": {},
   "source": []
  }
 ],
 "metadata": {
  "kernelspec": {
   "display_name": "Python 3 (ipykernel)",
   "language": "python",
   "name": "python3"
  },
  "language_info": {
   "codemirror_mode": {
    "name": "ipython",
    "version": 3
   },
   "file_extension": ".py",
   "mimetype": "text/x-python",
   "name": "python",
   "nbconvert_exporter": "python",
   "pygments_lexer": "ipython3",
   "version": "3.9.12"
  }
 },
 "nbformat": 4,
 "nbformat_minor": 5
}
