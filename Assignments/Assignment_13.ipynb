{
 "cells": [
  {
   "cell_type": "raw",
   "id": "77bc533f",
   "metadata": {},
   "source": [
    "1. What advantages do Excel spreadsheets have over CSV spreadsheets?\n",
    "2.What do you pass to csv.reader() and csv.writer() to create reader and writer objects?\n",
    "3. What modes do File objects for reader and writer objects need to be opened in?\n",
    "4. What method takes a list argument and writes it to a CSV file?\n",
    "5. What do the keyword arguments delimiter and line terminator do?\n",
    "6. What function takes a string of JSON data and returns a Python data structure?\n",
    "7. What function takes a Python data structure and returns a string of JSON data?"
   ]
  },
  {
   "cell_type": "raw",
   "id": "ec4cf460",
   "metadata": {},
   "source": [
    "#1. What advantages do Excel spreadsheets have over CSV spreadsheets?\n",
    "Excel (XLS and XLSX) information is in tabular form in rows and columns.\n",
    "File formats are better for storing and analysing complex data.\n",
    "An Excel not only stores data but can also do operations on the data, format data as per requirement  using formulas etc,\n",
    "Whereas, CSV comma-separated values, also known as flat files, the data is in text format separated by commas, files are plain-text files, Does not contain formatting, formulas, etc. "
   ]
  },
  {
   "cell_type": "raw",
   "id": "f54065b6",
   "metadata": {},
   "source": [
    "#2. What do you pass to csv.reader() and csv.writer() to create reader and writer objects?\n",
    "import csv\n",
    "testFile = open('test.csv', 'w', newline='')\n",
    "Writer = csv.writer(testFile)\n",
    "Writer.writerow(['Hello, world!'])\n",
    "testFile.close()"
   ]
  },
  {
   "cell_type": "raw",
   "id": "e90aafbf",
   "metadata": {},
   "source": [
    "import csv\n",
    "testFile = open('test.csv', 'r')\n",
    "exampleReader = csv.reader(testFile)\n",
    "for row in exampleReader:\n",
    "    print('Row #' + str(exampleReader.line_num) + ' ' + str(row))"
   ]
  },
  {
   "cell_type": "raw",
   "id": "4a8f7aea",
   "metadata": {},
   "source": [
    "#3. What modes do File objects for reader and writer objects need to be opened in?\n",
    "For csv.reader(iterable_file_object), the file objects needed to be opened in read mode mode='r' and for csv.writer(iterable_file_object) the file objects needed to be opened in write mode mode='w'"
   ]
  },
  {
   "cell_type": "raw",
   "id": "dd251856",
   "metadata": {},
   "source": [
    "#4. What method takes a list argument and writes it to a CSV file?\n",
    "writerow() method writes a single row at a time.\n",
    "writerows() method is used to write multiple rows at a time.\n",
    "Each value in the list is placed in its own cell in the output CSV file.\n",
    "The return value of writerow() is the number of characters written to the file for that row (including newline characters).\n",
    "example:\n",
    "import csv\n",
    "testFile = open('test.csv', 'w', newline='')\n",
    "Writer = csv.writer(testFile)\n",
    "Writer.writerow(['Hello, world!', 'eggs', 'bacon', 'ham'])\n",
    "testFile.close()\n",
    "['Hello, world!', 'eggs', 'bacon', 'ham'] is the list argument.\n",
    "\"Hello, world!\",eggs,bacon,ham is the output in csv file."
   ]
  },
  {
   "cell_type": "raw",
   "id": "ab7d687c",
   "metadata": {},
   "source": [
    "#5. What do the keyword arguments delimiter and line terminator do?\n",
    "\n",
    "import csv\n",
    "File = open('abc.csv', 'w', newline='')\n",
    "Writer = csv.writer(File, delimiter='\\t', lineterminator='\\n\\n')\n",
    "Writer.writerow(['apples', 'oranges', 'grapes'])\n",
    "Writer.writerow(['eggs', 'bacon', 'ham'])\n",
    "Writer.writerow(['spam', 'spam', 'spam', 'spam', 'spam', 'spam'])\n",
    "File.close()\n",
    "\n",
    "# output:\n",
    "#apples\toranges\tgrapes\n",
    "#eggs\tbacon\tham\n",
    "#spam\tspam\tspam\tspam\tspam\tspam\n",
    "\n",
    "# The delimiter is the character that appears between cells on a row. By default, the delimiter for a CSV file is a comma. The line terminator is the character that comes at the end of a row. By default, the line terminator is a newline.\n",
    "#Here '\\t' (tab) is the delimiter and '\\n\\n' (two newlines) is the line terminator."
   ]
  },
  {
   "cell_type": "raw",
   "id": "c32e97d6",
   "metadata": {},
   "source": [
    "#6. What function takes a string of JSON data and returns a Python data structure?\n",
    "#The loads() method takes a string of JSON data and returns a Python data structure \n",
    "import json\n",
    "StringofJsonData = '{\"name\": \"abc\", \"isWorking\": true, \"phonenum\": 123456789}'\n",
    "PythonData = json.loads(StringofJsonData)\n",
    "PythonData"
   ]
  },
  {
   "cell_type": "raw",
   "id": "42d89413",
   "metadata": {},
   "source": [
    "#7. What function takes a Python data structure and returns a string of JSON data?\n",
    "#The json.dumps() function will translate a Python value into a string of JSON-formatted data.\n",
    "import json\n",
    "PythonData = {\"name\": \"abc\", \"isWorking\": True, \"phonenum\": 123456789}\n",
    "stringOfJsonData = json.dumps(PythonData)\n",
    "stringOfJsonData"
   ]
  },
  {
   "cell_type": "raw",
   "id": "4e22e818",
   "metadata": {},
   "source": []
  },
  {
   "cell_type": "raw",
   "id": "dd0620c9",
   "metadata": {},
   "source": []
  },
  {
   "cell_type": "raw",
   "id": "8ecd8948",
   "metadata": {},
   "source": []
  }
 ],
 "metadata": {
  "kernelspec": {
   "display_name": "Python 3 (ipykernel)",
   "language": "python",
   "name": "python3"
  },
  "language_info": {
   "codemirror_mode": {
    "name": "ipython",
    "version": 3
   },
   "file_extension": ".py",
   "mimetype": "text/x-python",
   "name": "python",
   "nbconvert_exporter": "python",
   "pygments_lexer": "ipython3",
   "version": "3.9.12"
  }
 },
 "nbformat": 4,
 "nbformat_minor": 5
}
