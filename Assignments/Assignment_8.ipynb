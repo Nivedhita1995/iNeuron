{
 "cells": [
  {
   "cell_type": "raw",
   "id": "d26f7cdf",
   "metadata": {},
   "source": [
    "1. Is the Python Standard Library included with PyInputPlus?\n",
    "2. Why is PyInputPlus commonly imported with import pyinputplus as pypi?\n",
    "3. How do you distinguish between inputInt() and inputFloat()?\n",
    "4. Using PyInputPlus, how do you ensure that the user enters a whole number between 0 and 99?\n",
    "5. What is transferred to the keyword arguments allowRegexes and blockRegexes?\n",
    "6. If a blank input is entered three times, what does inputStr(limit=3) do?\n",
    "7. If blank input is entered three times, what does inputStr(limit=3, default=&#39;hello&#39;) do?"
   ]
  },
  {
   "cell_type": "raw",
   "id": "04e28fdf",
   "metadata": {},
   "source": [
    "#1. Is the Python Standard Library included with PyInputPlus?\n",
    "The Python Standard Library is not included with PyInputPlus.\n",
    "PyInputPlus is a Python module used for taking inputs with additional validation features. PyInputPlus will keep asking the user for text until they enter valid input.\n",
    "This PyInputPlus module is installed via pip command : pip install PyInputPlus\n",
    "pip install PyInputPlus\n",
    "import pyinputplus as pypi"
   ]
  },
  {
   "cell_type": "raw",
   "id": "8333d9ea",
   "metadata": {},
   "source": [
    "#2. Why is PyInputPlus commonly imported with import pyinputplus as pypi? \n",
    "PyInputPlus is commonly imported with import pyinputplus as pypi to make it easy to call with shorter name pypi while calling module's function."
   ]
  },
  {
   "cell_type": "raw",
   "id": "44d4ce4c",
   "metadata": {},
   "source": [
    "#3. How do you distinguish between inputInt() and inputFloat()?\n",
    "The difference between inputInt() and inputFloat() is the data-type.\n",
    "inputInt() expects intput value to be an integer.\n",
    "inputFloat() expects intput value to be an decimal number(float). "
   ]
  },
  {
   "cell_type": "raw",
   "id": "c7d3fcdb",
   "metadata": {},
   "source": [
    "#4. Using PyInputPlus, how do you ensure that the user enters a whole number between 0 and 99?\n",
    "pyip.inputint(min=0, max=99)"
   ]
  },
  {
   "cell_type": "raw",
   "id": "174084b4",
   "metadata": {},
   "source": [
    "#5. What is transferred to the keyword arguments allowRegexes and blockRegexes?\n",
    "A list of regex strings that are either explicitly allowed or denied."
   ]
  },
  {
   "cell_type": "raw",
   "id": "9c5e7f16",
   "metadata": {},
   "source": [
    "#6. If a blank input is entered three times, what does inputStr(limit=3) do?\n",
    " The function will raise RetryLimitException."
   ]
  },
  {
   "cell_type": "raw",
   "id": "0211317c",
   "metadata": {},
   "source": [
    "#7. If blank input is entered three times, what does inputStr(limit=3, default='hello') do?\n",
    "The function returns the value 'hello'"
   ]
  },
  {
   "cell_type": "raw",
   "id": "543f2e72",
   "metadata": {},
   "source": []
  }
 ],
 "metadata": {
  "kernelspec": {
   "display_name": "Python 3 (ipykernel)",
   "language": "python",
   "name": "python3"
  },
  "language_info": {
   "codemirror_mode": {
    "name": "ipython",
    "version": 3
   },
   "file_extension": ".py",
   "mimetype": "text/x-python",
   "name": "python",
   "nbconvert_exporter": "python",
   "pygments_lexer": "ipython3",
   "version": "3.9.12"
  }
 },
 "nbformat": 4,
 "nbformat_minor": 5
}
