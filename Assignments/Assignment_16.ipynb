{
 "cells": [
  {
   "cell_type": "raw",
   "id": "0d9f4099",
   "metadata": {},
   "source": [
    "1. Create a list called years_list, starting with the year of your birth, and each year thereafter until the year of your fifth birthday. For example, if you were born in 1980. the list would be years_list = [1980, 1981, 1982, 1983, 1984, 1985].\n",
    "2. In which year in years_list was your third birthday? Remember, you were 0 years of age for your first year.\n",
    "3.In the years list, which year were you the oldest?\n",
    "4. Make a list called things with these three strings as elements: \"mozzarella\", \"cinderella\", \"salmonella\".\n",
    "5. Capitalize the element in things that refers to a person and then print the list. Did it change the element in the list?\n",
    "6. Make a surprise list with the elements \"Groucho,\" \"Chico,\" and \"Harpo.\"\n",
    "7. Lowercase the last element of the surprise list, reverse it, and then capitalize it.\n",
    "8. Make an English-to-French dictionary called e2f and print it. Here are your starter words: dog is chien, cat is chat, and walrus is morse.\n",
    "9. Write the French word for walrus in your three-word dictionary e2f.\n",
    "10. Make a French-to-English dictionary called f2e from e2f. Use the items method.\n",
    "11. Print the English version of the French word chien using f2e.\n",
    "12. Make and print a set of English words from the keys in e2f.\n",
    "13. Make a multilevel dictionary called life. Use these strings for the topmost keys: 'animals', 'plants', and 'other'. Make the 'animals' key refer to another dictionary with the keys 'cats', 'octopi', and 'emus'. Make the 'cats' key refer to a list of strings with the values 'Henri', 'Grumpy', and 'Lucy'. Make all the other keys refer to empty dictionaries.\n",
    "14. Print the top-level keys of life.\n",
    "15. Print the keys for life['animals'].\n",
    "16. Print the values for life['animals']['cats']"
   ]
  },
  {
   "cell_type": "raw",
   "id": "831c176f",
   "metadata": {},
   "source": [
    "#1. Create a list called years_list, starting with the year of your birth, and each year thereafter until the year of your fifth birthday.\n",
    "years_list = [i for i in range(1997,1997+6)]\n",
    "print(years_list)"
   ]
  },
  {
   "cell_type": "raw",
   "id": "b0b23f79",
   "metadata": {},
   "source": [
    "#2. In which year in years_list was your third birthday? Remember, you were 0 years of age for your first year.\n",
    "print('Year of third birthday', ':',years_list[3],end='')"
   ]
  },
  {
   "cell_type": "raw",
   "id": "a42fd18d",
   "metadata": {},
   "source": [
    "#3.In the years list, which year were you the oldest?\n",
    "print(years_list[-1])"
   ]
  },
  {
   "cell_type": "raw",
   "id": "393efde8",
   "metadata": {},
   "source": [
    "#4. Make a list called things with these three strings as elements: \"mozzarella\", \"cinderella\", \"salmonella\".\n",
    "things=[\"mozzar\", \"cinder\", \"salmon\"]\n",
    "for i in things:\n",
    "    print(str(i)+'ella')"
   ]
  },
  {
   "cell_type": "raw",
   "id": "3d72e67f",
   "metadata": {},
   "source": [
    "#5. Capitalize the element in things that refers to a person and then print the list. Did it change the element in the list?\n",
    "things=[\"mozzarella\", \"cinderella\", \"salmonella\"]\n",
    "for i in range(len(things)):\n",
    "    if things[i] == 'cinderella':\n",
    "        things[i] = things[i].capitalize()\n",
    "print(things)\n",
    "# things[i] = things[i].capitalize().\n",
    "# After item reassignment for things[i] where things[i]='cindrella' to things[i].capitalize() by using in-built fuction \"capitalize\", it changes the element in the list. "
   ]
  },
  {
   "cell_type": "raw",
   "id": "e8b08711",
   "metadata": {},
   "source": [
    "#6. Make a surprise list with the elements \"Groucho,\" \"Chico,\" and \"Harpo.\"\n",
    "surprise_list = [\"Groucho\",\"Chico\",\"Harpo\"]\n",
    "print(surprise_list)"
   ]
  },
  {
   "cell_type": "raw",
   "id": "233d07a6",
   "metadata": {},
   "source": [
    "#7. Lowercase the last element of the surprise list, reverse it, and then capitalize it.\n",
    "a=surprise_list[-1].lower() # To lower case the last element of the list.\n",
    "b=a[::-1] # To reverse the last element.\n",
    "c=b.capitalize() # To capitalize the last element.\n",
    "print(a)\n",
    "print(b)\n",
    "print(c)"
   ]
  },
  {
   "cell_type": "raw",
   "id": "6b82f82f",
   "metadata": {},
   "source": [
    "#8. Make an English-to-French dictionary called e2f and print it. Here are your starter words: dog is chien, cat is chat, and walrus is morse.\n",
    "e2f = {\"dog\" : \"chien\",\"cat\" : \"chat\",\"walrus\" : \"morse\" }\n",
    "print(e2f)"
   ]
  },
  {
   "cell_type": "raw",
   "id": "33b6be18",
   "metadata": {},
   "source": [
    "#9. Write the French word for walrus in your three-word dictionary e2f.\n",
    "print(e2f['walrus'])"
   ]
  },
  {
   "cell_type": "raw",
   "id": "caade5dd",
   "metadata": {},
   "source": [
    "#10. Make a French-to-English dictionary called f2e from e2f. Use the items method.\n",
    "f2e = dict([i[::-1] for i in e2f.items()])\n",
    "print(f2e)"
   ]
  },
  {
   "cell_type": "raw",
   "id": "53070faa",
   "metadata": {},
   "source": [
    "#11. Print the English version of the French word chien using f2e.\n",
    "print(f2e['chien'])"
   ]
  },
  {
   "cell_type": "raw",
   "id": "a11c01ef",
   "metadata": {},
   "source": [
    "#12. Make and print a set of English words from the keys in e2f.\n",
    "print(set(e2f.keys()))"
   ]
  },
  {
   "cell_type": "raw",
   "id": "0b454a13",
   "metadata": {},
   "source": [
    "#13. Make a multilevel dictionary called life. Use these strings for the topmost keys: 'animals', 'plants', and 'other'. Make the 'animals' key refer to another dictionary with the keys 'cats', 'octopi', and 'emus'. Make the 'cats' key refer to a list of strings with the values 'Henri', 'Grumpy', and 'Lucy'. Make all the other keys refer to empty dictionaries.\n",
    "life = {\n",
    "    'animals':{\n",
    "        'cats':['Henri','Grumpy','Lucy'],\n",
    "        'octopi':{},\n",
    "        'emus':{}\n",
    "    },\n",
    "    'plants':{},\n",
    "    'other':{}\n",
    "}\n",
    "print(life)"
   ]
  },
  {
   "cell_type": "raw",
   "id": "dba3b239",
   "metadata": {},
   "source": [
    "#14. Print the top-level keys of life.\n",
    "print(list(life.keys()))"
   ]
  },
  {
   "cell_type": "raw",
   "id": "3245a490",
   "metadata": {},
   "source": [
    "#15. Print the keys for life['animals'].\n",
    "print(list(life['animals'].keys()))"
   ]
  },
  {
   "cell_type": "raw",
   "id": "1a7c994a",
   "metadata": {},
   "source": [
    "#16. Print the values for life['animals']['cats'].\n",
    "print(life['animals']['cats'])\n"
   ]
  },
  {
   "cell_type": "raw",
   "id": "f691970a",
   "metadata": {},
   "source": []
  },
  {
   "cell_type": "raw",
   "id": "58fe0087",
   "metadata": {},
   "source": []
  }
 ],
 "metadata": {
  "kernelspec": {
   "display_name": "Python 3 (ipykernel)",
   "language": "python",
   "name": "python3"
  },
  "language_info": {
   "codemirror_mode": {
    "name": "ipython",
    "version": 3
   },
   "file_extension": ".py",
   "mimetype": "text/x-python",
   "name": "python",
   "nbconvert_exporter": "python",
   "pygments_lexer": "ipython3",
   "version": "3.9.12"
  }
 },
 "nbformat": 4,
 "nbformat_minor": 5
}
