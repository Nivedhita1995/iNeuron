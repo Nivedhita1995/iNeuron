{
 "cells": [
  {
   "cell_type": "raw",
   "id": "021b2ee1",
   "metadata": {},
   "source": [
    "1. Add the current date to the text file today.txt as a string.\n",
    "2. Read the text file today.txt into the string today_string\n",
    "3. Parse the date from today_string.\n",
    "4. List the files in your current directory\n",
    "5. Create a list of all of the files in your parent directory (minimum five files should be available).\n",
    "6. Use multiprocessing to create three separate processes. Make each one wait a random number of\n",
    "seconds between one and five, print the current time, and then exit.\n",
    "7. Create a date object of your day of birth.\n",
    "8. What day of the week was your day of birth?\n",
    "9. When will you be (or when were you) 10,000 days old?"
   ]
  },
  {
   "cell_type": "raw",
   "id": "6af9ad8b",
   "metadata": {},
   "source": [
    "#1. Add the current date to the text file today.txt as a string."
   ]
  },
  {
   "cell_type": "raw",
   "id": "905b555e",
   "metadata": {},
   "source": [
    "import datetime\n",
    "def create_file():\n",
    "    with open (\"today.txt\",\"w\") as file:\n",
    "        file.write(datetime.datetime.now().strftime(\"%d-%m-%Y\"))\n",
    "        file.close()\n",
    "create_file()"
   ]
  },
  {
   "cell_type": "raw",
   "id": "0f48cc3f",
   "metadata": {},
   "source": [
    "file = open('today.txt','r')\n",
    "print(file.read())\n",
    "file.close()"
   ]
  },
  {
   "cell_type": "raw",
   "id": "15142eee",
   "metadata": {},
   "source": [
    "#2. Read the text file today.txt into the string today_string"
   ]
  },
  {
   "cell_type": "raw",
   "id": "4018fb17",
   "metadata": {},
   "source": [
    "file = open('today.txt','r')\n",
    "today_string = file.read()\n",
    "print(today_string)"
   ]
  },
  {
   "cell_type": "raw",
   "id": "8d2976f7",
   "metadata": {},
   "source": [
    "#3. Parse the date from today_string."
   ]
  },
  {
   "cell_type": "raw",
   "id": "1bdc12db",
   "metadata": {},
   "source": [
    "from datetime import datetime\n",
    "parsed_data = datetime.strptime(today_string, '%d-%m-%Y')\n",
    "print(parsed_data)"
   ]
  },
  {
   "cell_type": "raw",
   "id": "49eab99a",
   "metadata": {},
   "source": [
    "#4. List the files in your current directory"
   ]
  },
  {
   "cell_type": "raw",
   "id": "20dd7b8c",
   "metadata": {},
   "source": [
    "import os\n",
    "for all_folders in os.walk(os.getcwd()):\n",
    "    for file in all_folders:\n",
    "        print(file)"
   ]
  },
  {
   "cell_type": "raw",
   "id": "cf84d47f",
   "metadata": {},
   "source": [
    "#5. Create a list of all of the files in your parent directory (minimum five files should be available)."
   ]
  },
  {
   "cell_type": "raw",
   "id": "6efe12fe",
   "metadata": {},
   "source": [
    "import os \n",
    "os.listdir()"
   ]
  },
  {
   "cell_type": "raw",
   "id": "d919af44",
   "metadata": {},
   "source": [
    "#6. Use multiprocessing to create three separate processes. Make each one wait a random number of seconds between one and five, print the current time, and then exit."
   ]
  },
  {
   "cell_type": "raw",
   "id": "b8da0670",
   "metadata": {},
   "source": [
    "import multiprocessing\n",
    "import time \n",
    "import random\n",
    "import datetime\n",
    "\n",
    "def process_1():\n",
    "    print(f'process_1_Starttime -> {datetime.datetime.now()}')\n",
    "    time.sleep(random.randint(1,5))\n",
    "    print(f'process_1_Endtime -> {datetime.datetime.now()}')\n",
    "    \n",
    "def process_2():\n",
    "    print(f'process_2_Starttime -> {datetime.datetime.now()}')\n",
    "    time.sleep(random.randint(1,5))\n",
    "    print(f'process_2_Endtime -> {datetime.datetime.now()}')\n",
    "\n",
    "def process_3():\n",
    "    print(f'process_3_Starttime -> {datetime.datetime.now()}')\n",
    "    time.sleep(random.randint(1,5))\n",
    "    print(f'process_3_Endtime -> {datetime.datetime.now()}')\n",
    "    \n",
    "if __name__ == \"__main__\":    \n",
    "    p1 = multiprocessing.Process(target=process_1)\n",
    "    p2 = multiprocessing.Process(target=process_2)\n",
    "    p3 = multiprocessing.Process(target=process_3)\n",
    "\n",
    "    p1.start()\n",
    "    p2.start()\n",
    "    p3.start()\n",
    "\n",
    "    p1.join()\n",
    "    p2.join()\n",
    "    p3.join()"
   ]
  },
  {
   "cell_type": "raw",
   "id": "a384dd1d",
   "metadata": {},
   "source": [
    "#7. Create a date object of your day of birth."
   ]
  },
  {
   "cell_type": "raw",
   "id": "5cbaa259",
   "metadata": {},
   "source": [
    "from datetime import datetime\n",
    "my_dob = datetime.strptime('14/01/1993','%d/%m/%Y')\n",
    "print(my_dob, type(my_dob))"
   ]
  },
  {
   "cell_type": "raw",
   "id": "56d41f26",
   "metadata": {},
   "source": [
    "#8. What day of the week was your day of birth?"
   ]
  },
  {
   "cell_type": "raw",
   "id": "d75250a3",
   "metadata": {},
   "source": [
    "from datetime import datetime\n",
    "my_dob = datetime(1993,1,14)\n",
    "my_dob.strftime(\"%A\")"
   ]
  },
  {
   "cell_type": "raw",
   "id": "9325b669",
   "metadata": {},
   "source": [
    "#9. When will you be (or when were you) 10,000 days old?"
   ]
  },
  {
   "cell_type": "raw",
   "id": "b5c1b960",
   "metadata": {},
   "source": [
    "from datetime import datetime, timedelta\n",
    "my_dob = datetime.strptime(\"14/01/1993\",'%d/%m/%Y')\n",
    "future_date = my_dob-timedelta(10000)\n",
    "future_date"
   ]
  },
  {
   "cell_type": "raw",
   "id": "62d8a4e7",
   "metadata": {},
   "source": []
  }
 ],
 "metadata": {
  "kernelspec": {
   "display_name": "Python 3 (ipykernel)",
   "language": "python",
   "name": "python3"
  },
  "language_info": {
   "codemirror_mode": {
    "name": "ipython",
    "version": 3
   },
   "file_extension": ".py",
   "mimetype": "text/x-python",
   "name": "python",
   "nbconvert_exporter": "python",
   "pygments_lexer": "ipython3",
   "version": "3.9.12"
  }
 },
 "nbformat": 4,
 "nbformat_minor": 5
}
