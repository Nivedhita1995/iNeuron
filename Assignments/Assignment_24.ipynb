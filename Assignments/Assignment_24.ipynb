{
 "cells": [
  {
   "cell_type": "raw",
   "id": "9e705ba5",
   "metadata": {},
   "source": [
    "1. What is the relationship between def statements and lambda expressions ?\n",
    "2. What is the benefit of lambda?\n",
    "3. Compare and contrast map, filter, and reduce.\n",
    "4. What are function annotations, and how are they used?\n",
    "5. What are recursive functions, and how are they used?\n",
    "6. What are some general design guidelines for coding functions?\n",
    "7. Name three or more ways that functions can communicate results to a caller."
   ]
  },
  {
   "cell_type": "raw",
   "id": "55cf4b4c",
   "metadata": {},
   "source": [
    "#1. What is the relationship between def statements and lambda expressions ?"
   ]
  },
  {
   "cell_type": "raw",
   "id": "72234798",
   "metadata": {},
   "source": [
    "#def statement is used to create a normal function.\n",
    "#lamba expressions are used to create Anonymous functions.,which can be assigned to a variable and can be called using the variable later in function.\n",
    "#Lambda's body is a single expression and not a block of statements like def statement.\n",
    "#The lambda expression's body is similar to what we'd put in a def body's return statement. The result as an expression instead of explicitly returning it. Because it is limited to an expression, a lambda is less general than a def statement."
   ]
  },
  {
   "cell_type": "raw",
   "id": "15696406",
   "metadata": {},
   "source": [
    "#2. What is the benefit of lambda?"
   ]
  },
  {
   "cell_type": "raw",
   "id": "abc9e151",
   "metadata": {},
   "source": [
    "#The lambda keyword in Python provides a shortcut for declaring small anonymous functions. \n",
    "#Lambda functions behave just like regular functions declared with the def keyword. \n",
    "#They can be used whenever function objects are required.\n",
    "#Fuctions created using lambda expressions can be assigned to a variable and can be used by simply calling the variable.\n",
    "#Moderate to small functions can be created in a single line.\n",
    "#Used to create Nameless/Anonymous functions inside some complex functions when we have use it only once."
   ]
  },
  {
   "cell_type": "raw",
   "id": "2e6b2a7f",
   "metadata": {},
   "source": [
    "#3. Compare and contrast map, filter, and reduce."
   ]
  },
  {
   "cell_type": "raw",
   "id": "b5786736",
   "metadata": {},
   "source": [
    "#Python has built-in functions like map(), filter(), and reduce().\n",
    "#The functions map(), filter(), and reduce() all do the same thing: They each take a function and a list of elements, and then return the result of applying the function to each element in the list.\n",
    "#The differences between map, filter and reduce are:\n",
    "#map(): The map() function is a type of higher-order. This function takes another function as a parameter along with a sequence of iterables and returns an output after applying the function to each iterable present in the sequence.\n",
    "#filter(): The filter() function is used to create an output list consisting of values for which the function returns true.\n",
    "#reduce(): reduce() works differently than map() and filter() . It does not return a new list based on the function and iterable we've passed. Instead, it returns a single value. The reduce() function, as the name describes, applies a given function to the iterables and returns a single value."
   ]
  },
  {
   "cell_type": "raw",
   "id": "4a653b09",
   "metadata": {},
   "source": [
    "#Examples:\n",
    "#retuen : to return l as string using map function (lambda)\n",
    "l=[1,2,3,4,5]\n",
    "list(map(lambda x : str(x),l))\n",
    "\n",
    "#reduce : applying a function of 2 arguments (x,y) cumulatively to items, to reduce the sequence to a single value. \n",
    "from functools import reduce\n",
    "reduce(lambda a,b : a+b , l)\n",
    "\n",
    "#filter : to sort even numbers from l\n",
    "list(filter(lambda x :x%2 == 0 , l))"
   ]
  },
  {
   "cell_type": "raw",
   "id": "f5d0726b",
   "metadata": {},
   "source": [
    "#4. What are function annotations, and how are they used?"
   ]
  },
  {
   "cell_type": "raw",
   "id": "88467ed2",
   "metadata": {},
   "source": [
    "# Function annotations are arbitrary python expressions that are associated with various part of functions. \n",
    "# These expressions are evaluated at compile time and have no life in python’s runtime environment. \n",
    "# Python does not attach any meaning to these annotations. \n",
    "# Function annotations provide a way of associating various parts of a function with arbitrary python expressions at compile time.\n",
    "# Annotations of simple parameters def func(x: expression, y: expression = 20):\n",
    "# Whereas the annotations for excess parameters are as − def func (**args: expression, **kwargs: expression):"
   ]
  },
  {
   "cell_type": "raw",
   "id": "085b2259",
   "metadata": {},
   "source": [
    "#5. What are recursive functions, and how are they used?"
   ]
  },
  {
   "cell_type": "raw",
   "id": "26c9e6c0",
   "metadata": {},
   "source": [
    "# Recursive Function is a function that repeats or uses its own previous term to calculate subsequent terms and thus forms a sequence of terms.\n",
    "# A recursive function calls itself during its execution."
   ]
  },
  {
   "cell_type": "raw",
   "id": "f9db656c",
   "metadata": {},
   "source": [
    "#6. What are some general design guidelines for coding functions?"
   ]
  },
  {
   "cell_type": "raw",
   "id": "bc20f52c",
   "metadata": {},
   "source": [
    "# PEP 8 style guidelines to be followed for python coding functions.\n",
    "# Use a tab for indentation -> Using a tab for indentation in the code make code more readable instead of using random spaces for multiple functions and methods.\n",
    "# Pythons' default UTF-8 or ASCII encoding.\n",
    "# Using docstrings -> Use docstring in the functions and classes. We can use the triple quotes for the docstrings.\n",
    "# Writing more than 79 characters in a line is not recommended in PEP 8 style guide. Avoid this by breaking the line into multiple lines using the escape character ().\n",
    "# Using a space before and after an operator. Use a space after the comma as well for more readability.\n",
    "# Using snake_case for functions and variables naming and PascalCase for classes naming. For constants, use all uppercase letter separated with underscores.\n",
    "# Local variables should be named using camelCase format (ex: localVariable) whereas Global variables names should be using PascalCase (ex:GlobalVariable)\n",
    "# Proper Identation to increase the code readability.\n",
    "# Avoid using digits while choosing a variable name.\n",
    "# To use a name for the function which conveys the purpose of the function."
   ]
  },
  {
   "cell_type": "raw",
   "id": "cd8a2762",
   "metadata": {},
   "source": [
    "#7. Name three or more ways that functions can communicate results to a caller."
   ]
  },
  {
   "cell_type": "raw",
   "id": "6a45664d",
   "metadata": {},
   "source": [
    "# print -> The print() function prints the specified message to the screen, or other standard output device.\n",
    "# The message can be a string, or any other object, the object will be converted into a string before written to the screen.\n",
    "\n",
    "# return -> A return statement is used to end the execution of the function call and “returns” the result (value of the expression following the return keyword) to the caller.\n",
    "# The statements after the return statements are not executed. If the return statement is without any expression, then the special value None is returned. A return statement is overall used to invoke a function so that the passed statements can be executed.\n",
    "\n",
    "# yield -> A yield keyword is used to create a generator function. A type of function that is memory efficient and can be used like an iterator object."
   ]
  },
  {
   "cell_type": "raw",
   "id": "43c0a9ba",
   "metadata": {},
   "source": []
  }
 ],
 "metadata": {
  "kernelspec": {
   "display_name": "Python 3 (ipykernel)",
   "language": "python",
   "name": "python3"
  },
  "language_info": {
   "codemirror_mode": {
    "name": "ipython",
    "version": 3
   },
   "file_extension": ".py",
   "mimetype": "text/x-python",
   "name": "python",
   "nbconvert_exporter": "python",
   "pygments_lexer": "ipython3",
   "version": "3.9.12"
  }
 },
 "nbformat": 4,
 "nbformat_minor": 5
}
