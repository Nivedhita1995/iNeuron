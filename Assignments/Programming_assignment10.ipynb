{
 "cells": [
  {
   "cell_type": "raw",
   "id": "8c7d2a88",
   "metadata": {},
   "source": [
    "1. Write a Python program to find sum of elements in list?\n",
    "2. Write a Python program to Multiply all numbers in the list?\n",
    "3. Write a Python program to find smallest number in a list?\n",
    "4. Write a Python program to find largest number in a list?\n",
    "5. Write a Python program to find second largest number in a list?\n",
    "6. Write a Python program to find N largest elements from a list?\n",
    "7. Write a Python program to print even numbers in a list?\n",
    "8. Write a Python program to print odd numbers in a List?\n",
    "9. Write a Python program to Remove empty List from List?\n",
    "10. Write a Python program to Cloning or Copying a list?\n",
    "11. Write a Python program to Count occurrences of an element in a list?"
   ]
  },
  {
   "cell_type": "raw",
   "id": "9470b8a7",
   "metadata": {},
   "source": [
    "#1. Write a Python program to find sum of elements in list?"
   ]
  },
  {
   "cell_type": "raw",
   "id": "7515ff6d",
   "metadata": {},
   "source": [
    "def sum_of_elements(List):\n",
    "   \n",
    "    sum = 0\n",
    "    for items in List:\n",
    "        sum += items\n",
    "    return sum\n",
    "my_list = [1, 2, 3, 4, 5]\n",
    "print(\"Sum of elements in\", my_list, \"is\", sum_of_elements(my_list))\n"
   ]
  },
  {
   "cell_type": "raw",
   "id": "a2f259ad",
   "metadata": {},
   "source": [
    "#2. Write a Python program to Multiply all numbers in the list?"
   ]
  },
  {
   "cell_type": "raw",
   "id": "0976576d",
   "metadata": {},
   "source": [
    "def multiply_elements(List):\n",
    "   \n",
    "    output = 1\n",
    "    for items in List:\n",
    "        output *= items\n",
    "    return output\n",
    "my_list = [1,2,3,4,5]\n",
    "print(\"Product of elements in\", my_list, \"is\", multiply_elements(my_list))\n"
   ]
  },
  {
   "cell_type": "raw",
   "id": "148d620c",
   "metadata": {},
   "source": [
    "#3. Write a Python program to find smallest number in a list?"
   ]
  },
  {
   "cell_type": "raw",
   "id": "c2ff4c3a",
   "metadata": {},
   "source": [
    "def find_smallest(List):\n",
    "    smallest = List[0]\n",
    "    for i in List:\n",
    "        if i < smallest:\n",
    "            smallest = i\n",
    "    return smallest\n",
    "\n",
    "\n",
    "my_list = [10,7,6,8,2,9]\n",
    "print(\"Smallest element in\", my_list, \"is\", find_smallest(my_list))\n"
   ]
  },
  {
   "cell_type": "raw",
   "id": "5bce0481",
   "metadata": {},
   "source": [
    "#4. Write a Python program to find largest number in a list?"
   ]
  },
  {
   "cell_type": "raw",
   "id": "cec2fe93",
   "metadata": {},
   "source": [
    "def find_largest(List):\n",
    "    largest = max(List)\n",
    "    for i in List:\n",
    "        if i > largest:\n",
    "            largest = i\n",
    "    return largest\n",
    "\n",
    "\n",
    "my_list = [15,7,6,9,2]\n",
    "print(\"Largest element in\", my_list, \"is\", find_largest(my_list))"
   ]
  },
  {
   "cell_type": "raw",
   "id": "f2046d0b",
   "metadata": {},
   "source": [
    "#5. Write a Python program to find second largest number in a list?"
   ]
  },
  {
   "cell_type": "raw",
   "id": "7a4f0ac3",
   "metadata": {},
   "source": [
    "def second_largest_number(List):\n",
    "    largest = max(List)\n",
    "    List.remove(largest)\n",
    "    second_largest = max(List)\n",
    "    for i in List:\n",
    "        if i > second_largest:\n",
    "            second_largest = i\n",
    "    return second_largest\n",
    "\n",
    "\n",
    "my_list = [10,7,6,8,2,9]\n",
    "print(\"Second_largest element in\", my_list, \"is\", second_largest_number(my_list))"
   ]
  },
  {
   "cell_type": "raw",
   "id": "d990a5fe",
   "metadata": {},
   "source": [
    "#6. Write a Python program to find N largest elements from a list?"
   ]
  },
  {
   "cell_type": "raw",
   "id": "9c95e0d3",
   "metadata": {},
   "source": [
    "def find_N_largest(List, N):\n",
    "    sorted_list = sorted(List, reverse=True)\n",
    "    return sorted_list[:N]\n",
    "\n",
    "\n",
    "my_list = [5,7,3,9,1,8]\n",
    "N = 2\n",
    "print(\"Top\", n, \"largest elements in\", my_list, \"are\", find_N_largest(my_list, N))\n"
   ]
  },
  {
   "cell_type": "raw",
   "id": "cc34e0c9",
   "metadata": {},
   "source": [
    "#7. Write a Python program to print even numbers in a list?"
   ]
  },
  {
   "cell_type": "raw",
   "id": "be7b1df3",
   "metadata": {},
   "source": [
    "List = [1,2,3,4,5,6,7,8,9]\n",
    "for num in List:\n",
    "    if num % 2 == 0:\n",
    "        print(num, end=\" \")\n"
   ]
  },
  {
   "cell_type": "raw",
   "id": "b76b8484",
   "metadata": {},
   "source": [
    "#8. Write a Python program to print odd numbers in a List?"
   ]
  },
  {
   "cell_type": "raw",
   "id": "91b282ba",
   "metadata": {},
   "source": [
    "List = [1,2,3,4,5,6,7,8,9]\n",
    "for num in List:\n",
    "    if num % 2 != 0:\n",
    "        print(num, end=\" \")"
   ]
  },
  {
   "cell_type": "raw",
   "id": "ca956733",
   "metadata": {},
   "source": [
    "#9. Write a Python program to Remove empty List from List?"
   ]
  },
  {
   "cell_type": "raw",
   "id": "e26add76",
   "metadata": {},
   "source": [
    "def empty_list_remove(input_list):\n",
    "    new_list = []\n",
    "    for i in input_list:\n",
    "        if i:\n",
    "            new_list.append(i)\n",
    "    return new_list\n",
    "\n",
    "input_list = [1,2,[],3,4,5,[],6,7,8,9]\n",
    "\n",
    "print(f\"The original list is : {input_list}\")\n",
    "\n",
    "print(f\"List after empty list removal : {empty_list_remove(input_list)}\")\n",
    "\n",
    "               "
   ]
  },
  {
   "cell_type": "raw",
   "id": "8a2ec533",
   "metadata": {},
   "source": [
    "#10. Write a Python program to Cloning or Copying a list?"
   ]
  },
  {
   "cell_type": "raw",
   "id": "ad0f1b3b",
   "metadata": {},
   "source": [
    "import copy\n",
    "list1 = [1,2,3,4,5,6]\n",
    "list2 = copy.copy(list1)\n",
    "print(list2)\n"
   ]
  },
  {
   "cell_type": "raw",
   "id": "ff54d03e",
   "metadata": {},
   "source": [
    "#11. Write a Python program to Count occurrences of an element in a list?"
   ]
  },
  {
   "cell_type": "raw",
   "id": "b4fa904a",
   "metadata": {},
   "source": [
    "def count_occurance_of_an_element(List, x):\n",
    "    return List.count(x)\n",
    "\n",
    "List = [4,9,5,4,3,8,4,4,2,5]\n",
    "x = 8\n",
    "print('{} has occurred {} times'.format(x,count_occurance_of_an_element(List, x)))\n"
   ]
  },
  {
   "cell_type": "raw",
   "id": "6e505b41",
   "metadata": {},
   "source": []
  }
 ],
 "metadata": {
  "kernelspec": {
   "display_name": "Python 3 (ipykernel)",
   "language": "python",
   "name": "python3"
  },
  "language_info": {
   "codemirror_mode": {
    "name": "ipython",
    "version": 3
   },
   "file_extension": ".py",
   "mimetype": "text/x-python",
   "name": "python",
   "nbconvert_exporter": "python",
   "pygments_lexer": "ipython3",
   "version": "3.9.12"
  }
 },
 "nbformat": 4,
 "nbformat_minor": 5
}
