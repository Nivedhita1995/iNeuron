{
 "cells": [
  {
   "cell_type": "raw",
   "id": "9ee05d25",
   "metadata": {},
   "source": [
    "1. Create a zoo.py file first. Define the hours() function, which prints the string 'Open 9-5 daily'. Then, use the interactive interpreter to import the zoo module and call its hours() function.\n",
    "2. In the interactive interpreter, import the zoo module as menagerie and call its hours() function.\n",
    "3. Using the interpreter, explicitly import and call the hours() function from zoo.\n",
    "4. Import the hours() function as info and call it.\n",
    "5. Create a plain dictionary with the key-value pairs 'a': 1, 'b': 2, and 'c': 3, and print it out.\n",
    "6.Make an OrderedDict called fancy from the same pairs listed in 5 and print it. Did it print in the same order as plain?\n",
    "7. Make a default dictionary called dict_of_lists and pass it the argument list. Make the list dict_of_lists['a'] and append the value 'something for a' to it in one assignment. Print dict_of_lists['a'].\n"
   ]
  },
  {
   "cell_type": "raw",
   "id": "b45906e1",
   "metadata": {},
   "source": [
    "#1. Create a zoo.py file first. Define the hours() function, which prints the string 'Open 9-5 daily'. Then, use the interactive interpreter to import the zoo module and call its hours() function.\n"
   ]
  },
  {
   "cell_type": "raw",
   "id": "4ad58243",
   "metadata": {},
   "source": [
    "import os\n",
    "os.listdir()\n",
    "f=open(\"zo.py\",'w')\n",
    "\n",
    "f.write(\"def hours():\"+\"\\n\")\n",
    "f.write('    print'+'(\"Open 9-5 daily\"'+')'+'\\n')\n",
    "if \"zo.py\" in os.listdir():\n",
    "    print(\"File available\")              \n",
    "f.close()\n",
    "\n"
   ]
  },
  {
   "cell_type": "raw",
   "id": "6d49c50d",
   "metadata": {},
   "source": [
    "from zo import hours\n",
    "hours()"
   ]
  },
  {
   "cell_type": "raw",
   "id": "fe4d1ee1",
   "metadata": {},
   "source": [
    "#2. In the interactive interpreter, import the zoo module as menagerie and call its hours() function."
   ]
  },
  {
   "cell_type": "raw",
   "id": "a59af727",
   "metadata": {},
   "source": [
    "import zo as menagerie\n",
    "hours()"
   ]
  },
  {
   "cell_type": "raw",
   "id": "d1bad203",
   "metadata": {},
   "source": [
    "#3. Using the interpreter, explicitly import and call the hours() function from zoo."
   ]
  },
  {
   "cell_type": "raw",
   "id": "7185527e",
   "metadata": {},
   "source": [
    "from zo import hours\n",
    "hours()"
   ]
  },
  {
   "cell_type": "raw",
   "id": "ade97fcb",
   "metadata": {},
   "source": [
    "#4. Import the hours() function as info and call it."
   ]
  },
  {
   "cell_type": "raw",
   "id": "5d14cf71",
   "metadata": {},
   "source": [
    "from zo import hours as info\n",
    "info()"
   ]
  },
  {
   "cell_type": "raw",
   "id": "c837765a",
   "metadata": {},
   "source": [
    "#5. Create a plain dictionary with the key-value pairs 'a': 1, 'b': 2, and 'c': 3, and print it out."
   ]
  },
  {
   "cell_type": "raw",
   "id": "d46093e5",
   "metadata": {},
   "source": [
    "plain_dictionary = {'a': 1, 'b': 2,'c': 3}\n",
    "print(plain_dictionary)"
   ]
  },
  {
   "cell_type": "raw",
   "id": "062f0867",
   "metadata": {},
   "source": [
    "#6.Make an OrderedDict called fancy from the same pairs listed in 5 and print it. Did it print in the same order as plain?"
   ]
  },
  {
   "cell_type": "raw",
   "id": "1ca9295d",
   "metadata": {},
   "source": [
    "from collections import OrderedDict\n",
    "fancy = OrderedDict(plain_dictionary)\n",
    "print(f'plain_dict : {plain_dictionary}')\n",
    "print(f'fancy : {fancy}')\n",
    "if plain_dictionary == fancy:\n",
    "    print(\"The order of plain_dict and fancy dictionary is same\")"
   ]
  },
  {
   "cell_type": "raw",
   "id": "099e41c2",
   "metadata": {},
   "source": [
    "#7. Make a default dictionary called dict_of_lists and pass it the argument list. Make the list dict_of_lists['a'] and append the value 'something for a' to it in one assignment. Print dict_of_lists['a'].\n"
   ]
  },
  {
   "cell_type": "raw",
   "id": "14671163",
   "metadata": {},
   "source": [
    "from collections import defaultdict\n",
    "dict_of_lists = defaultdict(list)\n",
    "dict_of_lists['a'].append('something for a')\n",
    "print(dict_of_lists['a'])"
   ]
  },
  {
   "cell_type": "raw",
   "id": "7820db9a",
   "metadata": {},
   "source": []
  }
 ],
 "metadata": {
  "kernelspec": {
   "display_name": "Python 3 (ipykernel)",
   "language": "python",
   "name": "python3"
  },
  "language_info": {
   "codemirror_mode": {
    "name": "ipython",
    "version": 3
   },
   "file_extension": ".py",
   "mimetype": "text/x-python",
   "name": "python",
   "nbconvert_exporter": "python",
   "pygments_lexer": "ipython3",
   "version": "3.9.12"
  }
 },
 "nbformat": 4,
 "nbformat_minor": 5
}
