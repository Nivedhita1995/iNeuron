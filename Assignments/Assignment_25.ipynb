{
 "cells": [
  {
   "cell_type": "raw",
   "id": "e14c8bfd",
   "metadata": {},
   "source": [
    "1. What is the difference between enclosing a list comprehension in square brackets and\n",
    "parentheses?\n",
    "2. What is the relationship between generators and iterators?\n",
    "3. What are the signs that a function is a generator function?\n",
    "4. What is the purpose of a yield statement?\n",
    "5. What is the relationship between map calls and list comprehensions? Make a comparison and\n",
    "contrast between the two."
   ]
  },
  {
   "cell_type": "raw",
   "id": "4d8f209c",
   "metadata": {},
   "source": [
    "#1. What is the difference between enclosing a list comprehension in square brackets and parentheses?"
   ]
  },
  {
   "cell_type": "raw",
   "id": "26af4f2b",
   "metadata": {},
   "source": [
    "# Enclosing a list comprehension in square brackets returns a list.but where as enclosing a list comprehension in parentheses returns a generator object.\n",
    "l = [i for i in range(10)]\n",
    "print(l, type(l))\n",
    "g = (j for j in range(10))\n",
    "print(g, type(g))"
   ]
  },
  {
   "cell_type": "raw",
   "id": "4f165a17",
   "metadata": {},
   "source": [
    "#2. What is the relationship between generators and iterators?"
   ]
  },
  {
   "cell_type": "raw",
   "id": "78e68870",
   "metadata": {},
   "source": [
    "#An iterator is an object which contains a countable number of values and it is used to iterate over iterable objects like list, tuples, sets, etc. \n",
    "Iterators are implemented using a class. It follows lazy evaluation where the evaluation of the expression will be on hold and stored in the memory until the item is called specifically which helps us to avoid repeated evaluation. As lazy evaluation is implemented, it requires only 1 memory location to process the value and when we are using a large dataset then, wastage of RAM space will be reduced the need to load the entire dataset at the same time will not be there.For an iterator: iter() keyword is used to create an iterator containing an iterable object.\n",
    "next() keyword is used to call the next element in the iterable object."
   ]
  },
  {
   "cell_type": "raw",
   "id": "970f3087",
   "metadata": {},
   "source": [
    "a = \"Hello\"\n",
    "#next(a)      # Error -> Default'str' object is not an iterator; so convert to iterator.\n",
    "b=iter(a)    # Using iter, convert iterable objects to iterator.\n",
    "next(b)      # Using next() keyword extract data to give output.\n",
    "next(b)\n",
    "next(b)\n",
    "next(b)\n",
    "next(b)\n",
    "next(b)     #Stop iteration -> After the iterable object is completed, to use them again we have reassign them to the same oject."
   ]
  },
  {
   "cell_type": "raw",
   "id": "0a9161dc",
   "metadata": {},
   "source": [
    "#Generators are an another way of creating iterators in a simple way where it uses the keyword yield statement instead of return statement in a defined function.\n",
    "Generators are implemented using a function. Just as iterators, generators also follow lazy evaluation. Here, the yield function returns the data without affecting or exiting the function. It will return a sequence of data in an iterable format where we need to iterate over the sequence to use the data as they won’t store the entire sequence in the memory."
   ]
  },
  {
   "cell_type": "raw",
   "id": "08979ee0",
   "metadata": {},
   "source": [
    "def genfib(n):\n",
    "    a=1\n",
    "    b=1\n",
    "    for i in range(n):\n",
    "        yield a\n",
    "        a,b=b,a+b\n",
    "genfib(5)  \n"
   ]
  },
  {
   "cell_type": "raw",
   "id": "9f2d9c5d",
   "metadata": {},
   "source": [
    "#3. What are the signs that a function is a generator function?"
   ]
  },
  {
   "cell_type": "raw",
   "id": "bd27811e",
   "metadata": {},
   "source": [
    "#A generator function uses a yield statement instead of a return statement. A generator function will always return a iterable object called generator. where as a normal function can return a string/list/tuple/dict/NoneType ... etc"
   ]
  },
  {
   "cell_type": "raw",
   "id": "0e0aa8c6",
   "metadata": {},
   "source": [
    "#4. What is the purpose of a yield statement?"
   ]
  },
  {
   "cell_type": "raw",
   "id": "658c62ed",
   "metadata": {},
   "source": [
    "#The Yield keyword in Python is similar to a return statement used for returning values or objects in Python. However, there is a slight difference. The yield statement returns a generator object to the one who calls the function which contains yield, instead of simply returning a value.\n",
    "#Using yield will improve the memory efficiency — and subsequently, the speed/performance — when looping over a large iterable.\n",
    "#The yield statement suspends function’s execution and sends a value back to the caller, but retains enough state to enable function to resume where it is left off. When resumed, the function continues execution immediately after the last yield run. This allows its code to produce a series of values over time, rather than computing them at once and sending them back like a list."
   ]
  },
  {
   "cell_type": "raw",
   "id": "cbe2a488",
   "metadata": {},
   "source": [
    "#5. What is the relationship between map calls and list comprehensions? Make a comparison and contrast between the two."
   ]
  },
  {
   "cell_type": "raw",
   "id": "5e4a6155",
   "metadata": {},
   "source": [
    "#List comprehension returns a list, whereas the map function returns an object of Iterable. \n",
    "#List comprehension execution is faster than that of map function when the formula expression is huge and complex. \n",
    "#Map function is faster than list comprehension when the formula is already defined as a function earlier."
   ]
  },
  {
   "cell_type": "raw",
   "id": "09fbccc8",
   "metadata": {},
   "source": [
    "#map() function returns a map object(which is an iterator) of the results after applying the given function to each item of a given iterable (list, tuple etc.)\n",
    "#Syntax: map(funcname, iterables)\n",
    "# example: function to double the number\n",
    "def num (n) :\n",
    "    return n * 2\n",
    "l=[1,3,5,7,9]\n",
    "x = map(num, l) \n",
    "print(x) \n",
    "print(list(x))"
   ]
  },
  {
   "cell_type": "raw",
   "id": "6260c562",
   "metadata": {},
   "source": [
    "#List Comprehension is a substitute for the lambda function, map(), filter() and reduce(). It follows the form of the mathematical set-builder notation.\n",
    "#Syntax:[ expression for item in list if conditional ]\n",
    "#example: # to double the number\n",
    "l1=[1,3,5,7,9]\n",
    "x = [i * 2 for i in l1 ] \n",
    "print(x)"
   ]
  },
  {
   "cell_type": "raw",
   "id": "e58079c6",
   "metadata": {},
   "source": []
  }
 ],
 "metadata": {
  "kernelspec": {
   "display_name": "Python 3 (ipykernel)",
   "language": "python",
   "name": "python3"
  },
  "language_info": {
   "codemirror_mode": {
    "name": "ipython",
    "version": 3
   },
   "file_extension": ".py",
   "mimetype": "text/x-python",
   "name": "python",
   "nbconvert_exporter": "python",
   "pygments_lexer": "ipython3",
   "version": "3.9.12"
  }
 },
 "nbformat": 4,
 "nbformat_minor": 5
}
