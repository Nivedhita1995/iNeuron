{
 "cells": [
  {
   "cell_type": "raw",
   "id": "5ade84bb",
   "metadata": {},
   "source": [
    "1. Write a Python program to check if the given number is a Disarium Number?\n",
    "2. Write a Python program to print all disarium numbers between 1 to 100?\n",
    "3. Write a Python program to check if the given number is Happy Number?\n",
    "4. Write a Python program to print all happy numbers between 1 and 100?\n",
    "5. Write a Python program to determine whether the given number is a Harshad Number?\n",
    "6. Write a Python program to print all pronic numbers between 1 and 100?"
   ]
  },
  {
   "cell_type": "raw",
   "id": "5b8a356d",
   "metadata": {},
   "source": [
    "#1. Write a Python program to check if the given number is a Disarium Number?"
   ]
  },
  {
   "cell_type": "raw",
   "id": "cf829487",
   "metadata": {},
   "source": [
    "def isDisariumNumber():\n",
    "    num = input('Enter a Number: ')\n",
    "    sum = 0\n",
    "    for i in range(len(num)):\n",
    "        sum = sum + int(num[i])**(i+1)\n",
    "    if sum == int(num):\n",
    "        print(f'{num} is a Disarium Number')\n",
    "    else:\n",
    "        print(f'{num} is a Not Disarium Number') \n",
    "\n",
    "isDisariumNumber()"
   ]
  },
  {
   "cell_type": "raw",
   "id": "ae34a5d0",
   "metadata": {},
   "source": [
    "#2. Write a Python program to print all disarium numbers between 1 to 100?"
   ]
  },
  {
   "cell_type": "raw",
   "id": "59acee33",
   "metadata": {},
   "source": [
    "def DisariumNumber(start=0,end=100):\n",
    "    num = []\n",
    "    sum = 0\n",
    "    for i in range(start,end+1):\n",
    "         for j in range(len(str(i))):\n",
    "            sum = sum + int(str(i)[j])**(j+1)\n",
    "        \n",
    "         if sum == number:\n",
    "            num.append(i)\n",
    "    return num\n",
    "printDisariumNumbers(1,100)"
   ]
  },
  {
   "cell_type": "raw",
   "id": "b1e1bf21",
   "metadata": {},
   "source": [
    "#3. Write a Python program to check if the given number is Happy Number?"
   ]
  },
  {
   "cell_type": "raw",
   "id": "15b5d7e8",
   "metadata": {},
   "source": [
    "def is_happy_number(num):\n",
    "    visited = set()\n",
    "    while num != 1 and num not in visited:\n",
    "        visited.add(num)\n",
    "        sum = 0\n",
    "        while num > 0:\n",
    "            digit = num % 10\n",
    "            sum += digit ** 2\n",
    "            num //= 10\n",
    "        num = sum\n",
    "    return num == 1\n",
    "\n",
    "is_happy_number(20)\n",
    "is_happy_number(19)"
   ]
  },
  {
   "cell_type": "raw",
   "id": "a3823f8c",
   "metadata": {},
   "source": [
    "#4. Write a Python program to print all happy numbers between 1 and 100?"
   ]
  },
  {
   "cell_type": "raw",
   "id": "204a2530",
   "metadata": {},
   "source": [
    "def is_happy_number(num):\n",
    "    visited = set()\n",
    "    while num != 1 and num not in visited:\n",
    "        visited.add(num)\n",
    "        sum = 0\n",
    "        while num > 0:\n",
    "            digit = num % 10\n",
    "            sum += digit ** 2\n",
    "            num //= 10\n",
    "        num = sum\n",
    "    return num == 1\n",
    "\n",
    "for i in range(1, 101):\n",
    "    if is_happy_number(i):\n",
    "        print(i)\n"
   ]
  },
  {
   "cell_type": "raw",
   "id": "969d6c50",
   "metadata": {},
   "source": [
    "#5. Write a Python program to determine whether the given number is a Harshad Number?"
   ]
  },
  {
   "cell_type": "raw",
   "id": "2968055e",
   "metadata": {},
   "source": [
    "def is_harshad_number(num):\n",
    "    sum = 0\n",
    "    for digit in str(num):\n",
    "        sum += int(digit)\n",
    "    return num % sum == 0\n",
    "\n",
    "is_harshad_number(25)\n",
    "is_harshad_number(20)\n",
    "\n"
   ]
  },
  {
   "cell_type": "raw",
   "id": "fc09c9d6",
   "metadata": {},
   "source": [
    "#6. Write a Python program to print all pronic numbers between 1 and 100?"
   ]
  },
  {
   "cell_type": "raw",
   "id": "c1aa8923",
   "metadata": {},
   "source": [
    "def is_pronic_number(num):\n",
    "    for i in range(num):\n",
    "        if i * (i + 1) == num:\n",
    "            return True\n",
    "    return False\n",
    "\n",
    "\n",
    "for num in range(1, 101):\n",
    "    if is_pronic_number(num):\n",
    "        print(num)\n"
   ]
  },
  {
   "cell_type": "raw",
   "id": "d2b9cedd",
   "metadata": {},
   "source": []
  }
 ],
 "metadata": {
  "kernelspec": {
   "display_name": "Python 3 (ipykernel)",
   "language": "python",
   "name": "python3"
  },
  "language_info": {
   "codemirror_mode": {
    "name": "ipython",
    "version": 3
   },
   "file_extension": ".py",
   "mimetype": "text/x-python",
   "name": "python",
   "nbconvert_exporter": "python",
   "pygments_lexer": "ipython3",
   "version": "3.9.12"
  }
 },
 "nbformat": 4,
 "nbformat_minor": 5
}
