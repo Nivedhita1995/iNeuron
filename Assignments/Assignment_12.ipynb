{
 "cells": [
  {
   "cell_type": "raw",
   "id": "779998f6",
   "metadata": {},
   "source": [
    "1. In what modes should the PdfFileReader() and PdfFileWriter() File objects will be opened?\n",
    "2. From a PdfFileReader object, how do you get a Page object for page 5?\n",
    "3. What PdfFileReader variable stores the number of pages in the PDF document?\n",
    "4. If a PdfFileReader object’s PDF is encrypted with the password swordfish, what must you do\n",
    "before you can obtain Page objects from it?\n",
    "5. What methods do you use to rotate a page?\n",
    "6. What is the difference between a Run object and a Paragraph object?\n",
    "7. How do you obtain a list of Paragraph objects for a Document object that’s stored in a variable\n",
    "named doc?\n",
    "8. What type of object has bold, underline, italic, strike, and outline variables?\n",
    "9. What is the difference between False, True, and None for the bold variable?\n",
    "10. How do you create a Document object for a new Word document?\n",
    "11. How do you add a paragraph with the text 'Hello, there!' to a Document object stored in a\n",
    "variable named doc?\n",
    "12. What integers represent the levels of headings available in Word documents?"
   ]
  },
  {
   "cell_type": "raw",
   "id": "5d69dd6b",
   "metadata": {},
   "source": [
    "#1. In what modes should the PdfFileReader() and PdfFileWriter() File objects will be opened?\n",
    "The PdfFileReader() File objects should be opened in rb (read binary mode) and PdfFileWriter() File should be opened in write (write binary mode) "
   ]
  },
  {
   "cell_type": "raw",
   "id": "02debb57",
   "metadata": {},
   "source": [
    "#2. From a PdfFileReader object, how do you get a Page object for page 5?\n",
    "By calling getPage(4) we get a Page object for page.\n",
    "from PyPDF2 import PdfFileReader\n",
    "pdf_reader = PdfFileReader(file_path)\n",
    "for page in pdf_reader.getNumPages():\n",
    "    pdf_reader.getPage(page)"
   ]
  },
  {
   "cell_type": "raw",
   "id": "ae0d1e11",
   "metadata": {},
   "source": [
    "#3. What PdfFileReader variable stores the number of pages in the PDF document?\n",
    "getNumPages() method of PdfFileReader class stores the no pages in a PDF document\n",
    "from PyPDF2 import PdfFileReader\n",
    "pdf_reader = PdfFileReader(file_path)\n",
    "print(pdf_reader.getNumPages())"
   ]
  },
  {
   "cell_type": "raw",
   "id": "f64adf53",
   "metadata": {},
   "source": [
    "#4. If a PdfFileReader object’s PDF is encrypted with the password swordfish, what must you do before you can obtain Page objects from it?\n",
    "from PyPDF2 import PdfFileReader\n",
    "pdf_reader = PdfFileReader(file_path)\n",
    "if pdf_reader.isEncrypted: \n",
    "    pdf_reader.decrypt(\"swordfish\")\n",
    "for page in pdf_reader.pages:\n",
    "    print(page.extractText())\n"
   ]
  },
  {
   "cell_type": "raw",
   "id": "9ad70da6",
   "metadata": {},
   "source": [
    "#5. What methods do you use to rotate a page?\n",
    "page.rotateClockWise(90) to rotate Clockwise. (90 degrees rotation)\n",
    "page.rotateCounterClockWise(90) to rotate Counter Clockwise. (90 degrees rotation)"
   ]
  },
  {
   "cell_type": "raw",
   "id": "b484450d",
   "metadata": {},
   "source": [
    "#6. What is the difference between a Run object and a Paragraph object?\n",
    "For Word documents, there are three types of styles: paragraph styles can be applied to Paragraph objects, character styles can be applied to Run objects, and linked styles can be applied to both kinds of objects.\n",
    "Document object contains a list of Paragraph objects for the paragraphs in the document and each of these Paragraph objects contains a list of one or more Run objects.A new paragraph begins whenever the user presses ENTER or RETURN while typing in a Word document\n",
    "The text in a Word document is more than just a string. It has font, size, color, and other styling information associated with it. A style in Word is a collection of these attributes. A Run object is a contiguous run of text with the same style. A new Run object is needed whenever the text style changes.\n"
   ]
  },
  {
   "cell_type": "raw",
   "id": "91e41c84",
   "metadata": {},
   "source": [
    "#7. How do you obtain a list of Paragraph objects for a Document object that’s stored in a variable named doc?\n",
    "import docx\n",
    "\n",
    "def getText(filename):\n",
    "    doc = docx.Document(filename)\n",
    "    fullText = []\n",
    "    for para in doc.paragraphs:\n",
    "        fullText.append(para.text)\n",
    "    return '\\n'.join(fullText)"
   ]
  },
  {
   "cell_type": "raw",
   "id": "e44f04f1",
   "metadata": {},
   "source": [
    "# 8.What type of object has bold, underline, italic, strike, and outline variables?\n",
    "Run object has bold, underline, italic, strike, and outline variables. The text in a Word document is more than just a string. It has font, size, color, and other styling information associated with it.\n",
    "\n",
    "A style in Word is a collection of these attributes. A Run object is a contiguous run of text with the same style. A new Run object is needed whenever the text style changes."
   ]
  },
  {
   "cell_type": "raw",
   "id": "f3414b46",
   "metadata": {},
   "source": [
    "#9. What is the difference between False, True, and None for the bold variable?\n",
    "Runs objects is styled using text attributes. Each attribute can be set to one of three values: True (the attribute is always enabled, no matter what other styles are applied to the run), False (the attribute is always disabled), or None (defaults to whatever the run’s style is set to).\n",
    "bold = True  # Style Set to Bold\n",
    "bold = False # Style Not Set to Bold\n",
    "bold = None # Style is Not Applicable."
   ]
  },
  {
   "cell_type": "raw",
   "id": "60a9db58",
   "metadata": {},
   "source": [
    "#10. How do you create a Document object for a new Word document?\n",
    "import docx\n",
    "doc = docx.Document()\n",
    "doc.add_paragraph('mydocuments')\n",
    "doc.save('mydoc.docx')"
   ]
  },
  {
   "cell_type": "raw",
   "id": "d5914f14",
   "metadata": {},
   "source": [
    "#11. How do you add a paragraph with the text 'Hello, there!' to a Document object stored in avariable named doc?\n",
    "import docx\n",
    "doc = docx.Document()\n",
    "doc.add_paragraph('Hello, there!')\n",
    "doc.save('hello.docx')"
   ]
  },
  {
   "cell_type": "raw",
   "id": "cfdbadfa",
   "metadata": {},
   "source": [
    "#12. What integers represent the levels of headings available in Word documents?\n",
    "The levels for a heading in a word document can be specified by using the level attribute inside the add_heading method. \n",
    "There are 5 levels starting for 0 t0 4.\n",
    "The integer 0 makes the heading the Title style, which is used for the top of the document.\n",
    "import docx\n",
    "doc = docx.Document()\n",
    "doc.add_heading('Header 0', 0)\n",
    "Integers 1 to 4 are for various heading levels, with 1 being the main heading and 4 the lowest subheading. The add_heading() function returns a Paragraph object to save you the step of extracting it from the Document object as a separate step.\n",
    "doc.add_heading('Header 1', 1)\n",
    "doc.add_heading('Header 2', 2)\n",
    "doc.add_heading('Header 3', 3)\n",
    "doc.add_heading('Header 4', 4)\n",
    "doc.save('headings.docx')"
   ]
  },
  {
   "cell_type": "raw",
   "id": "4add14b6",
   "metadata": {},
   "source": []
  }
 ],
 "metadata": {
  "kernelspec": {
   "display_name": "Python 3 (ipykernel)",
   "language": "python",
   "name": "python3"
  },
  "language_info": {
   "codemirror_mode": {
    "name": "ipython",
    "version": 3
   },
   "file_extension": ".py",
   "mimetype": "text/x-python",
   "name": "python",
   "nbconvert_exporter": "python",
   "pygments_lexer": "ipython3",
   "version": "3.9.12"
  }
 },
 "nbformat": 4,
 "nbformat_minor": 5
}
