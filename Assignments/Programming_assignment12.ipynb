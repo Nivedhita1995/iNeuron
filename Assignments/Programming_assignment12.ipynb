{
 "cells": [
  {
   "cell_type": "raw",
   "id": "51271ede",
   "metadata": {},
   "source": [
    "1. Write a Python program to Extract Unique values dictionary values?\n",
    "2. Write a Python program to find the sum of all items in a dictionary?\n",
    "3. Write a Python program to Merging two Dictionaries?\n",
    "4. Write a Python program to convert key-values list to flat dictionary?\n",
    "5. Write a Python program to insertion at the beginning in OrderedDict?\n",
    "6. Write a Python program to check order of character in string using OrderedDict()?\n",
    "7. Write a Python program to sort Python Dictionaries by Key or Value?"
   ]
  },
  {
   "cell_type": "raw",
   "id": "4c6d5123",
   "metadata": {},
   "source": [
    "#1. Write a Python program to Extract Unique values dictionary values?"
   ]
  },
  {
   "cell_type": "raw",
   "id": "73d0407c",
   "metadata": {},
   "source": [
    "def extract_unique_values(dictionary):\n",
    "    unique_values = set()\n",
    "    for k,v in dictionary.items():\n",
    "        if v not in unique_values:\n",
    "            unique_values.add(v)\n",
    "    \n",
    "    return list(unique_values)\n",
    "\n",
    "dictionary = {'key': 1, 'key1': 2, 'key2': 3, 'key3': 1, 'key4': 2}\n",
    "extract_unique_values(dictionary)\n"
   ]
  },
  {
   "cell_type": "raw",
   "id": "239dfabc",
   "metadata": {},
   "source": [
    "#2. Write a Python program to find the sum of all items in a dictionary?"
   ]
  },
  {
   "cell_type": "raw",
   "id": "08b1343a",
   "metadata": {},
   "source": [
    "def Sum_of_items_in_dict(Dict):\n",
    "    list = []\n",
    "    for i in Dict:\n",
    "        list.append(Dict[i])\n",
    "    result = sum(list)\n",
    "\n",
    "    return result\n",
    "\n",
    "Dict = {'a': 10, 'b': 50, 'c': 100}\n",
    "print(\"Sum of all items in a dictionary :\", Sum_of_items_in_dict(Dict))\n"
   ]
  },
  {
   "cell_type": "raw",
   "id": "e7427b74",
   "metadata": {},
   "source": [
    "#3. Write a Python program to Merging two Dictionaries?"
   ]
  },
  {
   "cell_type": "raw",
   "id": "dd09606a",
   "metadata": {},
   "source": [
    "def Merge_Dict(dict1, dict2):\n",
    "    return(dict2.update(dict1))\n",
    "\n",
    "dict1 = {'a': 1, 'b': 2}\n",
    "dict2 = {'d': 3, 'c': 4}\n",
    "\n",
    "print(Merge_Dict(dict1, dict2))\n",
    "print(dict2)\n"
   ]
  },
  {
   "cell_type": "raw",
   "id": "6cfec040",
   "metadata": {},
   "source": [
    "#4. Write a Python program to convert key-values list to flat dictionary?"
   ]
  },
  {
   "cell_type": "raw",
   "id": "c627148d",
   "metadata": {},
   "source": [
    "def convert_to_flat_dict(my_list):\n",
    "    flat_dict = {}\n",
    "    for key , value in my_list:\n",
    "        if isinstance(value, dict):\n",
    "            for k, v in value.items():\n",
    "                flat_dict[key + '.' + k] = v\n",
    "        else:\n",
    "            flat_dict[key] = value\n",
    "    return flat_dict\n",
    "my_list = [\n",
    "    ('a', 1),\n",
    "    ('b', {'c': 2, 'd': 3}),\n",
    "    ('e', {'f': 4})\n",
    "]\n",
    "\n",
    "flat_dict = convert_to_flat_dict(my_list)\n",
    "print(flat_dict)"
   ]
  },
  {
   "cell_type": "raw",
   "id": "ffe6c0e6",
   "metadata": {},
   "source": [
    "#5. Write a Python program to insertion at the beginning in OrderedDict?"
   ]
  },
  {
   "cell_type": "raw",
   "id": "3a2058b8",
   "metadata": {},
   "source": [
    "from collections import OrderedDict\n",
    "\n",
    "def insert_at_beginning(ordered_Dict, key, value):\n",
    "    ordered_Dict.update({key: value})\n",
    "    ordered_Dict.move_to_end(key, last=False)\n",
    "\n",
    "ordered_Dict = OrderedDict([('a', 1), ('b', 2), ('c', 3)])\n",
    "print('OrderedDict before insertion:', ordered_Dict)\n",
    "\n",
    "insert_at_beginning(ordered_Dict, 'd', 4)\n",
    "print('OrderedDict after insertion at the beginning:', ordered_Dict)\n"
   ]
  },
  {
   "cell_type": "raw",
   "id": "b4579ca3",
   "metadata": {},
   "source": [
    "#6. Write a Python program to check order of character in string using OrderedDict()?"
   ]
  },
  {
   "cell_type": "raw",
   "id": "c9754294",
   "metadata": {},
   "source": [
    "from collections import OrderedDict\n",
    "def check_order(my_input, my_pattern):\n",
    "    my_dict = OrderedDict.fromkeys(my_input)\n",
    "    pattern_length = 0\n",
    "    for key,value in my_dict.items():\n",
    "        if (key == my_pattern[pattern_length]):\n",
    "            pattern_length = pattern_length + 1\n",
    "\n",
    "        if (pattern_length == (len(my_pattern))):\n",
    "            return 'The order of pattern is correct'\n",
    "\n",
    "    return 'The order of pattern is incorrect'\n",
    "\n",
    "my_input = 'Hello world!'\n",
    "input_pattern = 'He'\n",
    "print(\"The string is \",my_input)\n",
    "print(\"The input pattern is \",input_pattern)\n",
    "print(check_order(my_input,input_pattern))"
   ]
  },
  {
   "cell_type": "raw",
   "id": "19519ec3",
   "metadata": {},
   "source": [
    "#7. Write a Python program to sort Python Dictionaries by Key or Value?"
   ]
  },
  {
   "cell_type": "raw",
   "id": "7285d95c",
   "metadata": {},
   "source": [
    "my_dict = {'a': 50, 'b': 100, 'd': 200, 'c': 300}\n",
    "\n",
    "sorted_dict_by_key = dict(sorted(my_dict.items()))\n",
    "\n",
    "sorted_dict_by_value = dict(sorted(my_dict.items(), key=lambda item: item[1]))\n",
    "\n",
    "print(\"Sorted by key:\", sorted_dict_by_key)\n",
    "\n",
    "print(\"Sorted by value:\", sorted_dict_by_value)\n"
   ]
  },
  {
   "cell_type": "raw",
   "id": "8f328745",
   "metadata": {},
   "source": []
  }
 ],
 "metadata": {
  "kernelspec": {
   "display_name": "Python 3 (ipykernel)",
   "language": "python",
   "name": "python3"
  },
  "language_info": {
   "codemirror_mode": {
    "name": "ipython",
    "version": 3
   },
   "file_extension": ".py",
   "mimetype": "text/x-python",
   "name": "python",
   "nbconvert_exporter": "python",
   "pygments_lexer": "ipython3",
   "version": "3.9.12"
  }
 },
 "nbformat": 4,
 "nbformat_minor": 5
}
