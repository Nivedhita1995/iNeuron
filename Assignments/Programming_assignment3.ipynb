{
 "cells": [
  {
   "cell_type": "raw",
   "id": "1fab48cc",
   "metadata": {},
   "source": [
    "1. Write a Python Program to Check if a Number is Positive, Negative or Zero?\n",
    "2. Write a Python Program to Check if a Number is Odd or Even?\n",
    "3. Write a Python Program to Check Leap Year?\n",
    "4. Write a Python Program to Check Prime Number?\n",
    "5. Write a Python Program to Print all Prime Numbers in an Interval of 1-10000?"
   ]
  },
  {
   "cell_type": "raw",
   "id": "28b2f77d",
   "metadata": {},
   "source": [
    "#1. Write a Python Program to Check if a Number is Positive, Negative or Zero?"
   ]
  },
  {
   "cell_type": "raw",
   "id": "38789da1",
   "metadata": {},
   "source": [
    "number = int(input(\"Enter a number: \"))\n",
    "\n",
    "if number > 0:\n",
    "    print(\"Positive\")\n",
    "elif number == 0:\n",
    "    print(\"Zero\")\n",
    "else:\n",
    "    print(\"Negative\")\n"
   ]
  },
  {
   "cell_type": "raw",
   "id": "70b95214",
   "metadata": {},
   "source": [
    "#2. Write a Python Program to Check if a Number is Odd or Even?"
   ]
  },
  {
   "cell_type": "raw",
   "id": "f7679726",
   "metadata": {},
   "source": [
    "number = int(input(\"Enter a number: \"))\n",
    "\n",
    "if number % 2 == 0:\n",
    "    print(\"Even\")\n",
    "else:\n",
    "    print(\"Odd\")\n"
   ]
  },
  {
   "cell_type": "raw",
   "id": "7a0b3bce",
   "metadata": {},
   "source": [
    "#3. Write a Python Program to Check Leap Year?"
   ]
  },
  {
   "cell_type": "raw",
   "id": "7800042a",
   "metadata": {},
   "source": [
    "year = int(input(\"Enter a year: \"))\n",
    "\n",
    "if year % 4 == 0:\n",
    "    if year % 100 == 0:\n",
    "        if year % 400 == 0:\n",
    "            print(\"Leap Year\")\n",
    "        else:\n",
    "            print(\"Not a Leap Year\")\n",
    "    else:\n",
    "        print(\"Leap Year\")\n",
    "else:\n",
    "    print(\"Not a Leap Year\")\n"
   ]
  },
  {
   "cell_type": "raw",
   "id": "77035343",
   "metadata": {},
   "source": [
    "#4. Write a Python Program to Check Prime Number?"
   ]
  },
  {
   "cell_type": "raw",
   "id": "97beb7f4",
   "metadata": {},
   "source": [
    "number = int(input(\"Enter a number: \"))\n",
    "\n",
    "if number > 1:\n",
    "    for i in range(2, number):\n",
    "        if (number % i) == 0:\n",
    "            print(number, \"is not a prime number\")\n",
    "            break\n",
    "    else:\n",
    "        print(number, \"is a prime number\")\n",
    "else:\n",
    "    print(number, \"is not a prime number\")\n"
   ]
  },
  {
   "cell_type": "raw",
   "id": "b45c1b73",
   "metadata": {},
   "source": [
    "#5. Write a Python Program to Print all Prime Numbers in an Interval of 1-10000?"
   ]
  },
  {
   "cell_type": "raw",
   "id": "eb18fc9b",
   "metadata": {},
   "source": [
    "\n",
    "lower = 1\n",
    "upper = 10000\n",
    "\n",
    "print(\"Prime numbers between\", lower, \"and\", upper, \"are:\")\n",
    "\n",
    "for num in range(lower, upper + 1):\n",
    "   # all prime numbers are greater than 1\n",
    "   if num > 1:\n",
    "       for i in range(2, num):\n",
    "           if (num % i) == 0:\n",
    "               break\n",
    "       else:\n",
    "           print(num)"
   ]
  },
  {
   "cell_type": "raw",
   "id": "757a4f76",
   "metadata": {},
   "source": []
  }
 ],
 "metadata": {
  "kernelspec": {
   "display_name": "Python 3 (ipykernel)",
   "language": "python",
   "name": "python3"
  },
  "language_info": {
   "codemirror_mode": {
    "name": "ipython",
    "version": 3
   },
   "file_extension": ".py",
   "mimetype": "text/x-python",
   "name": "python",
   "nbconvert_exporter": "python",
   "pygments_lexer": "ipython3",
   "version": "3.9.12"
  }
 },
 "nbformat": 4,
 "nbformat_minor": 5
}
