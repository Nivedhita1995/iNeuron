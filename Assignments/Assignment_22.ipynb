{
 "cells": [
  {
   "cell_type": "raw",
   "id": "07b34b4d",
   "metadata": {},
   "source": [
    "1. What is the result of the code, and explain?\n",
    ">>> X = 'iNeuron'\n",
    ">>> def func():\n",
    "print(X)\n",
    ">>> func()\n",
    "\n",
    "2. What is the result of the code, and explain?\n",
    ">>> X = 'iNeuron'\n",
    ">>> def func():\n",
    "X = 'NI!'\n",
    ">>> func()\n",
    ">>> print(X)\n",
    "\n",
    "\n",
    "3. What does this code print, and why?\n",
    ">>> X = 'iNeuron'\n",
    ">>> def func():\n",
    "X = 'NI'\n",
    "print(X)\n",
    ">>> func()\n",
    ">>> print(X)\n",
    "\n",
    "\n",
    "4. What output does this code produce? Why?\n",
    ">>> X = 'iNeuron'\n",
    ">>> def func():\n",
    "global X\n",
    "X = 'NI'\n",
    ">>> func()\n",
    ">>> print(X)\n",
    "\n",
    "\n",
    "5. What about this code—what’s the output, and why?\n",
    ">>> X = 'iNeuron'\n",
    ">>> def func():\n",
    "X = 'NI'\n",
    "def nested():\n",
    "print(X)\n",
    "nested()\n",
    ">>> func()\n",
    ">>> X\n",
    "\n",
    "\n",
    "6. How about this code: what is its output in Python 3, and explain?\n",
    ">>> def func():\n",
    "X = 'NI'\n",
    "def nested():\n",
    "nonlocal X\n",
    "X = 'Spam'\n",
    "nested()\n",
    "print(X)\n",
    ">>> func()\n"
   ]
  },
  {
   "cell_type": "raw",
   "id": "b63e89a1",
   "metadata": {},
   "source": [
    "#1. What is the result of the code, and explain?\n",
    "X = 'iNeuron' # X : global scope\n",
    "def func():\n",
    "    print(X) # No local variable\n",
    "func()"
   ]
  },
  {
   "cell_type": "raw",
   "id": "40297d1e",
   "metadata": {},
   "source": [
    "Output:iNeuron\n",
    "On calling func(), the function initially looks for variable local scope.\n",
    "Since there is no variable in local scope, function returns the value of global variable X."
   ]
  },
  {
   "cell_type": "raw",
   "id": "ddeedcd5",
   "metadata": {},
   "source": [
    "#2. What is the result of the code, and explain?\n",
    "X = 'iNeuron'  # Global variable X\n",
    "def func():\n",
    "    X = 'NI!'  # Local variabe X\n",
    "    print(X)\n",
    "func()\n"
   ]
  },
  {
   "cell_type": "raw",
   "id": "256be0e9",
   "metadata": {},
   "source": [
    "Output:NI\n",
    "The function has variable in local scope. Now the function print the value assigned to the variable x in local scop(i,e., x='NI')"
   ]
  },
  {
   "cell_type": "raw",
   "id": "91df7f5d",
   "metadata": {},
   "source": [
    "#3. What does this code print, and why?\n",
    "X = 'iNeuron'\n",
    "def func():\n",
    "    X = 'NI'\n",
    "    print(X) # print NI (local scope)\n",
    "func()\n",
    "print(X)     # print iNeuron (global scope)\n"
   ]
  },
  {
   "cell_type": "raw",
   "id": "99826609",
   "metadata": {},
   "source": [
    "Output= NI and iNeuron\n",
    "Initially func() function prints the value of X in local scope ('NI').\n",
    "Next the func() prints the values of X in global scope (\"iNeuron\")."
   ]
  },
  {
   "cell_type": "raw",
   "id": "16923c3e",
   "metadata": {},
   "source": [
    "#4. What output does this code produce? Why?\n",
    "X = 'iNeuron'        #global scope\n",
    "def func():\n",
    "    global X         # Global keyword is used inside function\n",
    "    X = 'NI'\n",
    "func()               \n",
    "print(X)\n"
   ]
  },
  {
   "cell_type": "raw",
   "id": "c7056e29",
   "metadata": {},
   "source": [
    "Output : NI\n",
    "global keyword allows a variable to be accessible in the current scope.\n",
    "Since the global X is inside function func it directly access the variable in X in global scope and changes its value to NI"
   ]
  },
  {
   "cell_type": "raw",
   "id": "35a561da",
   "metadata": {},
   "source": [
    "#5. What about this code—what’s the output, and why?\n",
    "X = 'iNeuron'\n",
    "def func():\n",
    "    X = 'NI'      # variable in local scope\n",
    "    def nested():\n",
    "        print(X)   \n",
    "    nested()      \n",
    "func()            # output = NI\n",
    "X                 # print the value of X in Global scope."
   ]
  },
  {
   "cell_type": "raw",
   "id": "4f4ab46a",
   "metadata": {},
   "source": [
    "Output = NI\n",
    "Since func() function (in nested function) initially looks for variable in local scope and the value of X in local scope is NI. output is NI\n"
   ]
  },
  {
   "cell_type": "raw",
   "id": "4edf2646",
   "metadata": {},
   "source": [
    "#6. How about this code: what is its output in Python 3, and explain?\n",
    "def func():\n",
    "    X = 'NI'\n",
    "    def nested():\n",
    "        nonlocal X   # Nonlocal keyword in python is used to declare a variable as not local.\n",
    "        X = 'Spam'   # local scope is modified to global scope\n",
    "    nested()\n",
    "    print(X)        # Output=Spam\n",
    "func()"
   ]
  },
  {
   "cell_type": "raw",
   "id": "e3fe9ca3",
   "metadata": {},
   "source": [
    "Output:Spam\n",
    "By using Nonlocal keyword X = 'Spam' in local scope is modified to global scope."
   ]
  },
  {
   "cell_type": "raw",
   "id": "18554e44",
   "metadata": {},
   "source": []
  }
 ],
 "metadata": {
  "kernelspec": {
   "display_name": "Python 3 (ipykernel)",
   "language": "python",
   "name": "python3"
  },
  "language_info": {
   "codemirror_mode": {
    "name": "ipython",
    "version": 3
   },
   "file_extension": ".py",
   "mimetype": "text/x-python",
   "name": "python",
   "nbconvert_exporter": "python",
   "pygments_lexer": "ipython3",
   "version": "3.9.12"
  }
 },
 "nbformat": 4,
 "nbformat_minor": 5
}
