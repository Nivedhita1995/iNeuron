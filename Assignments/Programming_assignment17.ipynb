{
 "cells": [
  {
   "cell_type": "raw",
   "id": "9df6c4b6",
   "metadata": {},
   "source": [
    "Question1. Create a function that takes three arguments a, b, c and returns the sum of the\n",
    "numbers that are evenly divided by c from the range a, b inclusive.\n",
    "Examples\n",
    "evenly_divisible(1, 10, 20) ➞ 0\n",
    "# No number between 1 and 10 can be evenly divided by 20.\n",
    "evenly_divisible(1, 10, 2) ➞ 30\n",
    "# 2 + 4 + 6 + 8 + 10 = 30\n",
    "evenly_divisible(1, 10, 3) ➞ 18\n",
    "# 3 + 6 + 9 = 18"
   ]
  },
  {
   "cell_type": "raw",
   "id": "835a3d6e",
   "metadata": {},
   "source": [
    "def evenDivisible(a,b,c):\n",
    "    divList = []\n",
    "    for i in range(a,b+1):\n",
    "        if i % c == 0:\n",
    "            divList.append(i)\n",
    "    print(f'{a,b,c} ➞ {sum(divList)}')\n",
    "\n",
    "evenDivisible(1,10,20)\n",
    "evenDivisible(1,10,2)\n",
    "evenDivisible(1,10,3)"
   ]
  },
  {
   "cell_type": "raw",
   "id": "f8bbb658",
   "metadata": {},
   "source": [
    "Question2.Create a function that returns True if a given inequality expression is correct and False otherwise.\n",
    "Examples\n",
    "correct_signs(\"3 < 7 < 11\") ➞ True\n",
    "\n",
    "correct_signs(\"13 > 44 > 33 > 1\") ➞ False\n",
    "\n",
    "correct_signs(\"1 < 2 < 6 < 9 > 3\") ➞ True"
   ]
  },
  {
   "cell_type": "raw",
   "id": "33a2c2a9",
   "metadata": {},
   "source": [
    "def correct_signs():\n",
    "    in_string = input('Enter the number : ')\n",
    "    out_bool = eval(in_string)\n",
    "    print(f'{in_string} ➞ {out_bool}')\n",
    "\n",
    "for x in range(3):\n",
    "    correct_signs()\n",
    "    "
   ]
  },
  {
   "cell_type": "raw",
   "id": "78d6a52d",
   "metadata": {},
   "source": [
    "Question3.Create a function that replaces all the vowels in a string with a specified character.\n",
    "Examples\n",
    "replace_vowels(\"the aardvark\", \"#\") ➞ \"th# ##rdv#rk\"\n",
    "\n",
    "replace_vowels(\"minnie mouse\", \"?\") ➞ \"m?nn?? m??s?\"\n",
    "\n",
    "replace_vowels(\"shakespeare\", \"*\") ➞ \"sh*k*sp**r*\""
   ]
  },
  {
   "cell_type": "raw",
   "id": "9487816a",
   "metadata": {},
   "source": [
    "def replace_vowels(string, char):\n",
    "    vowels = \"aeiouAEIOU\"\n",
    "    replaced_string = \"\"\n",
    "\n",
    "    for c in string:\n",
    "        if c in vowels:\n",
    "            replaced_string += char\n",
    "        else:\n",
    "            replaced_string += c\n",
    "\n",
    "    return replaced_string\n",
    "\n",
    "\n",
    "print(replace_vowels(\"the aardvark\", \"#\"))\n",
    "print(replace_vowels(\"minnie mouse\", \"?\"))\n",
    "print(replace_vowels(\"shakespeare\", \"*\"))\n"
   ]
  },
  {
   "cell_type": "raw",
   "id": "4a5ba46e",
   "metadata": {},
   "source": [
    "Question4.Write a function that calculates the factorial of a number recursively.\n",
    "Examples\n",
    "factorial(5) ➞ 120\n",
    "\n",
    "factorial(3) ➞ 6\n",
    "\n",
    "factorial(1) ➞ 1\n",
    "\n",
    "factorial(0) ➞ 1"
   ]
  },
  {
   "cell_type": "raw",
   "id": "1e20a81c",
   "metadata": {},
   "source": [
    "def factorial_recursive(n):\n",
    "    if n == 0 or n == 1:\n",
    "        return 1\n",
    "    else:\n",
    "        return n * factorial_recursive(n - 1)\n",
    "\n",
    "\n",
    "number = int(input(\"Enter a number: \"))\n",
    "result = factorial_recursive(number)\n",
    "print(\"Factorial:\", result)\n"
   ]
  },
  {
   "cell_type": "raw",
   "id": "435f754d",
   "metadata": {},
   "source": [
    "Question 5\n",
    "Hamming distance is the number of characters that differ between two strings.\n",
    "To illustrate:\n",
    "String1: \"abcbba\"\n",
    "String2: \"abcbda\"\n",
    "\n",
    "Hamming Distance: 1 - \"b\" vs. \"d\" is the only difference.\n",
    "Create a function that computes the hamming distance between two strings.\n",
    "Examples\n",
    "hamming_distance(\"abcde\", \"bcdef\") ➞ 5\n",
    "\n",
    "hamming_distance(\"abcde\", \"abcde\") ➞ 0\n",
    "\n",
    "hamming_distance(\"strong\", \"strung\") ➞ 1"
   ]
  },
  {
   "cell_type": "raw",
   "id": "f7b56f83",
   "metadata": {},
   "source": [
    "def hamming_distance(str1, str2):\n",
    "    if len(str1) != len(str2):\n",
    "        raise ValueError(\"Strings must have equal length\")\n",
    "\n",
    "    distance = 0\n",
    "    for i in range(len(str1)):\n",
    "        if str1[i] != str2[i]:\n",
    "            distance += 1\n",
    "\n",
    "    return distance\n",
    "\n",
    "\n",
    "string1 = input(\"Enter the first string: \")\n",
    "string2 = input(\"Enter the second string: \")\n",
    "distance = hamming_distance(string1, string2)\n",
    "print(\"Hamming distance:\", distance)\n"
   ]
  },
  {
   "cell_type": "raw",
   "id": "e52a825c",
   "metadata": {},
   "source": []
  }
 ],
 "metadata": {
  "kernelspec": {
   "display_name": "Python 3 (ipykernel)",
   "language": "python",
   "name": "python3"
  },
  "language_info": {
   "codemirror_mode": {
    "name": "ipython",
    "version": 3
   },
   "file_extension": ".py",
   "mimetype": "text/x-python",
   "name": "python",
   "nbconvert_exporter": "python",
   "pygments_lexer": "ipython3",
   "version": "3.9.12"
  }
 },
 "nbformat": 4,
 "nbformat_minor": 5
}
