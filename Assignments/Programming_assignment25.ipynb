{
 "cells": [
  {
   "cell_type": "raw",
   "id": "7bf6b249",
   "metadata": {},
   "source": [
    "Question1\n",
    "Create a function that takes three integer arguments (a, b, c) and returns the amount of integers which are of equal value.\n",
    "Examples\n",
    "equal(3, 4, 3) ➞ 2\n",
    "\n",
    "equal(1, 1, 1) ➞ 3\n",
    "\n",
    "equal(3, 4, 1) ➞ 0 \n",
    "Notes\n",
    "Your function must return 0, 2 or 3."
   ]
  },
  {
   "cell_type": "raw",
   "id": "f9dcf388",
   "metadata": {},
   "source": [
    "def equal(a,b,c):\n",
    "    if a==b and b==c:\n",
    "        print(f'equal{a,b,c} ➞ {3}')\n",
    "    elif a==b or b==c or a==c:\n",
    "        print(f'equal{a,b,c} ➞ {2}')\n",
    "    else:\n",
    "        print(f'equal{a,b,c} ➞ {0}')\n",
    "\n",
    "equal(3, 4, 3)\n",
    "equal(1, 1, 1)\n",
    "equal(3, 4, 1)"
   ]
  },
  {
   "cell_type": "raw",
   "id": "ba41063f",
   "metadata": {},
   "source": [
    "Question2\n",
    "Write a function that converts a dictionary into a list of keys-values tuples.\n",
    "Examples\n",
    "dict_to_list({\n",
    "  \"D\": 1,\n",
    "  \"B\": 2,\n",
    "  \"C\": 3\n",
    "}) ➞ [(\"B\", 2), (\"C\", 3), (\"D\", 1)]\n",
    "\n",
    "dict_to_list({\n",
    "  \"likes\": 2,\n",
    "  \"dislikes\": 3,\n",
    "  \"followers\": 10\n",
    "}) ➞ [(\"dislikes\", 3), (\"followers\", 10), (\"likes\", 2)]\n",
    "Notes\n",
    "Return the elements in the list in alphabetical order.\n"
   ]
  },
  {
   "cell_type": "raw",
   "id": "6f4e4e31",
   "metadata": {},
   "source": [
    "def convert_dict_to_sorted_tuples(dictionary):\n",
    "    return sorted(dictionary.items())\n",
    "\n",
    "#Examples\n",
    "#my_dict = {\"D\": 1,\"B\": 2,\"C\": 3}\n",
    "#my_dict = {\"likes\": 2,\"dislikes\": 3,\"followers\": 10}\n",
    "result = convert_dict_to_sorted_tuples(my_dict)\n",
    "print(f'dict_to_list ({my_dict}) ➞ {result}')\n"
   ]
  },
  {
   "cell_type": "raw",
   "id": "af66535e",
   "metadata": {},
   "source": [
    "Question3\n",
    "Write a function that creates a dictionary with each (key, value) pair being the (lower case, upper case) versions of a letter, respectively.\n",
    "Examples\n",
    "mapping([\"p\", \"s\"]) ➞ { \"p\": \"P\", \"s\": \"S\" }\n",
    "\n",
    "mapping([\"a\", \"b\", \"c\"]) ➞ { \"a\": \"A\", \"b\": \"B\", \"c\": \"C\" }\n",
    "\n",
    "mapping([\"a\", \"v\", \"y\", \"z\"]) ➞ { \"a\": \"A\", \"v\": \"V\", \"y\": \"Y\", \"z\": \"Z\" }\n",
    "Notes\n",
    "All of the letters in the input list will always be lowercase."
   ]
  },
  {
   "cell_type": "raw",
   "id": "bf85d4e3",
   "metadata": {},
   "source": [
    "def mapping(in_list):\n",
    "    result = {}\n",
    "    for i in in_list:\n",
    "        result[i] = i.upper()\n",
    "    print(f'mapping({in_list}) ➞ {result}')\n",
    "    \n",
    "mapping([\"p\", \"s\"])\n",
    "mapping([\"a\", \"b\", \"c\"])\n",
    "mapping([\"a\", \"v\", \"y\", \"z\"])"
   ]
  },
  {
   "cell_type": "raw",
   "id": "c1793c15",
   "metadata": {},
   "source": [
    "Question4\n",
    "Write a function, that replaces all vowels in a string with a specified vowel.\n",
    "Examples\n",
    "vow_replace(\"apples and bananas\", \"u\") ➞ \"upplus und bununus\"\n",
    "\n",
    "vow_replace(\"cheese casserole\", \"o\") ➞ \"choosocossorolo\"\n",
    "\n",
    "vow_replace(\"stuffed jalapeno poppers\", \"e\") ➞ \"steffedjelepene peppers\"\n",
    "Notes\n",
    "All words will be lowercase. Y is not considered a vowel.\n"
   ]
  },
  {
   "cell_type": "raw",
   "id": "44249099",
   "metadata": {},
   "source": [
    "def vow_replace(in_string,vow_char):\n",
    "    vowels = ['a','e','i','o','u','A','E','I','O','U']\n",
    "    replaced_string = ''\n",
    "    for i in in_string:\n",
    "        if i in vowels:\n",
    "            replaced_string += vow_char\n",
    "        else:\n",
    "            replaced_string += i\n",
    "    print(f'vow_replace({in_string}) ➞ {replaced_string}')\n",
    "        \n",
    "vow_replace(\"apples and bananas\", \"u\")\n",
    "vow_replace(\"cheese casserole\", \"o\")\n",
    "vow_replace(\"stuffed jalapeno poppers\", \"e\")"
   ]
  },
  {
   "cell_type": "raw",
   "id": "dc652283",
   "metadata": {},
   "source": [
    "Question5\n",
    "Create a function that takes a string as input and capitalizes a letter if its ASCII code is even and returns its lower case version if its ASCII code is odd.\n",
    "Examples\n",
    "ascii_capitalize(\"to be or not to be!\") ➞ \"To Be oRNoT To Be!\"\n",
    "\n",
    "ascii_capitalize(\"THE LITTLE MERMAID\") ➞ \"THeLiTTLemeRmaiD\"\n",
    "\n",
    "ascii_capitalize(\"Oh what a beautiful morning.\") ➞ \"oHwHaT a BeauTiFuLmoRNiNg.\""
   ]
  },
  {
   "cell_type": "raw",
   "id": "42b6190e",
   "metadata": {},
   "source": [
    "def ascii_capitalize(string):\n",
    "    result = ''\n",
    "    for char in string:\n",
    "        ascii_code = ord(char)\n",
    "        if ascii_code % 2 == 0:\n",
    "            result += char.upper()\n",
    "        else:\n",
    "            result += char.lower()\n",
    "    print(f'ascii_capitalize({string}) ➞ {result}')\n",
    "\n",
    "ascii_capitalize(\"to be or not to be!\")\n",
    "ascii_capitalize(\"THE LITTLE MERMAID\")\n",
    "ascii_capitalize(\"Oh what a beautiful morning.\")\n"
   ]
  },
  {
   "cell_type": "raw",
   "id": "41bca6b4",
   "metadata": {},
   "source": []
  }
 ],
 "metadata": {
  "kernelspec": {
   "display_name": "Python 3 (ipykernel)",
   "language": "python",
   "name": "python3"
  },
  "language_info": {
   "codemirror_mode": {
    "name": "ipython",
    "version": 3
   },
   "file_extension": ".py",
   "mimetype": "text/x-python",
   "name": "python",
   "nbconvert_exporter": "python",
   "pygments_lexer": "ipython3",
   "version": "3.9.12"
  }
 },
 "nbformat": 4,
 "nbformat_minor": 5
}
