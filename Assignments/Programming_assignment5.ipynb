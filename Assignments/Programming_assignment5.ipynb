{
 "cells": [
  {
   "cell_type": "raw",
   "id": "6c3486f5",
   "metadata": {},
   "source": [
    "1. Write a Python Program to Find LCM?\n",
    "2. Write a Python Program to Find HCF?\n",
    "3. Write a Python Program to Convert Decimal to Binary, Octal and Hexadecimal?\n",
    "4. Write a Python Program To Find ASCII value of a character?\n",
    "5. Write a Python Program to Make a Simple Calculator with 4 basic mathematical operations?"
   ]
  },
  {
   "cell_type": "raw",
   "id": "461b6919",
   "metadata": {},
   "source": [
    "#1. Write a Python Program to Find LCM?"
   ]
  },
  {
   "cell_type": "raw",
   "id": "1118408b",
   "metadata": {},
   "source": [
    "# gcd : greatest common divisor (Euclidean algorithm)\n",
    "\n",
    "def gcd(a, b):\n",
    "    if b == 0:\n",
    "        return a\n",
    "    return gcd(b, a % b)\n",
    "\n",
    "def lcm(a, b):\n",
    "    return (a * b) // gcd(a, b)\n",
    "\n",
    "num1 = int(input(\"Enter first number: \"))\n",
    "num2 = int(input(\"Enter second number: \"))\n",
    "\n",
    "print(\"The LCM of\", num1, \"and\", num2, \"is\", lcm(num1, num2))\n"
   ]
  },
  {
   "cell_type": "raw",
   "id": "af3187fb",
   "metadata": {},
   "source": [
    "2. Write a Python Program to Find HCF?"
   ]
  },
  {
   "cell_type": "raw",
   "id": "b57c8d26",
   "metadata": {},
   "source": [
    "# The gcd function calculates the greatest common divisor of two numbers using the Euclidean algorithm, where it keeps dividing the larger number by the smaller number until the remainder is 0, and then returns the smaller number.\n",
    "\n",
    "def gcd(a, b):\n",
    "    if b == 0:\n",
    "        return a\n",
    "    return gcd(b, a % b)\n",
    "\n",
    "num1 = int(input(\"Enter first number: \"))\n",
    "num2 = int(input(\"Enter second number: \"))\n",
    "\n",
    "print(\"The HCF of\", num1, \"and\", num2, \"is\", gcd(num1, num2))\n"
   ]
  },
  {
   "cell_type": "raw",
   "id": "0cc63ee8",
   "metadata": {},
   "source": [
    "#3. Write a Python Program to Convert Decimal to Binary, Octal and Hexadecimal?"
   ]
  },
  {
   "cell_type": "raw",
   "id": "42d68465",
   "metadata": {},
   "source": [
    "#By using the built-in functions bin, oct, and hex Decimal can be converted to Binary, Octal and Hexadecimal\n",
    "\n",
    "decimal = int(input(\"Enter a decimal number: \"))\n",
    "\n",
    "print(\"The binary representation of\", decimal, \"is\", bin(decimal))\n",
    "print(\"The octal representation of\", decimal, \"is\", oct(decimal))\n",
    "print(\"The hexadecimal representation of\", decimal, \"is\", hex(decimal))\n"
   ]
  },
  {
   "cell_type": "raw",
   "id": "102fe8ff",
   "metadata": {},
   "source": [
    "#4. Write a Python Program To Find ASCII value of a character?"
   ]
  },
  {
   "cell_type": "raw",
   "id": "df248713",
   "metadata": {},
   "source": [
    "#This program takes a character as input and uses the built-in function ord to find its ASCII value.\n",
    "\n",
    "char = input(\"Enter a character: \")\n",
    "\n",
    "print(\"The ASCII value of\", char, \"is\", ord(char))\n"
   ]
  },
  {
   "cell_type": "raw",
   "id": "66495ee2",
   "metadata": {},
   "source": [
    "#5. Write a Python Program to Make a Simple Calculator with 4 basic mathematical operations?"
   ]
  },
  {
   "cell_type": "raw",
   "id": "e3de327d",
   "metadata": {},
   "source": [
    "# The 4 basic mathematical operations : addition, subtraction, multiplication and division\n",
    "\n",
    "def add(a, b):\n",
    "    return a + b\n",
    "\n",
    "def subtract(a, b):\n",
    "    return a - b\n",
    "\n",
    "def multiply(a, b):\n",
    "    return a * b\n",
    "\n",
    "def divide(a, b):\n",
    "    return a / b\n",
    "\n",
    "print(\"Select operation.\")\n",
    "print(\"1. Add\")\n",
    "print(\"2. Subtract\")\n",
    "print(\"3. Multiply\")\n",
    "print(\"4. Divide\")\n",
    "\n",
    "choice = int(input(\"Enter choice (1/2/3/4): \"))\n",
    "\n",
    "num1 = int(input(\"Enter first number: \"))\n",
    "num2 = int(input(\"Enter second number: \"))\n",
    "\n",
    "if choice == 1:\n",
    "    print(num1, \"+\", num2, \"=\", add(num1, num2))\n",
    "\n",
    "elif choice == 2:\n",
    "    print(num1, \"-\", num2, \"=\", subtract(num1, num2))\n",
    "\n",
    "elif choice == 3:\n",
    "    print(num1, \"*\", num2, \"=\", multiply(num1, num2))\n",
    "\n",
    "elif choice == 4:\n",
    "    print(num1, \"/\", num2, \"=\", divide(num1, num2))\n",
    "\n",
    "else:\n",
    "    print(\"Invalid input\")\n"
   ]
  },
  {
   "cell_type": "raw",
   "id": "adcb5bad",
   "metadata": {},
   "source": []
  },
  {
   "cell_type": "raw",
   "id": "12f69804",
   "metadata": {},
   "source": []
  }
 ],
 "metadata": {
  "kernelspec": {
   "display_name": "Python 3 (ipykernel)",
   "language": "python",
   "name": "python3"
  },
  "language_info": {
   "codemirror_mode": {
    "name": "ipython",
    "version": 3
   },
   "file_extension": ".py",
   "mimetype": "text/x-python",
   "name": "python",
   "nbconvert_exporter": "python",
   "pygments_lexer": "ipython3",
   "version": "3.9.12"
  }
 },
 "nbformat": 4,
 "nbformat_minor": 5
}
