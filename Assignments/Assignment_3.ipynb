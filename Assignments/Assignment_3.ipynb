{
 "cells": [
  {
   "cell_type": "code",
   "execution_count": null,
   "id": "cd86251b",
   "metadata": {},
   "outputs": [],
   "source": [
    "1. Why are functions advantageous to have in your programs?\n",
    "2. When does the code in a function run: when its specified or when its called?\n",
    "3. What statement creates a function?\n",
    "4. What is the difference between a function and a function call?\n",
    "5. How many global scopes are there in a Python program? How many local scopes?\n",
    "6. What happens to variables in a local scope when the function call returns?\n",
    "7. What is the concept of a return value? Is it possible to have a return value in an expression?\n",
    "8. If a function does not have a return statement, what is the return value of a call to that function?\n",
    "9. How do you make a function variable refer to the global variable?\n",
    "10. What is the data type of None?\n",
    "11. What does the sentence import areallyourpetsnamederic do?\n",
    "12. If you had a bacon() feature in a spam module, what would you call it after importing spam?\n",
    "13. What can you do to save a programme from crashing if it encounters an error?\n",
    "14. What is the purpose of the try clause? What is the purpose of the except clause?"
   ]
  },
  {
   "cell_type": "raw",
   "id": "41592264",
   "metadata": {},
   "source": [
    "#1. Why are functions advantageous to have in your programs?\n",
    "# Avantages of function in programming:\n",
    "Code reuseability (Reduce repeated code)\n",
    "Helps to manage the complexity of the program by dividing a bigger complex task into smaller, easily understood tasks.\n",
    "To make the program more readable, and organized "
   ]
  },
  {
   "cell_type": "raw",
   "id": "286ec530",
   "metadata": {},
   "source": [
    "#2. When does the code in a function run: when its specified or when its called?\n",
    "The code in a function run when its called."
   ]
  },
  {
   "cell_type": "raw",
   "id": "2919ed19",
   "metadata": {},
   "source": [
    "#3. What statement creates a function?\n",
    "In Python a function is defined using the def keyword and conditional statements to create a function.\n"
   ]
  },
  {
   "cell_type": "raw",
   "id": "47960f48",
   "metadata": {},
   "source": [
    "#4. What is the difference between a function and a function call?\n",
    "#Function:\n",
    "A function is a block of related statements designed to perform a computational, logical, or evaluative task and returns a result\n",
    "It usually accepts inputs as parameters and returns a result. The parameters are not mandatory.\n",
    "#Function call:\n",
    "A function call is the code used to pass control to a function.\n",
    "After creating a function we can call it by using the name of the function followed by parenthesis containing parameters of that particular function.\n"
   ]
  },
  {
   "cell_type": "raw",
   "id": "30ebe1b9",
   "metadata": {},
   "source": [
    "#5. How many global scopes are there in a Python program? How many local scopes?\n",
    "# Global Scope- A variable created in the main body of the Python code is a global variable and belongs to the global scope. Global variables are available from within any scope, global and local.\n",
    "For any python program, there can be only one global scope. The global scope is created once the program starts and gets destroyed with the termination of the python program.\n",
    "\n",
    "# A variable created inside a function belongs to the local scope of that function, and can only be used inside that function.\n",
    "The local variable can be accessed from a function within the function.\n",
    "\n"
   ]
  },
  {
   "cell_type": "raw",
   "id": "e88f6bfe",
   "metadata": {},
   "source": [
    "#6. What happens to variables in a local scope when the function call returns?\n",
    "Local variables (variables declared in functions) looses its scope  (lose all the references to the variables)when the function call returns.\n",
    "All local variables are destroyed as soon as it move away from that scope. "
   ]
  },
  {
   "cell_type": "raw",
   "id": "827e2651",
   "metadata": {},
   "source": [
    "#7. What is the concept of a return value? Is it possible to have a return value in an expression?\n",
    "A common practice is to use the result of an expression as a return value in a return statement.\n",
    "Return is the return value, and the code after the return block is not executed.\n",
    "The return statement [expression] exits the function, optionally returning an expression to the caller. A return statement with no parameter value returns None.\n",
    "When return is run as a script alone, the print function is required to display it, but in interactive mode, the result of return will be automatically printed\n",
    "Return values can be used in expressions."
   ]
  },
  {
   "cell_type": "raw",
   "id": "fd2c1798",
   "metadata": {},
   "source": [
    "#8. If a function does not have a return statement, what is the return value of a call to that function?\n",
    "Funtion without return statement is implicit return statement.\n",
    "A Python function will always have a return value. The return value of a call to that function will always be none.\n",
    "Because when there is no return value in a return statement, or if you totally omit the return statement, then Python will implicitly return a default value for you. That default return value is none. "
   ]
  },
  {
   "cell_type": "raw",
   "id": "587a3e37",
   "metadata": {},
   "source": [
    "#9. How do you make a function variable refer to the global variable?\n",
    "In Python, we can assign a function to a variable. And using that variable we can call the function as many as times we want. \n",
    "Assign a function to the desired variable with the name of the function.\n",
    "x = 123\n",
    "def sum():\n",
    "    x = 98\n",
    "    print(x)\n",
    "    print(globals()['x'])\n",
    "print(x)\n",
    "z = sum\n",
    "z()"
   ]
  },
  {
   "cell_type": "raw",
   "id": "2ff5be23",
   "metadata": {},
   "source": [
    "#10. What is the data type of None?\n",
    "None datatype doesn’t contain any value.\n",
    "None keyword is an object and is a data type of none type class.\n",
    "None keyword is used to define a null variable or object.\n",
    "None keyword is immutable.\n",
    "typeOfNone = None \n",
    "type(typeOfNone)\n"
   ]
  },
  {
   "cell_type": "raw",
   "id": "69f104ad",
   "metadata": {},
   "source": [
    "#11. What does the sentence import areallyourpetsnamederic do?\n",
    "ModuleNotFoundError\n"
   ]
  },
  {
   "cell_type": "raw",
   "id": "83afa77b",
   "metadata": {},
   "source": [
    "#12. If you had a bacon() feature in a spam module, what would you call it after importing spam?\n",
    "import spam\n",
    "from spam import bacon"
   ]
  },
  {
   "cell_type": "raw",
   "id": "47960c32",
   "metadata": {},
   "source": [
    "#13. What can you do to save a programme from crashing if it encounters an error?\n",
    "Error handling can be used to save a programme from crashing if it encounters an error. Exception handling notify the user of why the error occurred and gracefully exit the process that caused the error.\n"
   ]
  },
  {
   "cell_type": "raw",
   "id": "6208e664",
   "metadata": {},
   "source": [
    "#14. What is the purpose of the try clause? What is the purpose of the except clause?\n",
    "Try n except is used only to handle run time error and not syntax error(compile time).\n",
    "Only if there is error/unsuccessfull in try block, except block will execute or else block will execute.\n",
    "First, try clause is executed i.e. the code between try and except clause. If there is no exception, then only try clause will run, except clause is finished. If any exception occured, try clause will be skipped and except clause will run."
   ]
  },
  {
   "cell_type": "code",
   "execution_count": null,
   "id": "b3fb0dc1",
   "metadata": {},
   "outputs": [],
   "source": []
  }
 ],
 "metadata": {
  "kernelspec": {
   "display_name": "Python 3 (ipykernel)",
   "language": "python",
   "name": "python3"
  },
  "language_info": {
   "codemirror_mode": {
    "name": "ipython",
    "version": 3
   },
   "file_extension": ".py",
   "mimetype": "text/x-python",
   "name": "python",
   "nbconvert_exporter": "python",
   "pygments_lexer": "ipython3",
   "version": "3.9.12"
  }
 },
 "nbformat": 4,
 "nbformat_minor": 5
}
