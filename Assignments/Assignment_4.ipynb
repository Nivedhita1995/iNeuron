{
 "cells": [
  {
   "cell_type": "code",
   "execution_count": null,
   "id": "866ff6f4",
   "metadata": {},
   "outputs": [],
   "source": [
    "1. What exactly is []?\n",
    "2. In a list of values stored in a variable called spam, how would you assign the value 'hello' as the\n",
    "third value? (Assume [2, 4, 6, 8, 10] are in spam.)\n",
    "Lets pretend the spam includes the list ['a','b','c','d'] for the next three queries.\n",
    "3. What is the value of spam[int(int('3'* 2) / 11)]?\n",
    "4. What is the value of spam[-1]?\n",
    "5. What is the value of spam[:2]?\n",
    "Lets pretend bacon has the list [3.14,'cat', 11, 'cat', True] for the next three questions.\n",
    "6. What is the value of bacon.index('cat')?\n",
    "7. How does bacon.append(99) change the look of the list value in bacon?\n",
    "8. How does bacon.remove('cat') change the look of the list in bacon?\n",
    "9. What are the list concatenation and list replication operators?\n",
    "10. What is difference between the list methods append() and insert()?\n",
    "11. What are the two methods for removing items from a list?\n",
    "12. Describe how list values and string values are identical.\n",
    "13. What is the difference between tuples and lists?\n",
    "14. How do you type a tuple value that only contains the integer 42?\n",
    "15. How do you get a list values tuple form? How do you get a tuple values list form?\n",
    "16. Variables that contains list values are not necessarily lists themselves. Instead, what do they\n",
    "contain?\n",
    "17. How do you distinguish between copy.copy() and copy.deepcopy()?"
   ]
  },
  {
   "cell_type": "code",
   "execution_count": null,
   "id": "c334e60d",
   "metadata": {},
   "outputs": [],
   "source": [
    "#1. What exactly is []?\n",
    "Python uses the square brackets [] to indicate a list.\n",
    "list=[], this represents empty list. "
   ]
  },
  {
   "cell_type": "code",
   "execution_count": null,
   "id": "04f1ad67",
   "metadata": {},
   "outputs": [],
   "source": [
    "#2. In a list of values stored in a variable called spam, how would you assign the value 'hello' as the\n",
    "third value? (Assume [2, 4, 6, 8, 10] are in spam.)"
   ]
  },
  {
   "cell_type": "code",
   "execution_count": 8,
   "id": "39d11da1",
   "metadata": {},
   "outputs": [],
   "source": [
    "spam=[2, 4, 6, 8, 10]\n",
    "spam[3]=(\"hello\")\n"
   ]
  },
  {
   "cell_type": "code",
   "execution_count": 11,
   "id": "b69239d5",
   "metadata": {},
   "outputs": [
    {
     "data": {
      "text/plain": [
       "[2, 4, 6, 'hello', 10]"
      ]
     },
     "execution_count": 11,
     "metadata": {},
     "output_type": "execute_result"
    }
   ],
   "source": [
    "spam"
   ]
  },
  {
   "cell_type": "code",
   "execution_count": null,
   "id": "405c9773",
   "metadata": {},
   "outputs": [],
   "source": [
    "#Lets pretend the spam includes the list ['a','b','c','d'] for the next three queries."
   ]
  },
  {
   "cell_type": "code",
   "execution_count": 17,
   "id": "bb546488",
   "metadata": {},
   "outputs": [],
   "source": [
    "spam=['a','b','c','d']"
   ]
  },
  {
   "cell_type": "code",
   "execution_count": null,
   "id": "89dd951c",
   "metadata": {},
   "outputs": [],
   "source": [
    "#3. What is the value of spam[int(int('3'* 2) / 11)]?"
   ]
  },
  {
   "cell_type": "code",
   "execution_count": 18,
   "id": "d61313e1",
   "metadata": {},
   "outputs": [
    {
     "data": {
      "text/plain": [
       "'d'"
      ]
     },
     "execution_count": 18,
     "metadata": {},
     "output_type": "execute_result"
    }
   ],
   "source": [
    "spam[int(int('3'* 2) / 11)]"
   ]
  },
  {
   "cell_type": "code",
   "execution_count": null,
   "id": "c8a748bb",
   "metadata": {},
   "outputs": [],
   "source": [
    "#4. What is the value of spam[-1]?"
   ]
  },
  {
   "cell_type": "code",
   "execution_count": 19,
   "id": "347179f1",
   "metadata": {},
   "outputs": [
    {
     "data": {
      "text/plain": [
       "'d'"
      ]
     },
     "execution_count": 19,
     "metadata": {},
     "output_type": "execute_result"
    }
   ],
   "source": [
    "spam[-1]"
   ]
  },
  {
   "cell_type": "code",
   "execution_count": null,
   "id": "35165652",
   "metadata": {},
   "outputs": [],
   "source": [
    "#5. What is the value of spam[:2]?"
   ]
  },
  {
   "cell_type": "code",
   "execution_count": 20,
   "id": "9aa285e7",
   "metadata": {},
   "outputs": [
    {
     "data": {
      "text/plain": [
       "['a', 'b']"
      ]
     },
     "execution_count": 20,
     "metadata": {},
     "output_type": "execute_result"
    }
   ],
   "source": [
    "spam[:2]"
   ]
  },
  {
   "cell_type": "code",
   "execution_count": null,
   "id": "f37b3291",
   "metadata": {},
   "outputs": [],
   "source": [
    "#Lets pretend bacon has the list [3.14,'cat', 11, 'cat', True] for the next three questions."
   ]
  },
  {
   "cell_type": "code",
   "execution_count": 21,
   "id": "9072bc53",
   "metadata": {},
   "outputs": [],
   "source": [
    "bacon=[3.14,'cat', 11, 'cat', True]"
   ]
  },
  {
   "cell_type": "code",
   "execution_count": null,
   "id": "bbbcbb1e",
   "metadata": {},
   "outputs": [],
   "source": [
    "#6. What is the value of bacon.index('cat')?"
   ]
  },
  {
   "cell_type": "code",
   "execution_count": 22,
   "id": "b51e7149",
   "metadata": {},
   "outputs": [
    {
     "data": {
      "text/plain": [
       "1"
      ]
     },
     "execution_count": 22,
     "metadata": {},
     "output_type": "execute_result"
    }
   ],
   "source": [
    "bacon.index('cat')"
   ]
  },
  {
   "cell_type": "code",
   "execution_count": null,
   "id": "d2f7727a",
   "metadata": {},
   "outputs": [],
   "source": [
    "#7. How does bacon.append(99) change the look of the list value in bacon?"
   ]
  },
  {
   "cell_type": "code",
   "execution_count": 23,
   "id": "185604b8",
   "metadata": {},
   "outputs": [],
   "source": [
    "bacon.append(99)"
   ]
  },
  {
   "cell_type": "code",
   "execution_count": 24,
   "id": "670327f8",
   "metadata": {},
   "outputs": [
    {
     "data": {
      "text/plain": [
       "[3.14, 'cat', 11, 'cat', True, 99]"
      ]
     },
     "execution_count": 24,
     "metadata": {},
     "output_type": "execute_result"
    }
   ],
   "source": [
    "bacon"
   ]
  },
  {
   "cell_type": "code",
   "execution_count": null,
   "id": "720a89c3",
   "metadata": {},
   "outputs": [],
   "source": [
    "#8. How does bacon.remove('cat') change the look of the list in bacon?"
   ]
  },
  {
   "cell_type": "code",
   "execution_count": 25,
   "id": "5b7d7493",
   "metadata": {},
   "outputs": [],
   "source": [
    "bacon.remove('cat')"
   ]
  },
  {
   "cell_type": "code",
   "execution_count": 26,
   "id": "7ec4d39e",
   "metadata": {},
   "outputs": [
    {
     "data": {
      "text/plain": [
       "[3.14, 11, 'cat', True, 99]"
      ]
     },
     "execution_count": 26,
     "metadata": {},
     "output_type": "execute_result"
    }
   ],
   "source": [
    "bacon"
   ]
  },
  {
   "cell_type": "code",
   "execution_count": null,
   "id": "cc5b7df7",
   "metadata": {},
   "outputs": [],
   "source": [
    "#9. What are the list concatenation and list replication operators?"
   ]
  },
  {
   "cell_type": "code",
   "execution_count": null,
   "id": "6d3b9266",
   "metadata": {},
   "outputs": [],
   "source": [
    "In python programming, operator for list concatenation is +, and for list replication *.\n",
    "The most conventional method to perform the list concatenation, the use of “+” operator can easily add the whole of one list behind the other list and hence perform the concatenation.\n",
    "Example of list concatination operator '+'\n",
    "l=[1,2,3,4,5,'abc',12.36,True]\n",
    "l+[7,'xyz',25.85]\n",
    "Example of list replication operator '*'\n",
    "l=[1,2,3,4,5,'abc',12.36,True]\n",
    "l*2"
   ]
  },
  {
   "cell_type": "code",
   "execution_count": null,
   "id": "14d3c44b",
   "metadata": {},
   "outputs": [],
   "source": [
    "#10. What is difference between the list methods append() and insert()?"
   ]
  },
  {
   "cell_type": "code",
   "execution_count": null,
   "id": "0e1e8a96",
   "metadata": {},
   "outputs": [],
   "source": [
    "l.append() : in list method append(),values are append (added) to the end of the list (to the last index).\n",
    "Example:\n",
    "l1=[3,4,5,6,6]\n",
    "l1.append([1,2,'append'])       \n",
    "l.insert() : in list method insert(), it gives option which index to insert.\n",
    "Example:\n",
    "l2=[1,3,4]\n",
    "l2.insert(1,'insert')\n"
   ]
  },
  {
   "cell_type": "code",
   "execution_count": null,
   "id": "4cf46a67",
   "metadata": {},
   "outputs": [],
   "source": [
    "#11. What are the two methods for removing items from a list?\n",
    "The two methods for removing items from a list:\n",
    "    l.remove() and l.pop()\n",
    "l3=[1,2,3,4,5,'name',14.36,True]\n",
    "l3.remove(5)\n",
    "l3.pop(2)\n",
    "In l.remove() value to be removed is mentioned l3.remove(5), in this example the value / element 5 is removed from l3.\n",
    "In l.pop() remove and return items based on index and if no index is mentioned by default last index is removed. In this example l3.pop(2) 2 is the index where the value is getting removed."
   ]
  },
  {
   "cell_type": "code",
   "execution_count": null,
   "id": "b33ecada",
   "metadata": {},
   "outputs": [],
   "source": [
    "#12. Describe how list values and string values are identical?\n",
    "List values and string values are identical which are ordered collections of characters, except that the elements of a list can have any type and for any one list, the items can be of different types.\n",
    "Strings can be defined as sequential collections of characters. This means that the individual characters that make up a string are in a particular order from left to right.\n",
    "Similarly, A list is a sequential collection of Python data values, where each value is identified by an index. "
   ]
  },
  {
   "cell_type": "code",
   "execution_count": null,
   "id": "283551c5",
   "metadata": {},
   "outputs": [],
   "source": [
    "#13. What is the difference between tuples and lists?\n",
    "The difference between tuples and lists is the mutability.(mutability - item ressignment is not allowed in between iterables).\n",
    "Python lists are mutable objects, that is elements/items in the list can be update, delete items in them, or add items to them.\n",
    "Whereas, python tuples are immutable: Tuples cannot have their values modified, appended, or removed;that is once they are created, they cannot be changed."
   ]
  },
  {
   "cell_type": "code",
   "execution_count": null,
   "id": "d64d6d65",
   "metadata": {},
   "outputs": [],
   "source": [
    "#14. How do you type a tuple value that only contains the integer 42?\n",
    "t=(('42',))\n",
    "type(t)"
   ]
  },
  {
   "cell_type": "code",
   "execution_count": 42,
   "id": "384264ba",
   "metadata": {},
   "outputs": [],
   "source": [
    "#15. How do you get a list values tuple form? How do you get a tuple values list form?\n"
   ]
  },
  {
   "cell_type": "code",
   "execution_count": 35,
   "id": "2f1f6709",
   "metadata": {},
   "outputs": [],
   "source": [
    "t=(1,2,3,4,'xyz',65.34,True)"
   ]
  },
  {
   "cell_type": "code",
   "execution_count": 37,
   "id": "24cb579d",
   "metadata": {},
   "outputs": [
    {
     "data": {
      "text/plain": [
       "[1, 2, 3, 4, 'xyz', 65.34, True]"
      ]
     },
     "execution_count": 37,
     "metadata": {},
     "output_type": "execute_result"
    }
   ],
   "source": [
    "list(t)"
   ]
  },
  {
   "cell_type": "code",
   "execution_count": 3,
   "id": "43491791",
   "metadata": {},
   "outputs": [],
   "source": [
    "l2=[5,6,7,8,\"abc\",23.65,False]"
   ]
  },
  {
   "cell_type": "code",
   "execution_count": 4,
   "id": "235aba90",
   "metadata": {},
   "outputs": [
    {
     "data": {
      "text/plain": [
       "(5, 6, 7, 8, 'abc', 23.65, False)"
      ]
     },
     "execution_count": 4,
     "metadata": {},
     "output_type": "execute_result"
    }
   ],
   "source": [
    "tuple(l2)"
   ]
  },
  {
   "cell_type": "code",
   "execution_count": null,
   "id": "6de0aae8",
   "metadata": {},
   "outputs": [],
   "source": [
    "#16. Variables that contains list values are not necessarily lists themselves. Instead, what do they\n",
    "contain?\n",
    "Variables do not store list values directly; they store references to lists."
   ]
  },
  {
   "cell_type": "code",
   "execution_count": null,
   "id": "f85a1155",
   "metadata": {},
   "outputs": [],
   "source": [
    "#17. How do you distinguish between copy.copy() and copy.deepcopy()?\n",
    "copy.copy(), is used to make a duplicate copy of a mutable value like a list or dictionary.\n",
    "When the list contains lists, then use the copy.deepcopy() function instead of copy.copy(). The deepcopy() function will copy these inner lists as well."
   ]
  },
  {
   "cell_type": "code",
   "execution_count": null,
   "id": "2bdfd3c5",
   "metadata": {},
   "outputs": [],
   "source": []
  },
  {
   "cell_type": "code",
   "execution_count": null,
   "id": "828618d8",
   "metadata": {},
   "outputs": [],
   "source": []
  }
 ],
 "metadata": {
  "kernelspec": {
   "display_name": "Python 3 (ipykernel)",
   "language": "python",
   "name": "python3"
  },
  "language_info": {
   "codemirror_mode": {
    "name": "ipython",
    "version": 3
   },
   "file_extension": ".py",
   "mimetype": "text/x-python",
   "name": "python",
   "nbconvert_exporter": "python",
   "pygments_lexer": "ipython3",
   "version": "3.9.12"
  }
 },
 "nbformat": 4,
 "nbformat_minor": 5
}
