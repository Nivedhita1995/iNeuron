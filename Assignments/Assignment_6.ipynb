{
 "cells": [
  {
   "cell_type": "raw",
   "id": "38100dc5",
   "metadata": {},
   "source": [
    "1. What are escape characters, and how do you use them?\n",
    "2. What do the escape characters n and t stand for?\n",
    "3. What is the way to include backslash characters in a string?\n",
    "4. The string \"Howl's Moving Castle\" is a correct value. Why isn't the single quote character in the word Howl's not escaped a problem?\n",
    "5. How do you write a string of newlines if you don't want to use the n character?\n",
    "6. What are the values of the given expressions?\n",
    "'Hello, world!'[1]\n",
    "'Hello, world!'[0:5]\n",
    "'Hello, world!'[:5]\n",
    "'Hello, world!'[3:]\n",
    "\n",
    "7. What are the values of the following expressions?\n",
    "'Hello'.upper()\n",
    "'Hello'.upper().isupper()\n",
    "'Hello'.upper().lower()\n",
    "8. What are the values of the following expressions?\n",
    "'Remember, remember, the fifth of July.'.split()\n",
    "'-'.join('There can only one.'.split())\n",
    "9. What are the methods for right-justifying, left-justifying, and centering a string?\n",
    "10. What is the best way to remove whitespace characters from the start or end?\n",
    "\n"
   ]
  },
  {
   "cell_type": "code",
   "execution_count": null,
   "id": "08f2b66c",
   "metadata": {},
   "outputs": [],
   "source": [
    "#1. What are escape characters, and how do you use them?"
   ]
  },
  {
   "cell_type": "raw",
   "id": "d4cd1d3d",
   "metadata": {},
   "source": [
    "An escape character lets us use characters that are otherwise impossible to put into a string.\n",
    "Escape character consists of a backslash (\\) followed by the character to be added into the string.\n",
    "Example of escape characters:\n",
    "\\' is Single quote and \\\" is double quote helps to put Single quote and double quote into the string.\n",
    "\\t is tab used in expandtabs function.\n",
    "\\n is new line and \\\\ is backlash."
   ]
  },
  {
   "cell_type": "code",
   "execution_count": null,
   "id": "53cd2cab",
   "metadata": {},
   "outputs": [],
   "source": [
    "#2. What do the escape characters n and t stand for?"
   ]
  },
  {
   "cell_type": "code",
   "execution_count": 1,
   "id": "d0490644",
   "metadata": {},
   "outputs": [
    {
     "name": "stdout",
     "output_type": "stream",
     "text": [
      "Hello there!\n",
      "How is the weather today in Bangalore?\n",
      "I'm on my way.\n"
     ]
    }
   ],
   "source": [
    "s=\"Hello there!How is the weather today in Bangalore?I'm on my way.\"\n",
    "print(\"Hello there!\\nHow is the weather today in Bangalore?\\nI\\'m on my way.\")"
   ]
  },
  {
   "cell_type": "code",
   "execution_count": 2,
   "id": "eb9539ae",
   "metadata": {},
   "outputs": [
    {
     "name": "stdout",
     "output_type": "stream",
     "text": [
      "New\tzealand\n"
     ]
    }
   ],
   "source": [
    "a=\"New\\tzealand\"\n",
    "a.expandtabs()\n",
    "print(a)"
   ]
  },
  {
   "cell_type": "code",
   "execution_count": null,
   "id": "f7d6b44e",
   "metadata": {},
   "outputs": [],
   "source": [
    "#3. What is the way to include backslash characters in a string?"
   ]
  },
  {
   "cell_type": "raw",
   "id": "267e0f42",
   "metadata": {},
   "source": [
    "By using r before the beginning quotation mark of a string to make it a raw string. A raw string completely ignores all escape characters and prints any backslash that appears in the string."
   ]
  },
  {
   "cell_type": "code",
   "execution_count": 3,
   "id": "2b14f2d2",
   "metadata": {},
   "outputs": [
    {
     "name": "stdout",
     "output_type": "stream",
     "text": [
      "That is jack\\'s favourite moment.\n"
     ]
    }
   ],
   "source": [
    "print(r'That is jack\\'s favourite moment.')"
   ]
  },
  {
   "cell_type": "code",
   "execution_count": null,
   "id": "6b3cdbbd",
   "metadata": {},
   "outputs": [],
   "source": [
    "#4. The string \"Howl's Moving Castle\" is a correct value. Why isn't the single quote character in the word Howl's not escaped a problem?"
   ]
  },
  {
   "cell_type": "code",
   "execution_count": null,
   "id": "0412479f",
   "metadata": {},
   "outputs": [],
   "source": [
    "Because escaping single and double quotes is optional in multiline strings. "
   ]
  },
  {
   "cell_type": "code",
   "execution_count": null,
   "id": "2659ceb0",
   "metadata": {},
   "outputs": [],
   "source": [
    "#5. How do you write a string of newlines if you don't want to use the n character?"
   ]
  },
  {
   "cell_type": "code",
   "execution_count": null,
   "id": "45382a43",
   "metadata": {},
   "outputs": [],
   "source": [
    "By using 'triple quotes' it is possible ti write a multiline string without using n character."
   ]
  },
  {
   "cell_type": "code",
   "execution_count": null,
   "id": "82f5c3a5",
   "metadata": {},
   "outputs": [],
   "source": [
    "#6. What are the values of the given expressions?\n",
    "'Hello, world!'[1]\n",
    "'Hello, world!'[0:5]\n",
    "'Hello, world!'[:5]\n",
    "'Hello, world!'[3:]"
   ]
  },
  {
   "cell_type": "raw",
   "id": "1ccce402",
   "metadata": {},
   "source": [
    "'Hello, world!'[1] = 'e'"
   ]
  },
  {
   "cell_type": "raw",
   "id": "6818c8ac",
   "metadata": {},
   "source": [
    "'Hello, world!'[0:5] = 'Hello'"
   ]
  },
  {
   "cell_type": "raw",
   "id": "0e7eb545",
   "metadata": {},
   "source": [
    "'Hello, world!'[:5] = 'Hello'"
   ]
  },
  {
   "cell_type": "raw",
   "id": "2462afe7",
   "metadata": {},
   "source": [
    "'Hello, world!'[3:] = 'lo, world!'"
   ]
  },
  {
   "cell_type": "code",
   "execution_count": null,
   "id": "c6264be1",
   "metadata": {},
   "outputs": [],
   "source": [
    "#7. What are the values of the following expressions?\n",
    "'Hello'.upper()\n",
    "'Hello'.upper().isupper()\n",
    "'Hello'.upper().lower()"
   ]
  },
  {
   "cell_type": "raw",
   "id": "a669fa3c",
   "metadata": {},
   "source": [
    "'Hello'.upper() = 'HELLO'"
   ]
  },
  {
   "cell_type": "raw",
   "id": "c3bb88f2",
   "metadata": {},
   "source": [
    "'Hello'.upper().isupper() = True"
   ]
  },
  {
   "cell_type": "raw",
   "id": "56b1fd0d",
   "metadata": {},
   "source": [
    "'Hello'.upper().lower() = 'hello'"
   ]
  },
  {
   "cell_type": "code",
   "execution_count": null,
   "id": "dc8b18ee",
   "metadata": {},
   "outputs": [],
   "source": [
    "#8. What are the values of the following expressions?\n",
    "'Remember, remember, the fifth of July.'.split()\n",
    "'-'.join('There can only one.'.split())"
   ]
  },
  {
   "cell_type": "code",
   "execution_count": null,
   "id": "5ac6a306",
   "metadata": {},
   "outputs": [],
   "source": [
    "['Remember,', 'remember,', 'the', 'fifth', 'of', 'July.']"
   ]
  },
  {
   "cell_type": "code",
   "execution_count": null,
   "id": "3da592aa",
   "metadata": {},
   "outputs": [],
   "source": [
    "'There-can-only-one.'"
   ]
  },
  {
   "cell_type": "code",
   "execution_count": null,
   "id": "40e51d02",
   "metadata": {},
   "outputs": [],
   "source": [
    "#9. What are the methods for right-justifying, left-justifying, and centering a string?"
   ]
  },
  {
   "cell_type": "code",
   "execution_count": 23,
   "id": "af4838e0",
   "metadata": {},
   "outputs": [
    {
     "data": {
      "text/plain": [
       "'#####Right'"
      ]
     },
     "execution_count": 23,
     "metadata": {},
     "output_type": "execute_result"
    }
   ],
   "source": [
    "'Right'.rjust(10,'#')"
   ]
  },
  {
   "cell_type": "code",
   "execution_count": 24,
   "id": "82c266b5",
   "metadata": {},
   "outputs": [
    {
     "data": {
      "text/plain": [
       "'Left&&&&&&&&&&&&&&&&'"
      ]
     },
     "execution_count": 24,
     "metadata": {},
     "output_type": "execute_result"
    }
   ],
   "source": [
    "'Left'.ljust(20,'&')"
   ]
  },
  {
   "cell_type": "code",
   "execution_count": 25,
   "id": "d4ed99fb",
   "metadata": {},
   "outputs": [
    {
     "data": {
      "text/plain": [
       "'*****Center****'"
      ]
     },
     "execution_count": 25,
     "metadata": {},
     "output_type": "execute_result"
    }
   ],
   "source": [
    "'Center'.center(15,'*')"
   ]
  },
  {
   "cell_type": "code",
   "execution_count": null,
   "id": "3b9172af",
   "metadata": {},
   "outputs": [],
   "source": [
    "#10. What is the best way to remove whitespace characters from the start or end?"
   ]
  },
  {
   "cell_type": "code",
   "execution_count": null,
   "id": "06b6171d",
   "metadata": {},
   "outputs": [],
   "source": [
    "The best way to remove whitespace characters from the start or end is by using strip(), rstrip(), and lstrip() method"
   ]
  },
  {
   "cell_type": "code",
   "execution_count": 29,
   "id": "cf6d26cc",
   "metadata": {},
   "outputs": [
    {
     "data": {
      "text/plain": [
       "'     Right'"
      ]
     },
     "execution_count": 29,
     "metadata": {},
     "output_type": "execute_result"
    }
   ],
   "source": [
    "m='Right'\n",
    "m.rjust(10)"
   ]
  },
  {
   "cell_type": "code",
   "execution_count": 30,
   "id": "d344e3d2",
   "metadata": {},
   "outputs": [
    {
     "data": {
      "text/plain": [
       "'Right'"
      ]
     },
     "execution_count": 30,
     "metadata": {},
     "output_type": "execute_result"
    }
   ],
   "source": [
    "m.strip()"
   ]
  },
  {
   "cell_type": "code",
   "execution_count": 31,
   "id": "8137434d",
   "metadata": {},
   "outputs": [
    {
     "data": {
      "text/plain": [
       "'Left                '"
      ]
     },
     "execution_count": 31,
     "metadata": {},
     "output_type": "execute_result"
    }
   ],
   "source": [
    "n='Left'\n",
    "n.ljust(20)"
   ]
  },
  {
   "cell_type": "code",
   "execution_count": 32,
   "id": "2dc2ad66",
   "metadata": {},
   "outputs": [
    {
     "data": {
      "text/plain": [
       "'Left'"
      ]
     },
     "execution_count": 32,
     "metadata": {},
     "output_type": "execute_result"
    }
   ],
   "source": [
    "n.lstrip()"
   ]
  },
  {
   "cell_type": "code",
   "execution_count": 33,
   "id": "aa61a0a9",
   "metadata": {},
   "outputs": [
    {
     "data": {
      "text/plain": [
       "'     Center    '"
      ]
     },
     "execution_count": 33,
     "metadata": {},
     "output_type": "execute_result"
    }
   ],
   "source": [
    "o='Center'\n",
    "o.center(15)"
   ]
  },
  {
   "cell_type": "code",
   "execution_count": 34,
   "id": "a03d99dd",
   "metadata": {},
   "outputs": [
    {
     "data": {
      "text/plain": [
       "'Center'"
      ]
     },
     "execution_count": 34,
     "metadata": {},
     "output_type": "execute_result"
    }
   ],
   "source": [
    "o.strip()"
   ]
  }
 ],
 "metadata": {
  "kernelspec": {
   "display_name": "Python 3 (ipykernel)",
   "language": "python",
   "name": "python3"
  },
  "language_info": {
   "codemirror_mode": {
    "name": "ipython",
    "version": 3
   },
   "file_extension": ".py",
   "mimetype": "text/x-python",
   "name": "python",
   "nbconvert_exporter": "python",
   "pygments_lexer": "ipython3",
   "version": "3.9.12"
  }
 },
 "nbformat": 4,
 "nbformat_minor": 5
}
