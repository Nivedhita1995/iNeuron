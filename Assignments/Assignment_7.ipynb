{
 "cells": [
  {
   "cell_type": "raw",
   "id": "72b83b0b",
   "metadata": {},
   "source": [
    "1. What is the name of the feature responsible for generating Regex objects?\n",
    "2. Why do raw strings often appear in Regex objects?\n",
    "3. What is the return value of the search() method?\n",
    "4. From a Match item, how do you get the actual strings that match the pattern?\n",
    "5. In the regex which created from the r'(\\d\\d\\d)-(\\d\\d\\d-\\d\\d\\d\\d)', what does group zero cover? Group 2? Group 1?\n",
    "6. In standard expression syntax, parentheses and intervals have distinct meanings. How can you tell a regex that you want it to fit real parentheses and periods?\n",
    "7. The findall() method returns a string list or a list of string tuples. What causes it to return one of the two options?\n",
    "8. In standard expressions, what does the | character mean?\n",
    "9. In regular expressions, what does the character stand for?\n",
    "10.In regular expressions, what is the difference between the + and * characters?\n",
    "11. What is the difference between {4} and {4,5} in regular expression?\n",
    "12. What do you mean by the \\d, \\w, and \\s shorthand character classes signify in regular expressions?\n",
    "13. What do means by \\D, \\W, and \\S shorthand character classes signify in regular expressions?\n",
    "14. What is the difference between .*? and .*?\n",
    "15. What is the syntax for matching both numbers and lowercase letters with a character class?\n",
    "16. What is the procedure for making a normal expression in regax case insensitive?\n",
    "17. What does the . character normally match? What does it match if re.DOTALL is passed as 2nd argument in re.compile()?\n",
    "18. If numReg = re.compile(r'\\d+'), what will numRegex.sub('X', '11 drummers, 10 pipers, five rings, 4 hen') return?\n",
    "19. What does passing re.VERBOSE as the 2nd argument to re.compile() allow to do?\n",
    "20. How would you write a regex that match a number with comma for every three digits? It must match the given following:\n",
    "'42'\n",
    "'1,234'\n",
    "'6,368,745'\n",
    "but not the following:\n",
    "'12,34,567' (which has only two digits between the commas)\n",
    "'1234' (which lacks commas)\n",
    "21. How would you write a regex that matches the full name of someone whose last name is Watanabe? You can assume that the first name that comes before it will always be one word that begins with a capital letter. The regex must match the following:\n",
    "'Haruto Watanabe'\n",
    "'Alice Watanabe'\n",
    "'RoboCop Watanabe'\n",
    "but not the following:\n",
    "'haruto Watanabe' (where the first name is not capitalized)\n",
    "'Mr. Watanabe' (where the preceding word has a nonletter character)\n",
    "'Watanabe' (which has no first name)\n",
    "'Haruto watanabe' (where Watanabe is not capitalized)\n",
    "22. How would you write a regex that matches a sentence where the first word is either Alice, Bob, or Carol; the second word is either eats, pets, or throws; the third word is apples, cats, or baseballs; and the sentence ends with a period? This regex should be case-insensitive. It must match the following:\n",
    "'Alice eats apples.'\n",
    "'Bob pets cats.'\n",
    "'Carol throws baseballs.'\n",
    "'Alice throws Apples.'\n",
    "'BOB EATS CATS.'\n",
    "but not the following:\n",
    "'RoboCop eats apples.'\n",
    "'ALICE THROWS FOOTBALLS.'\n",
    "'Carol eats 7 cats.'\n",
    "\n"
   ]
  },
  {
   "cell_type": "raw",
   "id": "02532e3a",
   "metadata": {},
   "source": [
    "#1. What is the name of the feature responsible for generating Regex objects?"
   ]
  },
  {
   "cell_type": "raw",
   "id": "50ee8cbd",
   "metadata": {},
   "source": [
    "The re. compile() function returns Regex objects.\n",
    "Passing a string value representing your regular expression to re.compile() returns a Regex pattern object (or simply, a Regex object)."
   ]
  },
  {
   "cell_type": "raw",
   "id": "a0b01c83",
   "metadata": {},
   "source": [
    "#2. Why do raw strings often appear in Regex objects?"
   ]
  },
  {
   "cell_type": "raw",
   "id": "1af86532",
   "metadata": {},
   "source": [
    "Raw string notation (r\"text\") keeps regular expressions meaningful and confusion-free. Without it, every backslash ('\\') in a regular expression would have to be prefixed with another one to escape it. \n",
    "Raw strings are used so that backslashes do not have to be escaped."
   ]
  },
  {
   "cell_type": "raw",
   "id": "6ca973fb",
   "metadata": {},
   "source": [
    "#3. What is the return value of the search() method?"
   ]
  },
  {
   "cell_type": "raw",
   "id": "4842e3f4",
   "metadata": {},
   "source": [
    "A Regex object’s search() method searches the string it is passed for any matches to the regex. \n",
    "The search() method will return None if the regex pattern is not found in the string. If the pattern is found, the search() method returns a Match object, which have a group() method that will return the actual matched text from the searched string."
   ]
  },
  {
   "cell_type": "raw",
   "id": "7db3006b",
   "metadata": {},
   "source": [
    "import re\n",
    "phoneNumRegex = re.compile(r'\\d\\d\\d-\\d\\d\\d-\\d\\d\\d\\d')\n",
    "mo = phoneNumRegex.search('My number is 123-123-1234.')\n",
    "print('Phone number found: ' + mo.group())"
   ]
  },
  {
   "cell_type": "raw",
   "id": "75bd1755",
   "metadata": {},
   "source": [
    "#4. From a Match item, how do you get the actual strings that match the pattern?"
   ]
  },
  {
   "cell_type": "raw",
   "id": "adb1cbd6",
   "metadata": {},
   "source": [
    "The result of the search gets stored in the variable mo(Match objects).\n",
    "If the mo contains a Match object and not the null value None, call group() on mo to return the match.\n",
    "Writing mo.group() inside our print() function call displays the whole match."
   ]
  },
  {
   "cell_type": "raw",
   "id": "2ce60d21",
   "metadata": {},
   "source": [
    "#5. In the regex which created from the r'(\\d\\d\\d)-(\\d\\d\\d-\\d\\d\\d\\d)', what does group zero cover? Group 2? Group 1?"
   ]
  },
  {
   "cell_type": "raw",
   "id": "64e87a83",
   "metadata": {},
   "source": [
    "phoneNumRegex = re.compile(r'(\\d\\d\\d)-(\\d\\d\\d-\\d\\d\\d\\d)')\n",
    "mo = phoneNumRegex.search('My number is 123-123-1234.')"
   ]
  },
  {
   "cell_type": "raw",
   "id": "f6b9036f",
   "metadata": {},
   "source": [
    "mo.group(0)"
   ]
  },
  {
   "cell_type": "raw",
   "id": "2ac350d7",
   "metadata": {},
   "source": [
    "mo.group(1)"
   ]
  },
  {
   "cell_type": "raw",
   "id": "febd138c",
   "metadata": {},
   "source": [
    "mo.group(2)"
   ]
  },
  {
   "cell_type": "raw",
   "id": "fbdc87bd",
   "metadata": {},
   "source": [
    "#6. In standard expression syntax, parentheses and intervals have distinct meanings. How can you tell a regex that you want it to fit real parentheses and periods?"
   ]
  },
  {
   "cell_type": "raw",
   "id": "7d45c3aa",
   "metadata": {},
   "source": [
    "Periods and parentheses can be escaped with a backslash: \\., \\(, and \\)."
   ]
  },
  {
   "cell_type": "raw",
   "id": "fc999254",
   "metadata": {},
   "source": [
    "#7. The findall() method returns a string list or a list of string tuples. What causes it to return one of the two options?"
   ]
  },
  {
   "cell_type": "raw",
   "id": "cb3445c3",
   "metadata": {},
   "source": [
    "The findall() method will return a list of tuples,when there is groups in regex.\n",
    "Each tuple represents a found match, and its items are the matched strings for each group in the regex."
   ]
  },
  {
   "cell_type": "raw",
   "id": "a0ccec25",
   "metadata": {},
   "source": [
    "#8. In standard expressions, what does the | character mean?"
   ]
  },
  {
   "cell_type": "raw",
   "id": "a548133e",
   "metadata": {},
   "source": [
    "The | character is called a pipe. Used to match one of many expressions.\n",
    "Example: r'South|Africa'  In this regular expression pipe is used to match either 'South' or 'Africa'. \n",
    "If both 'South' and  'Africa'occurs, then the first occurance of the matching text will return as Match Object. "
   ]
  },
  {
   "cell_type": "raw",
   "id": "463f7b57",
   "metadata": {},
   "source": [
    "#9. In regular expressions, what does the character stand for?"
   ]
  },
  {
   "cell_type": "raw",
   "id": "50edeaae",
   "metadata": {},
   "source": [
    "All characters, except those having special meaning in regex, matches themselves. E.g., the regex x matches substring \"x\"\n",
    "In a regular expression each character in the string describing its pattern is either a metacharacter, having a special meaning, or a regular character that has a literal meaning. For example, in the regex b., 'b' is a literal character that matches just 'b', while '.' is a metacharacter that matches every character except a newline. Therefore, this regex matches, for example, 'b%', or 'bx', or 'b5'. Together, metacharacters and literal characters can be used to identify text of a given pattern or process a number of instances of it. "
   ]
  },
  {
   "cell_type": "raw",
   "id": "49d4595c",
   "metadata": {},
   "source": [
    "#10.In regular expressions, what is the difference between the + and * characters?"
   ]
  },
  {
   "cell_type": "raw",
   "id": "b09d65d6",
   "metadata": {},
   "source": [
    "The + and * character are quantifiers where star (*) means that the preceding expression can match zero or more times it is like {0,} while the plus (+) indicate that the preceding expression must match at least one time or multiple times and it is the same as {1,} \n",
    "+: one or more (1+), e.g., [0-9]+ matches one or more digits such as '123', '000'.\n",
    "*: zero or more (0+), e.g., [0-9]* matches zero or more digits. It accepts all those in [0-9]+ plus the empty string."
   ]
  },
  {
   "cell_type": "raw",
   "id": "a5567cd2",
   "metadata": {},
   "source": [
    "#11. What is the difference between {4} and {4,5} in regular expression?"
   ]
  },
  {
   "cell_type": "raw",
   "id": "76897be2",
   "metadata": {},
   "source": [
    "{4} this repeat the group a specific number of times,follow the group in your regex with a number in braces.. In this example it is 4 times.\n",
    "{4,5} this is to specify a range by writing a minimum, a comma, and a maximum in between the braces. In this example 4 is minimum and 5 is maximum."
   ]
  },
  {
   "cell_type": "raw",
   "id": "855ace74",
   "metadata": {},
   "source": [
    "#12. What do you mean by the \\d, \\w, and \\s shorthand character classes signify in regular expressions?"
   ]
  },
  {
   "cell_type": "raw",
   "id": "99593bf8",
   "metadata": {},
   "source": [
    "The shorthand character class \\d represents any numeric digit from 0 to 9, \\w any letter, numeric digit, or the underscore character and \\s any space, tab, or newline character."
   ]
  },
  {
   "cell_type": "raw",
   "id": "645f4836",
   "metadata": {},
   "source": [
    "#13. What do means by \\D, \\W, and \\S shorthand character classes signify in regular expressions?"
   ]
  },
  {
   "cell_type": "raw",
   "id": "4bf87a9e",
   "metadata": {},
   "source": [
    "The shorthand character class \\D represents any character that is not a numeric digit from 0 to 9, \\W any character that is not a letter, numeric digit, or the underscore character and \\S any character that is not a space, tab, or newline."
   ]
  },
  {
   "cell_type": "raw",
   "id": "9dd5d744",
   "metadata": {},
   "source": [
    "#14. What is the difference between .*? and .*?"
   ]
  },
  {
   "cell_type": "raw",
   "id": "7feebbad",
   "metadata": {},
   "source": [
    "# The dot character means “any single character except the newline,” and the star character means “zero or more of the preceding character.”\n",
    "# The dot-star uses greedy mode: It will always try to match as much text as possible. So, .*? is used to match any and all text in a non-greedy fashion. That is, the question mark tells Python to match in a non-greedy way."
   ]
  },
  {
   "cell_type": "raw",
   "id": "8890bfb8",
   "metadata": {},
   "source": [
    "#15. What is the syntax for matching both numbers and lowercase letters with a character class?"
   ]
  },
  {
   "cell_type": "raw",
   "id": "18841423",
   "metadata": {},
   "source": [
    "\\w is the syntax for matching both numbers and lowercase letters with a character class"
   ]
  },
  {
   "cell_type": "raw",
   "id": "8c33a931",
   "metadata": {},
   "source": [
    "#16. What is the procedure for making a normal expression in regax case insensitive?"
   ]
  },
  {
   "cell_type": "raw",
   "id": "e5a54e92",
   "metadata": {},
   "source": [
    "By passing  re.IGNORECASE or re.I as a second argument to re.compile().\n",
    "regex = re.compile(r'robocop', re.I)"
   ]
  },
  {
   "cell_type": "raw",
   "id": "cabf7ae2",
   "metadata": {},
   "source": [
    "#17. What does the . character normally match? What does it match if re.DOTALL is passed as 2nd argument in re.compile()?"
   ]
  },
  {
   "cell_type": "raw",
   "id": "34549abe",
   "metadata": {},
   "source": [
    "The . (or dot) character in a regular expression is called a wildcard and will match any character except for a newline and the dot character will match just one character.\n",
    "By passing re.DOTALL as the second argument to re.compile(), you can make the dot character match all characters, including the newline character."
   ]
  },
  {
   "cell_type": "raw",
   "id": "b8f24a86",
   "metadata": {},
   "source": [
    "#18. If numReg = re.compile(r'\\d+'), what will numRegex.sub('X', '11 drummers, 10 pipers, five rings, 4 hen') return?"
   ]
  },
  {
   "cell_type": "raw",
   "id": "0ce119b7",
   "metadata": {},
   "source": [
    "# 'X drummers, X pipers, five rings, X hen'"
   ]
  },
  {
   "cell_type": "raw",
   "id": "05dbc07e",
   "metadata": {},
   "source": [
    "#19. What does passing re.VERBOSE as the 2nd argument to re.compile() allow to do?"
   ]
  },
  {
   "cell_type": "raw",
   "id": "50e11e3f",
   "metadata": {},
   "source": [
    "Used to match complicated text patterns, where it can function to ignore whitespace and comments inside the regular expression string, spread the regular expression over multiple lines with comments."
   ]
  },
  {
   "cell_type": "raw",
   "id": "09247b83",
   "metadata": {},
   "source": [
    "#20. How would you write a regex that match a number with comma for every three digits? It must match the given following:\n",
    "'42'\n",
    "'1,234'\n",
    "'6,368,745'\n",
    "but not the following:\n",
    "'12,34,567' (which has only two digits between the commas)\n",
    "'1234' (which lacks commas)"
   ]
  },
  {
   "cell_type": "raw",
   "id": "21e430a9",
   "metadata": {},
   "source": [
    "NumRegex = re.compile(r'\\d\\d\\d,\\d\\d\\d,\\d\\d\\d')\n",
    "mo = NumRegex.search('421,234,368,745')\n",
    "print('Number found: ' + mo.group())"
   ]
  },
  {
   "cell_type": "raw",
   "id": "be078abd",
   "metadata": {},
   "source": [
    "#21. How would you write a regex that matches the full name of someone whose last name is Watanabe? You can assume that the first name that comes before it will always be one word that begins with a capital letter. The regex must match the following:\n",
    "'Haruto Watanabe'\n",
    "'Alice Watanabe'\n",
    "'RoboCop Watanabe'\n",
    "but not the following:\n",
    "'haruto Watanabe' (where the first name is not capitalized)\n",
    "'Mr. Watanabe' (where the preceding word has a nonletter character)\n",
    "'Watanabe' (which has no first name)\n",
    "'Haruto watanabe' (where Watanabe is not capitalized)"
   ]
  },
  {
   "cell_type": "raw",
   "id": "ca1178e6",
   "metadata": {},
   "source": [
    "import re\n",
    "nameRegex = re.compile(r'^[A-Z][a-z]+\\s[Watanabe]+$')\n",
    "mo = nameRegex.search('Alice Watanabe')\n",
    "mo.group(0)\n",
    "            "
   ]
  },
  {
   "cell_type": "raw",
   "id": "f842e3ba",
   "metadata": {},
   "source": [
    "#22. How would you write a regex that matches a sentence where the first word is either Alice, Bob, or Carol; the second word is either eats, pets, or throws; the third word is apples, cats, or baseballs; and the sentence ends with a period? This regex should be case-insensitive. It must match the following:\n",
    "'Alice eats apples.'\n",
    "'Bob pets cats.'\n",
    "'Carol throws baseballs.'\n",
    "'Alice throws Apples.'\n",
    "'BOB EATS CATS.'\n",
    "but not the following:\n",
    "'RoboCop eats apples.'\n",
    "'ALICE THROWS FOOTBALLS.'\n",
    "'Carol eats 7 cats.'"
   ]
  },
  {
   "cell_type": "raw",
   "id": "5df125ff",
   "metadata": {},
   "source": [
    "regex=re.compile(r'''(Alice|Bob|Carol)+\\s(eats|pets|throws)+\\s(apples|cats|baseballs)''',re.I)\n",
    "mo = regex.search('Alice eats apples')\n",
    "mo.group()"
   ]
  },
  {
   "cell_type": "raw",
   "id": "27541707",
   "metadata": {},
   "source": []
  },
  {
   "cell_type": "raw",
   "id": "b0875495",
   "metadata": {},
   "source": []
  }
 ],
 "metadata": {
  "kernelspec": {
   "display_name": "Python 3 (ipykernel)",
   "language": "python",
   "name": "python3"
  },
  "language_info": {
   "codemirror_mode": {
    "name": "ipython",
    "version": 3
   },
   "file_extension": ".py",
   "mimetype": "text/x-python",
   "name": "python",
   "nbconvert_exporter": "python",
   "pygments_lexer": "ipython3",
   "version": "3.9.12"
  }
 },
 "nbformat": 4,
 "nbformat_minor": 5
}
