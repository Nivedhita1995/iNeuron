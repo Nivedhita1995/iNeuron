{
 "cells": [
  {
   "cell_type": "raw",
   "id": "98f4f808",
   "metadata": {},
   "source": [
    "Question 1:\n",
    "Write a program that calculates and prints the value according to the given formula:\n",
    "Q = Square root of [(2 * C * D)/H]\n",
    "Following are the fixed values of C and H:\n",
    "C is 50. H is 30.\n",
    "D is the variable whose values should be input to your program in a comma-separated sequence.\n",
    "Example\n",
    "Let us assume the following comma separated input sequence is given to the program:\n",
    "100,150,180\n",
    "The output of the program should be:\n",
    "18,22,24"
   ]
  },
  {
   "cell_type": "raw",
   "id": "5d3fc1b5",
   "metadata": {},
   "source": [
    "from math import sqrt\n",
    "def calculate():\n",
    "    Value = eval(input(\"Enter number: \"))\n",
    "    output = []\n",
    "    C = 50 \n",
    "    H = 30 \n",
    "    for D in Value:\n",
    "        Q = str(int(sqrt((2*C*D)/H)))\n",
    "        output.append(Q)\n",
    "    print(\"Output: {}\".format(','.join(output)))\n",
    "    \n",
    "calculate()"
   ]
  },
  {
   "cell_type": "raw",
   "id": "feffe535",
   "metadata": {},
   "source": [
    "Question 2:\n",
    "Write a program which takes 2 digits, X,Y as input and generates a 2-dimensional array. The element value in the i-th row and j-th column of the array should be i*j.\n",
    "Note: i=0,1.., X-1; j=0,1,¡Y-1.\n",
    "Example\n",
    "Suppose the following inputs are given to the program:\n",
    "3,5\n",
    "Then, the output of the program should be:\n",
    "[[0, 0, 0, 0, 0], [0, 1, 2, 3, 4], [0, 2, 4, 6, 8]] "
   ]
  },
  {
   "cell_type": "raw",
   "id": "f5f49b15",
   "metadata": {},
   "source": [
    "import array as arr\n",
    "def generateArray():\n",
    "    x = int(input('Enter the No of Rows:'))\n",
    "    y = int(input('Enter the No of Columns:')) \n",
    "    out_array = []\n",
    "    for i in range(x):\n",
    "        out_array.insert(x,[])\n",
    "        for j in range(y):\n",
    "            out_array[i].append(i*j)\n",
    "    print(out_array)\n",
    "    \n",
    "generateArray()"
   ]
  },
  {
   "cell_type": "raw",
   "id": "7e5d7be1",
   "metadata": {},
   "source": [
    "Question 3:\n",
    "Write a program that accepts a comma separated sequence of words as input and prints the words in a comma-separated sequence after sorting them alphabetically.\n",
    "Suppose the following input is supplied to the program:\n",
    "without,hello,bag,world\n",
    "Then, the output should be:\n",
    "bag,hello,without,world"
   ]
  },
  {
   "cell_type": "raw",
   "id": "4fbd9c39",
   "metadata": {},
   "source": [
    "def sortString():\n",
    "    input_string = input(\"Enter the Input String: \")\n",
    "    out_string = ','.join(sorted(input_string.split(',')))\n",
    "    print(f'Output: {out_string}')\n",
    "    \n",
    "sortString()"
   ]
  },
  {
   "cell_type": "raw",
   "id": "6e54b60c",
   "metadata": {},
   "source": [
    "Question 4:\n",
    "Write a program that accepts a sequence of whitespace separated words as input and prints the words after removing all duplicate words and sorting them alphanumerically.\n",
    "Suppose the following input is supplied to the program:\n",
    "hello world and practice makes perfect and hello world again\n",
    "Then, the output should be:\n",
    "again and hello makes perfect practice world"
   ]
  },
  {
   "cell_type": "raw",
   "id": "d3f9d1ed",
   "metadata": {},
   "source": [
    "def sortAlphaNumerically():\n",
    "    input_string = input(\"Enter the Input String: \")\n",
    "    out_string = ' '.join(sorted(sorted(list(set(input_string.split(\" \"))))))\n",
    "    print(f'Output: {out_string}')\n",
    "    \n",
    "sortAlphaNumerically()"
   ]
  },
  {
   "cell_type": "raw",
   "id": "6ad6bcfd",
   "metadata": {},
   "source": [
    "Question 5:\n",
    "Write a program that accepts a sentence and calculate the number of letters and digits.\n",
    "Suppose the following input is supplied to the program:\n",
    "hello world! 123\n",
    "Then, the output should be:\n",
    "LETTERS 10\n",
    "DIGITS 3"
   ]
  },
  {
   "cell_type": "raw",
   "id": "f502257c",
   "metadata": {},
   "source": [
    "def calculate(input_sentence):\n",
    "    \n",
    "    letter_count = 0\n",
    "    digit_count = 0\n",
    "    \n",
    "    for char in input_sentence:\n",
    "        if char.isalpha():\n",
    "            letter_count += 1\n",
    "        elif char.isdigit():\n",
    "            digit_count += 1\n",
    "\n",
    "    return letter_count, digit_count\n",
    "\n",
    "input_sentence = input(\"Enter a sentence: \")\n",
    "letters, digits = calculate(input_sentence)\n",
    "     \n",
    "print(\"Letters:\",letters)\n",
    "print(\"Digits:\", digits)  \n",
    "     "
   ]
  },
  {
   "cell_type": "raw",
   "id": "d145bba3",
   "metadata": {},
   "source": [
    "Question 6:\n",
    "A website requires the users to input username and password to register. Write a program to check the validity of password input by users.\n",
    "Following are the criteria for checking the password:\n",
    "1. At least 1 letter between [a-z]\n",
    "2. At least 1 number between [0-9]\n",
    "1. At least 1 letter between [A-Z]\n",
    "3. At least 1 character from [$#@]\n",
    "4. Minimum length of transaction password: 6\n",
    "5. Maximum length of transaction password: 12\n",
    "Your program should accept a sequence of comma separated passwords and will check them according to the above criteria. Passwords that match the criteria are to be printed, each separated by a comma.\n",
    "Example\n",
    "If the following passwords are given as input to the program:\n",
    "ABd1234@1,a F1#,2w3E*,2We3345\n",
    "Then, the output of the program should be:\n",
    "ABd1234@1"
   ]
  },
  {
   "cell_type": "raw",
   "id": "94853512",
   "metadata": {},
   "source": [
    "def check_password_validity(password):\n",
    "    \n",
    "    if len(password) < 8:\n",
    "        return False\n",
    "\n",
    "    \n",
    "    #has_uppercase = False\n",
    "    #has_lowercase = False\n",
    "    #has_digit = False\n",
    "\n",
    "    for char in password:\n",
    "        if char.isupper():\n",
    "            has_uppercase = True\n",
    "        elif char.islower():\n",
    "            has_lowercase = True\n",
    "        elif char.isdigit():\n",
    "            has_digit = True\n",
    "        \n",
    "\n",
    "    \n",
    "    return has_uppercase and has_lowercase and has_digit\n",
    "\n",
    "\n",
    "\n",
    "input_password = input(\"Enter a password: \")\n",
    "is_valid = check_password_validity(input_password)\n",
    "\n",
    "if is_valid:\n",
    "    print(\"Password is valid.\")\n",
    "else:\n",
    "    print(\"Password is invalid.\")\n"
   ]
  },
  {
   "cell_type": "raw",
   "id": "088b8921",
   "metadata": {},
   "source": []
  }
 ],
 "metadata": {
  "kernelspec": {
   "display_name": "Python 3 (ipykernel)",
   "language": "python",
   "name": "python3"
  },
  "language_info": {
   "codemirror_mode": {
    "name": "ipython",
    "version": 3
   },
   "file_extension": ".py",
   "mimetype": "text/x-python",
   "name": "python",
   "nbconvert_exporter": "python",
   "pygments_lexer": "ipython3",
   "version": "3.9.12"
  }
 },
 "nbformat": 4,
 "nbformat_minor": 5
}
