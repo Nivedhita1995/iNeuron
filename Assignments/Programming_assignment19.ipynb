{
 "cells": [
  {
   "cell_type": "raw",
   "id": "40d8d0b3",
   "metadata": {},
   "source": [
    "Question1\n",
    "Create a function that takes a string and returns a string in which each character is repeated once.\n",
    "Examples\n",
    "double_char(\"String\") ➞ \"SSttrriinngg\"\n",
    "\n",
    "double_char(\"Hello World!\") ➞ \"HHeellllooWWoorrlldd!!\"\n",
    "\n",
    "double_char(\"1234!_ \") ➞ \"11223344!!__  \""
   ]
  },
  {
   "cell_type": "raw",
   "id": "cfb1cffd",
   "metadata": {},
   "source": [
    "def repeated_once(string):\n",
    "    result = ''\n",
    "    for i in string:\n",
    "        result =  result+ i*2\n",
    "    return result\n",
    "\n",
    "print(f'String ➞ {repeated_once(\"String\")}')\n",
    "print(f'Hello World! ➞ {repeated_once(\"Hello World!\")}')\n",
    "print(f'1234!_ ➞ {repeated_once(\"1234!_\")}')"
   ]
  },
  {
   "cell_type": "raw",
   "id": "02e4b859",
   "metadata": {},
   "source": [
    "Question2\n",
    "Create a function that reverses a boolean value and returns the string \"boolean expected\" if another variable type is given.\n",
    "Examples\n",
    "reverse(True) ➞ False\n",
    "\n",
    "reverse(False) ➞ True\n",
    "\n",
    "reverse(0) ➞ \"boolean expected\"\n",
    "\n",
    "reverse(None) ➞ \"boolean expected\"\n"
   ]
  },
  {
   "cell_type": "raw",
   "id": "47e8c65d",
   "metadata": {},
   "source": [
    "def reverse(value):\n",
    "    if type(value) == bool:\n",
    "        return not value\n",
    "    else:\n",
    "        return \"Enter a Boolean value \"\n",
    "\n",
    "print(f'reverse(True) ➞ {reverse(True)}')\n",
    "print(f'reverse(False) ➞ {reverse(False)}')\n",
    "print(f'reverse(0) ➞ {reverse(0)}')\n",
    "print(f'reverse(None) ➞ {reverse(None)}')"
   ]
  },
  {
   "cell_type": "raw",
   "id": "f4055ad3",
   "metadata": {},
   "source": [
    "Question3\n",
    "Create a function that returns the thickness (in meters) of a piece of paper after folding it n number of times. The paper starts off with a thickness of 0.5mm.\n",
    "Examples\n",
    "num_layers(1) ➞ \"0.001m\"\n",
    "# Paper folded once is 1mm (equal to 0.001m)\n",
    "\n",
    "num_layers(4) ➞ \"0.008m\"\n",
    "# Paper folded 4 times is 8mm (equal to 0.008m)\n",
    "\n",
    "num_layers(21) ➞ \"1048.576m\"\n",
    "# Paper folded 21 times is 1048576mm (equal to 1048.576m)"
   ]
  },
  {
   "cell_type": "raw",
   "id": "119335ee",
   "metadata": {},
   "source": [
    "def paper_thickness_after_folding(fold_count):\n",
    "    thickness_mm = 0.5\n",
    "    meters_per_mm = 0.001\n",
    "\n",
    "    thickness_meters = thickness_mm * meters_per_mm\n",
    "    for _ in range(fold_count):\n",
    "        thickness_meters *= 2\n",
    "\n",
    "    return thickness_meters\n",
    "\n",
    "\n",
    "print(f'num_layers(1) ➞ {paper_thickness_after_folding(1)}')\n",
    "print(f'num_layers(4) ➞ {paper_thickness_after_folding(4)}')\n",
    "print(f'num_layers(21) ➞ {paper_thickness_after_folding(21)}')\n"
   ]
  },
  {
   "cell_type": "raw",
   "id": "147d74e3",
   "metadata": {},
   "source": [
    "Question4\n",
    "Create a function that takes a single string as argument and returns an ordered list containing the indices of all capital letters in the string.\n",
    "Examples\n",
    "index_of_caps(\"eDaBiT\") ➞ [1, 3, 5]\n",
    "\n",
    "index_of_caps(\"eQuINoX\") ➞ [1, 3, 4, 6]\n",
    "\n",
    "index_of_caps(\"determine\") ➞ []\n",
    "\n",
    "index_of_caps(\"STRIKE\") ➞ [0, 1, 2, 3, 4, 5]\n",
    "\n",
    "index_of_caps(\"sUn\") ➞ [1]\n"
   ]
  },
  {
   "cell_type": "raw",
   "id": "7834ba7a",
   "metadata": {},
   "source": [
    "def index_of_caps(in_string):\n",
    "    l=[]\n",
    "    for i in in_string:\n",
    "        if i.isupper():\n",
    "            l.append(in_string.index(i))\n",
    "    print(f'{in_string} ➞ {l}')\n",
    "    \n",
    "index_of_caps(\"eDaBiT\")\n",
    "index_of_caps(\"eQuINoX\")\n",
    "index_of_caps(\"determine\")\n",
    "index_of_caps(\"STRIKE\")\n",
    "index_of_caps(\"sUn\")"
   ]
  },
  {
   "cell_type": "raw",
   "id": "be11f63a",
   "metadata": {},
   "source": [
    "Question5\n",
    "Using list comprehensions, create a function that finds all even numbers from 1 to the given number.\n",
    "Examples\n",
    "find_even_nums(8) ➞ [2, 4, 6, 8]\n",
    "\n",
    "find_even_nums(4) ➞ [2, 4]\n",
    "\n",
    "find_even_nums(2) ➞ [2]\n"
   ]
  },
  {
   "cell_type": "raw",
   "id": "39ffde26",
   "metadata": {},
   "source": [
    "def find_even_nums(n):\n",
    "    even_numbers = [i for i in range(1, n+1) if i % 2 == 0]\n",
    "    print(f'find_even_nums(8) ➞ {even_numbers}')\n",
    "\n",
    "\n",
    "find_even_nums(8)\n",
    "find_even_nums(4)\n",
    "find_even_nums(2)"
   ]
  },
  {
   "cell_type": "raw",
   "id": "0c86b18e",
   "metadata": {},
   "source": []
  }
 ],
 "metadata": {
  "kernelspec": {
   "display_name": "Python 3 (ipykernel)",
   "language": "python",
   "name": "python3"
  },
  "language_info": {
   "codemirror_mode": {
    "name": "ipython",
    "version": 3
   },
   "file_extension": ".py",
   "mimetype": "text/x-python",
   "name": "python",
   "nbconvert_exporter": "python",
   "pygments_lexer": "ipython3",
   "version": "3.9.12"
  }
 },
 "nbformat": 4,
 "nbformat_minor": 5
}
