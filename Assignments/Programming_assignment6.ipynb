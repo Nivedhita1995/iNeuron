{
 "cells": [
  {
   "cell_type": "raw",
   "id": "de10afc6",
   "metadata": {},
   "source": [
    "1. Write a Python Program to Display Fibonacci Sequence Using Recursion?\n",
    "2. Write a Python Program to Find Factorial of Number Using Recursion?\n",
    "3. Write a Python Program to calculate your Body Mass Index?\n",
    "4. Write a Python Program to calculate the natural logarithm of any number?\n",
    "5. Write a Python Program for cube sum of first n natural numbers?"
   ]
  },
  {
   "cell_type": "raw",
   "id": "b6e67c50",
   "metadata": {},
   "source": [
    "#1. Write a Python Program to Display Fibonacci Sequence Using Recursion?"
   ]
  },
  {
   "cell_type": "raw",
   "id": "10ff28cb",
   "metadata": {},
   "source": [
    "# Using a recursive function fibonacci to calculate each term in the sequence. \n",
    "# Function recursion, which means a defined function can call itself.\n",
    "\n",
    "def fibonacci(n):\n",
    "    if n <= 0:\n",
    "        return 0\n",
    "    elif n == 1:\n",
    "        return 1\n",
    "    else:\n",
    "        return fibonacci(n-1) + fibonacci(n-2)\n",
    "\n",
    "n = int(input(\"Enter the number of terms: \"))\n",
    "\n",
    "if n <= 0:\n",
    "    print(\"Enter a positive integer.\")\n",
    "else:\n",
    "    print(\"Fibonacci sequence:\")\n",
    "    for i in range(n):\n",
    "        print(fibonacci(i), end=\", \")\n"
   ]
  },
  {
   "cell_type": "raw",
   "id": "6da34213",
   "metadata": {},
   "source": [
    "#2. Write a Python Program to Find Factorial of Number Using Recursion?"
   ]
  },
  {
   "cell_type": "raw",
   "id": "bf28325b",
   "metadata": {},
   "source": [
    "def factorial(n):\n",
    "    if n == 0:\n",
    "        return 1\n",
    "    else:\n",
    "        return n * factorial(n-1)\n",
    "\n",
    "n = int(input(\"Enter a positive integer: \"))\n",
    "\n",
    "if n < 0:\n",
    "    print(\"Enter a positive integer.\")\n",
    "else:\n",
    "    print(\"The factorial of\", n, \"is\", factorial(n))\n"
   ]
  },
  {
   "cell_type": "raw",
   "id": "116f4ff1",
   "metadata": {},
   "source": [
    "#3. Write a Python Program to calculate your Body Mass Index?"
   ]
  },
  {
   "cell_type": "raw",
   "id": "eb86a0a2",
   "metadata": {},
   "source": [
    "# bmi = weight / (height * height)\n",
    "\n",
    "height = float(input(\"Enter your height in meters: \"))\n",
    "weight = float(input(\"Enter your weight in kilograms: \"))\n",
    "\n",
    "bmi = weight / (height * height)\n",
    "\n",
    "if bmi < 18.5:\n",
    "    print(\"Underweight\")\n",
    "elif bmi >= 18.5 and bmi < 25:\n",
    "    print(\"Normal\")\n",
    "elif bmi >= 25 and bmi < 30:\n",
    "    print(\"Overweight\")\n",
    "else:\n",
    "    print(\"Obese\")\n",
    "\n"
   ]
  },
  {
   "cell_type": "raw",
   "id": "b58e70c7",
   "metadata": {},
   "source": [
    "#4. Write a Python Program to calculate the natural logarithm of any number?"
   ]
  },
  {
   "cell_type": "raw",
   "id": "35840c8a",
   "metadata": {},
   "source": [
    "# Using the math.log function from the math library to calculate the natural logarithm of the number.\n",
    "\n",
    "import math\n",
    "\n",
    "number = float(input(\"Enter a positive number: \"))\n",
    "\n",
    "if number <= 0:\n",
    "    print(\"Enter a positive number.\")\n",
    "else:\n",
    "    result = math.log(number)\n",
    "    print(\"The natural logarithm of\", number, \"is\", result)\n"
   ]
  },
  {
   "cell_type": "raw",
   "id": "e83dc67d",
   "metadata": {},
   "source": [
    "#5. Write a Python Program for cube sum of first n natural numbers?"
   ]
  },
  {
   "cell_type": "raw",
   "id": "96c2d7d3",
   "metadata": {},
   "source": [
    "n = int(input(\"Enter the value of n: \"))\n",
    "\n",
    "sum = 0\n",
    "for i in range(1, n + 1):\n",
    "    sum += i**3\n",
    "\n",
    "print(\"The cube sum of first\", n, \"natural numbers is\", sum)\n"
   ]
  },
  {
   "cell_type": "raw",
   "id": "195ecc5d",
   "metadata": {},
   "source": []
  }
 ],
 "metadata": {
  "kernelspec": {
   "display_name": "Python 3 (ipykernel)",
   "language": "python",
   "name": "python3"
  },
  "language_info": {
   "codemirror_mode": {
    "name": "ipython",
    "version": 3
   },
   "file_extension": ".py",
   "mimetype": "text/x-python",
   "name": "python",
   "nbconvert_exporter": "python",
   "pygments_lexer": "ipython3",
   "version": "3.9.12"
  }
 },
 "nbformat": 4,
 "nbformat_minor": 5
}
