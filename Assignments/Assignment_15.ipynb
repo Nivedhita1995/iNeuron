{
 "cells": [
  {
   "cell_type": "raw",
   "id": "fc0e22b8",
   "metadata": {},
   "source": [
    "1.How many seconds are in an hour? Use the interactive interpreter as a calculator and multiply the\n",
    "number of seconds in a minute (60) by the number of minutes in an hour (also 60).\n",
    "sol. 60\n",
    "2. Assign the result from the previous task (seconds in an hour) to a variable called\n",
    "seconds_per_hour.\n",
    "3. How many seconds do you think there are in a day? Make use of the variables seconds per hour\n",
    "and minutes per hour.\n",
    "4. Calculate seconds per day again, but this time save the result in a variable called seconds_per_day\n",
    "5. Divide seconds_per_day by seconds_per_hour. Use floating-point (/) division.\n",
    "6. Divide seconds_per_day by seconds_per_hour, using integer (//) division. Did this number agree\n",
    "with the floating-point value from the previous question, aside from the final .0?\n",
    "7. Write a generator, genPrimes, that returns the sequence of prime numbers on successive calls to\n",
    "its next() method: 2, 3, 5, 7, 11, ..."
   ]
  },
  {
   "cell_type": "raw",
   "id": "80610d4e",
   "metadata": {},
   "source": [
    "#1. How many seconds are in an hour? Use the interactive interpreter as a calculator and multiply the\n",
    "number of seconds in a minute (60) by the number of minutes in an hour (also 60).\n",
    "a=60\n",
    "number_of_seconds = a\n",
    "b=60\n",
    "number_of_minutes = b\n",
    "print('number of seconds in an hour is',':',a*b)"
   ]
  },
  {
   "cell_type": "raw",
   "id": "183d4c31",
   "metadata": {},
   "source": [
    "#2. Assign the result from the previous task (seconds in an hour) to a variable called seconds_per_hour.\n",
    "a=60\n",
    "b=60\n",
    "seconds_per_hour = a*b\n",
    "print(seconds_per_hour)"
   ]
  },
  {
   "cell_type": "raw",
   "id": "ed398aeb",
   "metadata": {},
   "source": [
    "#3. How many seconds do you think there are in a day? Make use of the variables seconds per hour and minutes per hour.\n",
    "seconds_per_hour = 60*60\n",
    "minutes_per_hour = 24\n",
    "print(seconds_per_hour*minutes_per_hour)"
   ]
  },
  {
   "cell_type": "raw",
   "id": "a34ac987",
   "metadata": {},
   "source": [
    "#4. Calculate seconds per day again, but this time save the result in a variable called seconds_per_day\n",
    "seconds_per_hour = 60*60\n",
    "minutes_per_hour = 24\n",
    "seconds_per_day=seconds_per_hour*minutes_per_hour\n",
    "seconds_per_day"
   ]
  },
  {
   "cell_type": "raw",
   "id": "9b9933bc",
   "metadata": {},
   "source": [
    "#5. Divide seconds_per_day by seconds_per_hour. Use floating-point (/) division.\n",
    "seconds_per_day = 60*60*24\n",
    "seconds_per_hour = 60*60\n",
    "print(seconds_per_day/seconds_per_hour)"
   ]
  },
  {
   "cell_type": "raw",
   "id": "4a3092c1",
   "metadata": {},
   "source": [
    "#6. Divide seconds_per_day by seconds_per_hour, using integer (//) division. Did this number agree with the floating-point value from the previous question, aside from the final .0?\n",
    "seconds_per_day = 60*60*24\n",
    "seconds_per_hour = 60*60\n",
    "a=seconds_per_day//seconds_per_hour\n",
    "print('The number obtained is','=', a , 'and the value from previous question is 24.0',end=\"\\n\")\n",
    "print(\"The number agrees with the floating-point value from the previous question, aside from the final .0\")"
   ]
  },
  {
   "cell_type": "raw",
   "id": "5f79aab8",
   "metadata": {},
   "source": [
    "#7. Write a generator, genPrimes, that returns the sequence of prime numbers on successive calls to its next() method: 2, 3, 5, 7, 11, ...\n",
    "def genPrimes():\n",
    "    n = 0\n",
    "    while True:\n",
    "        if n == 2 or n == 3 :\n",
    "            yield n\n",
    "        elif ((n-1)%6 == 0 or (n+1)%6 == 0) and n !=1:\n",
    "            yield n\n",
    "        n = n+1\n",
    "output = genPrimes()\n",
    "for ele in range(12):\n",
    "    print(next(output))\n",
    "    "
   ]
  },
  {
   "cell_type": "raw",
   "id": "7914cab2",
   "metadata": {},
   "source": []
  },
  {
   "cell_type": "raw",
   "id": "ee476e63",
   "metadata": {},
   "source": []
  }
 ],
 "metadata": {
  "kernelspec": {
   "display_name": "Python 3 (ipykernel)",
   "language": "python",
   "name": "python3"
  },
  "language_info": {
   "codemirror_mode": {
    "name": "ipython",
    "version": 3
   },
   "file_extension": ".py",
   "mimetype": "text/x-python",
   "name": "python",
   "nbconvert_exporter": "python",
   "pygments_lexer": "ipython3",
   "version": "3.9.12"
  }
 },
 "nbformat": 4,
 "nbformat_minor": 5
}
