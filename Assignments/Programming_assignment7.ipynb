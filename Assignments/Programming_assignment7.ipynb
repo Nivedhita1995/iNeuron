{
 "cells": [
  {
   "cell_type": "raw",
   "id": "ef5b1dfb",
   "metadata": {},
   "source": [
    "1. Write a Python Program to find sum of array?\n",
    "2. Write a Python Program to find largest element in an array?\n",
    "3. Write a Python Program for array rotation?\n",
    "4. Write a Python Program to Split the array and add the first part to the end?\n",
    "5. Write a Python Program to check if given array is Monotonic?"
   ]
  },
  {
   "cell_type": "raw",
   "id": "1440c372",
   "metadata": {},
   "source": [
    "#1. Write a Python Program to find sum of array?"
   ]
  },
  {
   "cell_type": "raw",
   "id": "b89bd967",
   "metadata": {},
   "source": [
    "def sum_array(array):\n",
    "    return sum(array)\n",
    "\n",
    "array = [10, 20, 30, 40, 50]\n",
    "result = sum_array(array)\n",
    "\n",
    "print(\"The sum of elements in the array is\", result)\n"
   ]
  },
  {
   "cell_type": "raw",
   "id": "6f1a1e1b",
   "metadata": {},
   "source": [
    "#2. Write a Python Program to find largest element in an array?"
   ]
  },
  {
   "cell_type": "raw",
   "id": "37164ab7",
   "metadata": {},
   "source": [
    "def largest_element(array):\n",
    "    return max(array)\n",
    "\n",
    "array = [10, 20, 30, 40, 50]\n",
    "result = largest_element(array)\n",
    "\n",
    "print(\"The largest element in the array is\", result)\n"
   ]
  },
  {
   "cell_type": "raw",
   "id": "6b67ccfe",
   "metadata": {},
   "source": [
    "#3. Write a Python Program for array rotation?"
   ]
  },
  {
   "cell_type": "raw",
   "id": "b4758751",
   "metadata": {},
   "source": [
    "# n is size of given array\n",
    "# List slicing approch to rotate the array elements to the left by d positions\n",
    "# arr[:] returns arr (alist[:] returns a copy of a list)\n",
    "\n",
    "def rotateArray(a,d):\n",
    "    n=len(a)\n",
    "    a[:]=a[d:n]+a[0:d]\n",
    "    return a\n",
    "\n",
    "arr = [1, 2, 3, 4, 5, 6]\n",
    "\n",
    "print(\"Rotated list is\")\n",
    "print(rotateArray(arr,2)) "
   ]
  },
  {
   "cell_type": "raw",
   "id": "2ad3a5f1",
   "metadata": {},
   "source": [
    "#4. Write a Python Program to Split the array and add the first part to the end?"
   ]
  },
  {
   "cell_type": "raw",
   "id": "6555d64d",
   "metadata": {},
   "source": [
    "arr = [1, 2, 3, 4, 5, 6]\n",
    "n = len(arr)\n",
    "d = 2\n",
    "x = arr[:2]\n",
    "y = arr[d:]\n",
    "y.extend(x)\n",
    "for i in y:\n",
    "    print(i, end=\" \")"
   ]
  },
  {
   "cell_type": "raw",
   "id": "f97f3b47",
   "metadata": {},
   "source": [
    "#5. Write a Python Program to check if given array is Monotonic?"
   ]
  },
  {
   "cell_type": "raw",
   "id": "705bc05c",
   "metadata": {},
   "source": [
    "# An array is said to be monotonic in nature if it is either continuously increasing or continuously decreasing. Mathematically, An array A is continuously increasing if for all i <= j, A[i] <= A[j]\n",
    "# An array A is monotone increasing if for all i <= j, A[i] <= A[j]. An array A is monotone decreasing if for all i <= j, A[i] >= A[j].\n",
    "\n",
    "def is_monotonic(array):\n",
    "    increasing = True\n",
    "    decreasing = True\n",
    "    for i in range(len(array) - 1):\n",
    "        if array[i] > array[i + 1]:\n",
    "            increasing = False\n",
    "        if array[i] < array[i + 1]:\n",
    "            decreasing = False\n",
    "    return increasing or decreasing\n",
    "\n",
    "array = [1, 2, 2, 4]\n",
    "result = is_monotonic(array)\n",
    "\n",
    "if result:\n",
    "    print(\"The array is monotonic\")\n",
    "else:\n",
    "    print(\"The array is not monotonic\")\n",
    "\n"
   ]
  },
  {
   "cell_type": "raw",
   "id": "467604ab",
   "metadata": {},
   "source": []
  }
 ],
 "metadata": {
  "kernelspec": {
   "display_name": "Python 3 (ipykernel)",
   "language": "python",
   "name": "python3"
  },
  "language_info": {
   "codemirror_mode": {
    "name": "ipython",
    "version": 3
   },
   "file_extension": ".py",
   "mimetype": "text/x-python",
   "name": "python",
   "nbconvert_exporter": "python",
   "pygments_lexer": "ipython3",
   "version": "3.9.12"
  }
 },
 "nbformat": 4,
 "nbformat_minor": 5
}
