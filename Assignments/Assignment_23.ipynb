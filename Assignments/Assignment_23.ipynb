{
 "cells": [
  {
   "cell_type": "raw",
   "id": "721b845f",
   "metadata": {},
   "source": [
    "1. What is the result of the code, and why?\n",
    ">>> def func(a, b=6, c=8):\n",
    "print(a, b, c)\n",
    ">>> func(1, 2)\n",
    "2. What is the result of this code, and why?\n",
    ">>> def func(a, b, c=5):\n",
    "print(a, b, c)\n",
    ">>> func(1, c=3, b=2)\n",
    "3. How about this code: what is its result, and why?\n",
    ">>> def func(a, *pargs):\n",
    "print(a, pargs)\n",
    ">>> func(1, 2, 3)\n",
    "4. What does this code print, and why?\n",
    ">>> def func(a, **kargs):\n",
    "print(a, kargs)\n",
    ">>> func(a=1, c=3, b=2)\n",
    "5. What gets printed by this, and explain?\n",
    ">>> def func(a, b, c=8, d=5): print(a, b, c, d)\n",
    ">>> func(1, *(5, 6))\n",
    "6. what is the result of this, and explain?\n",
    ">>> def func(a, b, c): a = 2; b[0] = 'x'; c['a'] = 'y'\n",
    ">>> l=1; m=[1]; n={'a':0}\n",
    ">>> func(l, m, n)\n",
    ">>> l, m, n\n",
    "\n"
   ]
  },
  {
   "cell_type": "raw",
   "id": "4c72d488",
   "metadata": {},
   "source": [
    "#1. What is the result of the code, and why?\n",
    ">>> def func(a, b=6, c=8):\n",
    "    print(a, b, c)\n",
    ">>> func(1,2)           # function call"
   ]
  },
  {
   "cell_type": "raw",
   "id": "08919d89",
   "metadata": {},
   "source": [
    "#Output = 1 2 8 \n",
    "# func is an argument given to the function .The expression func() means call the function assigned to the variable func .\n",
    "# The function uses the default value of c ie 8 which is provided at the time of declaration"
   ]
  },
  {
   "cell_type": "raw",
   "id": "65cb6d48",
   "metadata": {},
   "source": [
    "#2. What is the result of this code, and why?\n",
    ">>> def func(a, b, c=5):\n",
    "    print(a, b, c)\n",
    ">>> func(1, c=3, b=2)"
   ]
  },
  {
   "cell_type": "raw",
   "id": "9f2ed4ad",
   "metadata": {},
   "source": [
    "#Output = 1 2 3\n",
    "# func(1, c=3, b=2) -> the function call has values and also the order of arguments assigned to it.\n",
    "# The function will use default values only when a value for a argument is not provided and if argument name is mentioned while doing a function call, the order of arguments is also ignored by the python interpreter"
   ]
  },
  {
   "cell_type": "raw",
   "id": "cf626b21",
   "metadata": {},
   "source": [
    "#3. How about this code: what is its result, and why?\n",
    ">>> def func(a, *pargs):\n",
    "    print(a, pargs)\n",
    ">>> func(1, 2, 3)"
   ]
  },
  {
   "cell_type": "raw",
   "id": "180e308e",
   "metadata": {},
   "source": [
    "# Output =  1 (2, 3)\n",
    "#  The pargs command enables us to display all the arguments that are passed to a process.\n",
    "#  (*pargs) stands for variable length arguments. this format is used when we are not sure about the no of arguments to be passed to a function. \n",
    "#  (2, 3) -> All the values under this argument will be stored in a tuple."
   ]
  },
  {
   "cell_type": "raw",
   "id": "d8ece241",
   "metadata": {},
   "source": [
    "#4. What does this code print, and why?\n",
    ">>> def func(a, **kargs):\n",
    "    print(a, kargs)\n",
    ">>> func(a=1, c=3, b=2)"
   ]
  },
  {
   "cell_type": "raw",
   "id": "b3351c0d",
   "metadata": {},
   "source": [
    "# Output = 1 {'c': 3, 'b': 2}\n",
    "# syntax **kwargs in function definitions in python is used to pass a keyworded, variable-length argument list.\n",
    "# This format is used to pass key value pairs as input to a function. All these key value pairs will be stored in a dictionary"
   ]
  },
  {
   "cell_type": "raw",
   "id": "db573f8b",
   "metadata": {},
   "source": [
    "#5. What gets printed by this, and explain?\n",
    ">>> def func(a, b, c=8, d=5): print(a, b, c, d)\n",
    ">>> func(1, *(5, 6))"
   ]
  },
  {
   "cell_type": "raw",
   "id": "a05f84f2",
   "metadata": {},
   "source": [
    "# Output = 1 5 6 5\n",
    "# The function requires 4 arguments.\n",
    "# func(1, *(5, 6)) -> function call has 3 arguments and the value of a is given as 1 \n",
    "# *(5, 6) -> for b and c the values assigned are 5 and 6 respectively. \n",
    "# since the default value of d is provided in function declaration d value will be 5. "
   ]
  },
  {
   "cell_type": "raw",
   "id": "c2e6cda0",
   "metadata": {},
   "source": [
    "#6. what is the result of this, and explain?\n",
    ">>> def func(a, b, c): a = 2; b[0] = 'x'; c['a'] = 'y'\n",
    ">>> l=1; m=[1]; n={'a':0}\n",
    ">>> func(l, m, n)\n",
    ">>> l, m, n"
   ]
  },
  {
   "cell_type": "raw",
   "id": "329c452a",
   "metadata": {},
   "source": [
    "# Result = (1, ['x'], {'a': 'y'})\n",
    "# When l,m,n are provided as inputs to the function. its modifies the values of l,m,n and sets the value of l=2 ,m=['x'] and n={'a':'y'}"
   ]
  },
  {
   "cell_type": "raw",
   "id": "175e0501",
   "metadata": {},
   "source": []
  }
 ],
 "metadata": {
  "kernelspec": {
   "display_name": "Python 3 (ipykernel)",
   "language": "python",
   "name": "python3"
  },
  "language_info": {
   "codemirror_mode": {
    "name": "ipython",
    "version": 3
   },
   "file_extension": ".py",
   "mimetype": "text/x-python",
   "name": "python",
   "nbconvert_exporter": "python",
   "pygments_lexer": "ipython3",
   "version": "3.9.12"
  }
 },
 "nbformat": 4,
 "nbformat_minor": 5
}
