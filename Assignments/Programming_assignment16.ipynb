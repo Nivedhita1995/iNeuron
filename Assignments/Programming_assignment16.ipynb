{
 "cells": [
  {
   "cell_type": "raw",
   "id": "7fb04694",
   "metadata": {},
   "source": [
    "Question1. Write a function that stutters a word as if someone is struggling to read it. The first two letters are repeated twice with an ellipsis ... and space after each, and then the word is pronounced with a question mark ?.\n",
    "Examples\n",
    "stutter(\"incredible\") ➞ \"in... in... incredible?\"\n",
    "\n",
    "stutter(\"enthusiastic\") ➞ \"en... en... enthusiastic?\"\n",
    "\n",
    "stutter(\"outstanding\") ➞ \"ou... ou... outstanding?\"\n",
    "\n",
    "Hint :-Assume all input is in lower case and at least two characters long."
   ]
  },
  {
   "cell_type": "raw",
   "id": "2ba8bae9",
   "metadata": {},
   "source": [
    "def stutterWord():\n",
    "    string = input('Enter the Word :')\n",
    "    output = string.replace(string[0:2],((string[0:2]+'... ')*2)+ string[0:2])  +'?'\n",
    "    print(f'{string} ➞ {output}')\n",
    "\n",
    "for i in range(3):\n",
    "    stutterWord()\n",
    "    "
   ]
  },
  {
   "cell_type": "raw",
   "id": "a6617870",
   "metadata": {},
   "source": [
    "Question 2.Create a function that takes an angle in radians and returns the corresponding angle in degrees rounded to one decimal place.\n",
    "Examples\n",
    "radians_to_degrees(1) ➞ 57.3\n",
    "\n",
    "radians_to_degrees(20) ➞ 1145.9\n",
    "\n",
    "radians_to_degrees(50) ➞ 2864.8"
   ]
  },
  {
   "cell_type": "raw",
   "id": "b382fef6",
   "metadata": {},
   "source": [
    "import math\n",
    "def radian_to_degree():\n",
    "    in_num = int(input('Enter the angle in Radians: '))\n",
    "    out_num = (180/math.pi)*in_num\n",
    "    print(f'{in_num} radian(s) ➞ {out_num:.1f} degrees')\n",
    "\n",
    "for x in range(3):\n",
    "    radian_to_degree()"
   ]
  },
  {
   "cell_type": "raw",
   "id": "d1b9eb6a",
   "metadata": {},
   "source": [
    "Question 3. In this challenge, establish if a given integer num is a Curzon number. If 1 plus 2 elevated to num is exactly divisible by 1 plus 2 multiplied by num, then num is a Curzon number.\n",
    "Given a non-negative integer num, implement a function that returns True if num is a Curzon number, or False otherwise.\n",
    "Examples\n",
    "is_curzon(5) ➞ True\n",
    "# 2 ** 5 + 1 = 33\n",
    "# 2 * 5 + 1 = 11\n",
    "# 33 is a multiple of 11\n",
    "\n",
    "is_curzon(10) ➞ False\n",
    "# 2 ** 10 + 1 = 1025\n",
    "# 2 * 10 + 1 = 21\n",
    "# 1025 is not a multiple of 21\n",
    "\n",
    "is_curzon(14) ➞ True\n",
    "# 2 ** 14 + 1 = 16385\n",
    "# 2 * 14 + 1 = 29\n",
    "# 16385 is a multiple of 29"
   ]
  },
  {
   "cell_type": "raw",
   "id": "d840f7ad",
   "metadata": {},
   "source": [
    "def checkCurzon():\n",
    "    input_num = int(input(\"Enter a number: \"))\n",
    "    if (pow(2,input_num)+1)%((2*input_num)+1) == 0:\n",
    "        print(f'{input_num} is a Curzon Number')\n",
    "    else:\n",
    "        print(f'{input_num} is Not a Curzon Number')\n",
    "\n",
    "for x in range(3):\n",
    "    checkCurzon()"
   ]
  },
  {
   "cell_type": "raw",
   "id": "5dab035f",
   "metadata": {},
   "source": [
    "Question 4.Given the side length x find the area of a hexagon.\n",
    " \n",
    "Examples\n",
    "area_of_hexagon(1) ➞ 2.6\n",
    "\n",
    "area_of_hexagon(2) ➞ 10.4\n",
    "\n",
    "area_of_hexagon(3) ➞ 23.4"
   ]
  },
  {
   "cell_type": "raw",
   "id": "02d54d70",
   "metadata": {},
   "source": [
    "import math\n",
    "def areaOfHexagon():\n",
    "    input_num = int(input('Enter the side length of a Hexagon: '))\n",
    "    output = ((3*math.sqrt(3))/2)*(pow(input_num,2))\n",
    "    print(f'Area for Hexagon of sidelength {input_num} ➞ {output:.1f}')\n",
    "    \n",
    "for x in range(3):\n",
    "    areaOfHexagon()"
   ]
  },
  {
   "cell_type": "raw",
   "id": "0b9d5f76",
   "metadata": {},
   "source": [
    "Question 5.Create a function that returns a base-2 (binary) representation of a base-10 (decimal) string number. To convert is simple: ((2) means base-2 and (10) means base-10) 010101001(2) = 1 + 8 + 32 + 128.\n",
    "Going from right to left, the value of the most right bit is 1, now from that every bit to the left will be x2 the value, value of an 8 bit binary numbers are (256, 128, 64, 32, 16, 8, 4, 2, 1).\n",
    "Examples\n",
    "binary(1) ➞ \"1\"\n",
    "# 1*1 = 1\n",
    "\n",
    "binary(5) ➞ \"101\"\n",
    "# 1*1 + 1*4 = 5\n",
    "\n",
    "binary(10) ➞ \"1010\"\n",
    "# 1*2 + 1*8 = 10\n"
   ]
  },
  {
   "cell_type": "raw",
   "id": "443772c0",
   "metadata": {},
   "source": [
    "def getBinary():\n",
    "    input_num = int(input(\"Enter a Number: \"))\n",
    "    output = bin(input_num).replace('0b','') \n",
    "    print(f'Binary of {input_num} ➞ {output}')\n",
    "\n",
    "for x in range(3):\n",
    "    getBinary()"
   ]
  },
  {
   "cell_type": "raw",
   "id": "29847589",
   "metadata": {},
   "source": []
  }
 ],
 "metadata": {
  "kernelspec": {
   "display_name": "Python 3 (ipykernel)",
   "language": "python",
   "name": "python3"
  },
  "language_info": {
   "codemirror_mode": {
    "name": "ipython",
    "version": 3
   },
   "file_extension": ".py",
   "mimetype": "text/x-python",
   "name": "python",
   "nbconvert_exporter": "python",
   "pygments_lexer": "ipython3",
   "version": "3.9.12"
  }
 },
 "nbformat": 4,
 "nbformat_minor": 5
}
