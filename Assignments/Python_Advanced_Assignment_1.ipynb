{
 "cells": [
  {
   "cell_type": "raw",
   "id": "40be770d",
   "metadata": {},
   "source": [
    "Q1. What is the purpose of Python's OOP?\n",
    "\n",
    "Q2. Where does an inheritance search look for an attribute?\n",
    "\n",
    "Q3. How do you distinguish between a class object and an instance object?\n",
    "\n",
    "Q4. What makes the first argument in a class’s method function special?\n",
    "\n",
    "Q5. What is the purpose of the __init__ method?\n",
    "\n",
    "Q6. What is the process for creating a class instance?\n",
    "\n",
    "Q7. What is the process for creating a class?\n",
    "\n",
    "Q8. How would you define the superclasses of a class?"
   ]
  },
  {
   "cell_type": "raw",
   "id": "ce0f7363",
   "metadata": {},
   "source": [
    "#Q1. What is the purpose of Python's OOP?\n",
    "-> Object-Oriented Programming (OOPs) is a programming paradigm that uses objects and classes in programming. It aims to implement real-world entities like inheritance, polymorphisms, encapsulation, etc. in the programming. The main concept of OOPs is to bind the data and the functions that work on that together as a single unit so that no other part of the code can access this data.\n",
    "-> OOPs is based on the concept of \"objects\". The object contains both data and code: Data in the form of properties (often known as attributes), and code, in the form of methods (actions object can perform).\n",
    "-> An object-oriented paradigm is to design the program using classes and objects. Python programming language supports different programming approaches like functional programming, modular programming.\n",
    "-> One of the popular approaches is object-oriented programming (OOP) to solve a programming problem is by creating objects."
   ]
  },
  {
   "cell_type": "raw",
   "id": "217d0844",
   "metadata": {},
   "source": [
    "#Q2. Where does an inheritance search look for an attribute?\n",
    "-> An inheritance search looks for an attribute first in the instance object, then in the class the instance was created from, then in all higher superclasses, progressing from left to right (by default). \n",
    "-> The search stops at the first place the attribute is found."
   ]
  },
  {
   "cell_type": "raw",
   "id": "de27563f",
   "metadata": {},
   "source": [
    "#Q3. How do you distinguish between a class object and an instance object?\n",
    "->Classes are a kind of factory for creating multiple instances. Classes also support operator overloading methods, which instances inherit, and treat any functions nested in the class as methods for processing instances."
   ]
  },
  {
   "cell_type": "raw",
   "id": "f7a6783a",
   "metadata": {},
   "source": [
    "#Q4. What makes the first argument in a class’s method function special?\n",
    "-> It always receives the instance object that is the implied subject of the method call. It’s usually called ‘self’ by convention."
   ]
  },
  {
   "cell_type": "raw",
   "id": "2e5af2cf",
   "metadata": {},
   "source": [
    "#Q5. What is the purpose of the __init__ method?\n",
    "-> \"__init__\" is a reseved method in python classes. It is called as a constructor in object oriented terminology. init is short for initialization.\n",
    "-> This method is called when an object is created from a class and it allows the class to initialize the attributes of the class.\n",
    "-> It is a constructor which gets called when you make an instance of the class and it is not necessary. But usually it is a practice to write init method for setting default state of the object.\n",
    "-> "
   ]
  },
  {
   "cell_type": "raw",
   "id": "4306458f",
   "metadata": {},
   "source": [
    "#Q6. What is the process for creating a class instance?\n",
    "#-> To create instances of a class, you call the class using class name and pass in whatever arguments its __init__ method accepts.\n",
    "#-> The class statement creates a new class definition. The name of the class immediately follows the keyword class followed by a colon:\n",
    "class Employee:\n",
    "    #'Common base class for all employees'\n",
    "    empCount = 0\n",
    "    def __init__(self, name, salary):\n",
    "        self.name = name\n",
    "        self.salary = salary\n",
    "        Employee.empCount += 1\n",
    "    def displayCount(self):\n",
    "        print (\"Total Employee %d\" % Employee.empCount)\n",
    "\n",
    "    def displayEmployee(self):\n",
    "        print (\"Name : \", self.name,  \", Salary: \", self.salary)\n",
    "        \n",
    "#-> To create instances of a class, call the class using class name and pass in whatever arguments its __init__ method accepts.\n",
    "\"This would create first object of Employee class\"\n",
    "emp1 = Employee(\"abc\", 1999)\n",
    "\"This would create second object of Employee class\"\n",
    "emp2 = Employee(\"xyz\", 2000)\n",
    "\n",
    "#->  Class variable would be accessed using class name\n",
    "emp1.displayEmployee()\n",
    "emp2.displayEmployee()\n"
   ]
  },
  {
   "cell_type": "raw",
   "id": "9bb7b073",
   "metadata": {},
   "source": [
    "#Q7. What is the process for creating a class?\n",
    "#-> The class statement creates a new class definition. The name of the class immediately follows the keyword class followed by a colon.\n",
    "#-> class ClassName:\n",
    "#   example: Consider class Employee: from Q6 -> The variable empCount is a class variable whose value is shared among all instances of a this class. This can be accessed as Employee.empCount from inside the class or outside the class.\n",
    "    #  The first method __init__() is a special method, which is called class constructor or initialization method that Python calls when you create a new instance of this class. \n",
    "    #  Declare other class methods like normal functions with the exception that the first argument to each method is self. Python adds the self argument to the list.\n",
    "    "
   ]
  },
  {
   "cell_type": "raw",
   "id": "6d91af99",
   "metadata": {},
   "source": [
    "#Q8. How would you define the superclasses of a class?\n",
    "# They are classes which are used to inherit from.\n",
    "# example -> class Son(Father, Mother): …\n",
    "# In this case Father and Mother are superclasses for Son subclass."
   ]
  },
  {
   "cell_type": "raw",
   "id": "39462de2",
   "metadata": {},
   "source": []
  }
 ],
 "metadata": {
  "kernelspec": {
   "display_name": "Python 3 (ipykernel)",
   "language": "python",
   "name": "python3"
  },
  "language_info": {
   "codemirror_mode": {
    "name": "ipython",
    "version": 3
   },
   "file_extension": ".py",
   "mimetype": "text/x-python",
   "name": "python",
   "nbconvert_exporter": "python",
   "pygments_lexer": "ipython3",
   "version": "3.9.12"
  }
 },
 "nbformat": 4,
 "nbformat_minor": 5
}
